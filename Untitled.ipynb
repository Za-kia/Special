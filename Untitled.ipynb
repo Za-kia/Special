{
 "cells": [
  {
   "cell_type": "code",
   "execution_count": null,
   "id": "ef01a954-bbff-4583-999a-b813f75ee527",
   "metadata": {},
   "outputs": [],
   "source": []
  }
 ],
 "metadata": {
  "kernelspec": {
   "display_name": "",
   "name": ""
  },
  "language_info": {
   "name": ""
  }
 },
 "nbformat": 4,
 "nbformat_minor": 5
}
