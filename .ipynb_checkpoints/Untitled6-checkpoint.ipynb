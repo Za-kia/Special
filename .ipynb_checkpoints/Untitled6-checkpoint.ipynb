{
 "cells": [
  {
   "cell_type": "code",
   "execution_count": 3,
   "id": "203a8483",
   "metadata": {},
   "outputs": [],
   "source": [
    "import tensorflow as tf\n",
    "import numpy as np"
   ]
  },
  {
   "cell_type": "code",
   "execution_count": 2,
   "id": "de385514",
   "metadata": {},
   "outputs": [
    {
     "name": "stdout",
     "output_type": "stream",
     "text": [
      "tf.Tensor(4, shape=(), dtype=int32)\n"
     ]
    }
   ],
   "source": [
    "tensor_zero_d= tf.constant(4)\n",
    "print(tensor_zero_d)"
   ]
  },
  {
   "cell_type": "code",
   "execution_count": 3,
   "id": "75c3105e",
   "metadata": {},
   "outputs": [
    {
     "name": "stdout",
     "output_type": "stream",
     "text": [
      "tf.Tensor([ 0.  2. -3.  8. 90.], shape=(5,), dtype=float32)\n"
     ]
    }
   ],
   "source": [
    "tensor_one_d= tf.constant([0.,2,-3,8,90], dtype = tf.float32)\n",
    "print(tensor_one_d)"
   ]
  },
  {
   "cell_type": "code",
   "execution_count": 4,
   "id": "41a347c0",
   "metadata": {},
   "outputs": [
    {
     "name": "stdout",
     "output_type": "stream",
     "text": [
      "tf.Tensor([ 0  2 -3  8 90], shape=(5,), dtype=int32)\n"
     ]
    }
   ],
   "source": [
    "tensor_one_d= tf.constant([0,2,-3,8,90])\n",
    "print(tensor_one_d)"
   ]
  },
  {
   "cell_type": "code",
   "execution_count": 5,
   "id": "49b6bb7a",
   "metadata": {},
   "outputs": [
    {
     "name": "stdout",
     "output_type": "stream",
     "text": [
      "tf.Tensor([ 0.  2. -3.  8. 90.], shape=(5,), dtype=float32)\n"
     ]
    }
   ],
   "source": [
    "tensor_one_d= tf.constant([0,2,-3,8,90], dtype = tf.float32)\n",
    "print(tensor_one_d)"
   ]
  },
  {
   "cell_type": "code",
   "execution_count": 6,
   "id": "302c0f37",
   "metadata": {},
   "outputs": [
    {
     "name": "stdout",
     "output_type": "stream",
     "text": [
      "tf.Tensor([ 0.  2. -3.  8. 90.], shape=(5,), dtype=float32)\n"
     ]
    }
   ],
   "source": [
    "tensor_one_d= tf.constant([0,2,-3,8,90.])\n",
    "print(tensor_one_d)"
   ]
  },
  {
   "cell_type": "code",
   "execution_count": 7,
   "id": "8b7d2e86",
   "metadata": {},
   "outputs": [
    {
     "name": "stdout",
     "output_type": "stream",
     "text": [
      "tf.Tensor([ 0.  2. -3.  8. 90.], shape=(5,), dtype=float32)\n",
      "tf.Tensor([ 0  2 -3  8 90], shape=(5,), dtype=int16)\n",
      "tf.Tensor([False  True  True  True  True], shape=(5,), dtype=bool)\n"
     ]
    }
   ],
   "source": [
    "tensor_one_d= tf.constant([0.,2,-3,8,90], dtype = tf.float32)\n",
    "casted_tensor_one_d=tf.cast(tensor_one_d, dtype=tf.int16)\n",
    "casted_tensor_one_2_d=tf.cast(tensor_one_d, dtype=tf.bool)\n",
    "print(tensor_one_d)\n",
    "print(casted_tensor_one_d)\n",
    "print(casted_tensor_one_2_d)"
   ]
  },
  {
   "cell_type": "code",
   "execution_count": 8,
   "id": "2c55724b",
   "metadata": {},
   "outputs": [
    {
     "name": "stdout",
     "output_type": "stream",
     "text": [
      "tf.Tensor([ True  True False], shape=(3,), dtype=bool)\n"
     ]
    }
   ],
   "source": [
    "tensor_bool= tf.constant([True, True, False])\n",
    "print(tensor_bool)"
   ]
  },
  {
   "cell_type": "code",
   "execution_count": 9,
   "id": "c7e8edd6",
   "metadata": {},
   "outputs": [
    {
     "name": "stdout",
     "output_type": "stream",
     "text": [
      "tf.Tensor(b'Hello World!', shape=(), dtype=string)\n"
     ]
    }
   ],
   "source": [
    "tensor_string= tf.constant(\"Hello World!\")\n",
    "print(tensor_string)"
   ]
  },
  {
   "cell_type": "code",
   "execution_count": 10,
   "id": "888c9a15",
   "metadata": {},
   "outputs": [
    {
     "name": "stdout",
     "output_type": "stream",
     "text": [
      "tf.Tensor([b'Hello World!' b'hi'], shape=(2,), dtype=string)\n"
     ]
    }
   ],
   "source": [
    "tensor_string= tf.constant([\"Hello World!\", \"hi\"])\n",
    "print(tensor_string)"
   ]
  },
  {
   "cell_type": "code",
   "execution_count": 11,
   "id": "f8f97def",
   "metadata": {},
   "outputs": [
    {
     "name": "stdout",
     "output_type": "stream",
     "text": [
      "tf.Tensor(\n",
      "[[ 1  2  0]\n",
      " [ 3  5 -1]\n",
      " [ 1  5  6]\n",
      " [ 2  3  8]], shape=(4, 3), dtype=int32)\n"
     ]
    }
   ],
   "source": [
    "tensor_two_d= tf.constant([\n",
    "    [1, 2, 0],\n",
    "    [3, 5, -1],\n",
    "    [1, 5, 6],\n",
    "    [2, 3, 8],\n",
    "])\n",
    "print(tensor_two_d)"
   ]
  },
  {
   "cell_type": "code",
   "execution_count": 12,
   "id": "dadac4df",
   "metadata": {},
   "outputs": [
    {
     "name": "stdout",
     "output_type": "stream",
     "text": [
      "tf.Tensor(\n",
      "[[[ 1  2  0]\n",
      "  [ 3  5 -1]]\n",
      "\n",
      " [[10  2  0]\n",
      "  [ 1  0  2]]\n",
      "\n",
      " [[ 5  8  0]\n",
      "  [ 2  7  0]]\n",
      "\n",
      " [[ 2  1  9]\n",
      "  [ 4 -3 32]]], shape=(4, 2, 3), dtype=int32)\n"
     ]
    }
   ],
   "source": [
    "tensor_three_d= tf.constant(\n",
    "[[[1, 2, 0],\n",
    " [3, 5, -1]],\n",
    "\n",
    "[[10, 2, 0],\n",
    " [1, 0, 2]],\n",
    "\n",
    "[[5, 8, 0],\n",
    " [2, 7, 0]],\n",
    "\n",
    "[[2, 1, 9],\n",
    " [4, -3, 32]],\n",
    "])\n",
    "print(tensor_three_d)"
   ]
  },
  {
   "cell_type": "code",
   "execution_count": 13,
   "id": "67d0f6fd",
   "metadata": {},
   "outputs": [
    {
     "name": "stdout",
     "output_type": "stream",
     "text": [
      "(4, 2, 3)\n",
      "(4, 3)\n",
      "(5,)\n",
      "()\n"
     ]
    }
   ],
   "source": [
    "print(tensor_three_d.shape)\n",
    "print(tensor_two_d.shape)\n",
    "print(tensor_one_d.shape)\n",
    "print(tensor_zero_d.shape)"
   ]
  },
  {
   "cell_type": "code",
   "execution_count": 15,
   "id": "2468f16b",
   "metadata": {},
   "outputs": [
    {
     "name": "stdout",
     "output_type": "stream",
     "text": [
      "3\n"
     ]
    }
   ],
   "source": [
    "print(tensor_three_d.ndim)"
   ]
  },
  {
   "cell_type": "code",
   "execution_count": 16,
   "id": "ca28d959",
   "metadata": {},
   "outputs": [
    {
     "name": "stdout",
     "output_type": "stream",
     "text": [
      "tf.Tensor(\n",
      "[[[[   1    2    0]\n",
      "   [   3    5   -1]]\n",
      "\n",
      "  [[  10    2    0]\n",
      "   [   1    0    2]]\n",
      "\n",
      "  [[   5    8    0]\n",
      "   [   2    7    0]]\n",
      "\n",
      "  [[   2    1    9]\n",
      "   [   4   -3   32]]]\n",
      "\n",
      "\n",
      " [[[  13   26    0]\n",
      "   [   3    5  -12]]\n",
      "\n",
      "  [[  10    2    0]\n",
      "   [   1    0   23]]\n",
      "\n",
      "  [[   5    8    0]\n",
      "   [   2   73    0]]\n",
      "\n",
      "  [[   2    1    9]\n",
      "   [   4  -30   32]]]\n",
      "\n",
      "\n",
      " [[[ 103   26    0]\n",
      "   [   3   50  -12]]\n",
      "\n",
      "  [[ 100    2    0]\n",
      "   [   1    0   23]]\n",
      "\n",
      "  [[   5   28    0]\n",
      "   [   2    3    0]]\n",
      "\n",
      "  [[  22    1    9]\n",
      "   [  44 -320   32]]]], shape=(3, 4, 2, 3), dtype=int32)\n"
     ]
    }
   ],
   "source": [
    "tensor_four_d= tf.constant([\n",
    "    [\n",
    "    [[1, 2, 0],\n",
    "      [3, 5, -1]],\n",
    "\n",
    "    [[10, 2, 0],\n",
    "      [1, 0, 2]],\n",
    "\n",
    "    [[5, 8, 0],\n",
    "      [2, 7, 0]],\n",
    "\n",
    "    [[2, 1, 9],\n",
    "      [4, -3, 32]]\n",
    "],\n",
    "\n",
    "[\n",
    "    [[13, 26, 0],\n",
    "      [3, 5, -12]],\n",
    "\n",
    "    [[10, 2, 0],\n",
    "      [1, 0, 23]],\n",
    "\n",
    "    [[5, 8, 0],\n",
    "      [2, 73, 0]],\n",
    "\n",
    "    [[2, 1, 9],\n",
    "      [4, -30, 32]]\n",
    "],\n",
    "\n",
    "[\n",
    "    [[103, 26, 0],\n",
    "      [3, 50, -12]],\n",
    "\n",
    "   [[100, 2, 0],\n",
    "      [1, 0, 23]],\n",
    "\n",
    "   [[5, 28, 0],\n",
    "      [2, 3, 0]],\n",
    "\n",
    "   [[22, 1, 9],\n",
    "      [44, -320, 32]]\n",
    "],\n",
    "])\n",
    "print(tensor_four_d)"
   ]
  },
  {
   "cell_type": "code",
   "execution_count": 17,
   "id": "2fbd45b2",
   "metadata": {},
   "outputs": [
    {
     "name": "stdout",
     "output_type": "stream",
     "text": [
      "[1 2 4]\n"
     ]
    }
   ],
   "source": [
    "np_array = np.array([1, 2, 4])\n",
    "print(np_array)"
   ]
  },
  {
   "cell_type": "code",
   "execution_count": 18,
   "id": "bdfb64c5",
   "metadata": {},
   "outputs": [
    {
     "name": "stdout",
     "output_type": "stream",
     "text": [
      "tf.Tensor([1 2 4], shape=(3,), dtype=int32)\n"
     ]
    }
   ],
   "source": [
    "converted_tensor = tf.convert_to_tensor(np_array)\n",
    "print(converted_tensor)"
   ]
  },
  {
   "cell_type": "code",
   "execution_count": 19,
   "id": "8373b54d",
   "metadata": {},
   "outputs": [
    {
     "name": "stdout",
     "output_type": "stream",
     "text": [
      "tf.Tensor(\n",
      "[[1. 0. 0.]\n",
      " [0. 1. 0.]\n",
      " [0. 0. 1.]], shape=(3, 3), dtype=float32)\n"
     ]
    }
   ],
   "source": [
    "eye_tensor = tf.eye(\n",
    "    num_rows=3,\n",
    "    num_columns=None,\n",
    "    batch_shape = None,\n",
    "    dtype=tf.dtypes.float32,\n",
    "    name=None\n",
    ")\n",
    "print(eye_tensor)"
   ]
  },
  {
   "cell_type": "code",
   "execution_count": 20,
   "id": "6694b7f7",
   "metadata": {},
   "outputs": [
    {
     "name": "stdout",
     "output_type": "stream",
     "text": [
      "tf.Tensor(\n",
      "[[1. 0. 0.]\n",
      " [0. 1. 0.]\n",
      " [0. 0. 1.]], shape=(3, 3), dtype=float16)\n"
     ]
    }
   ],
   "source": [
    "eye_tensor = tf.eye(\n",
    "    num_rows=3,\n",
    "    num_columns=None,\n",
    "    batch_shape = None,\n",
    "    dtype=tf.dtypes.float16,\n",
    "    name=None\n",
    ")\n",
    "print(eye_tensor)"
   ]
  },
  {
   "cell_type": "code",
   "execution_count": 21,
   "id": "2a87093b",
   "metadata": {},
   "outputs": [
    {
     "name": "stdout",
     "output_type": "stream",
     "text": [
      "tf.Tensor(\n",
      "[[ True False False]\n",
      " [False  True False]\n",
      " [False False  True]], shape=(3, 3), dtype=bool)\n"
     ]
    }
   ],
   "source": [
    "eye_tensor = tf.eye(\n",
    "    num_rows=3,\n",
    "    num_columns=None,\n",
    "    batch_shape = None,\n",
    "    dtype=tf.dtypes.bool,\n",
    "    name=None\n",
    ")\n",
    "print(eye_tensor)"
   ]
  },
  {
   "cell_type": "code",
   "execution_count": 22,
   "id": "d40d81d0",
   "metadata": {},
   "outputs": [
    {
     "name": "stdout",
     "output_type": "stream",
     "text": [
      "tf.Tensor(\n",
      "[[1. 0. 0.]\n",
      " [0. 1. 0.]\n",
      " [0. 0. 1.]\n",
      " [0. 0. 0.]\n",
      " [0. 0. 0.]], shape=(5, 3), dtype=float32)\n"
     ]
    }
   ],
   "source": [
    "eye_tensor = tf.eye(\n",
    "    num_rows=5,\n",
    "    num_columns=3,\n",
    "    batch_shape = None,\n",
    "    dtype=tf.dtypes.float32,\n",
    "    name=None\n",
    ")\n",
    "print(eye_tensor)"
   ]
  },
  {
   "cell_type": "code",
   "execution_count": 23,
   "id": "d5517a42",
   "metadata": {},
   "outputs": [
    {
     "name": "stdout",
     "output_type": "stream",
     "text": [
      "tf.Tensor(\n",
      "[[[1. 0. 0. 0. 0.]\n",
      "  [0. 1. 0. 0. 0.]\n",
      "  [0. 0. 1. 0. 0.]\n",
      "  [0. 0. 0. 1. 0.]\n",
      "  [0. 0. 0. 0. 1.]]\n",
      "\n",
      " [[1. 0. 0. 0. 0.]\n",
      "  [0. 1. 0. 0. 0.]\n",
      "  [0. 0. 1. 0. 0.]\n",
      "  [0. 0. 0. 1. 0.]\n",
      "  [0. 0. 0. 0. 1.]]\n",
      "\n",
      " [[1. 0. 0. 0. 0.]\n",
      "  [0. 1. 0. 0. 0.]\n",
      "  [0. 0. 1. 0. 0.]\n",
      "  [0. 0. 0. 1. 0.]\n",
      "  [0. 0. 0. 0. 1.]]], shape=(3, 5, 5), dtype=float32)\n"
     ]
    }
   ],
   "source": [
    "eye_tensor = tf.eye(\n",
    "    num_rows=5,\n",
    "    num_columns=None,\n",
    "    batch_shape = [3,],\n",
    "    dtype=tf.dtypes.float32,\n",
    "    name=None\n",
    ")\n",
    "print(eye_tensor)"
   ]
  },
  {
   "cell_type": "code",
   "execution_count": 24,
   "id": "e9c33b41",
   "metadata": {},
   "outputs": [
    {
     "name": "stdout",
     "output_type": "stream",
     "text": [
      "tf.Tensor(\n",
      "[[[1. 0. 0. 0. 0.]\n",
      "  [0. 1. 0. 0. 0.]\n",
      "  [0. 0. 1. 0. 0.]\n",
      "  [0. 0. 0. 1. 0.]\n",
      "  [0. 0. 0. 0. 1.]]\n",
      "\n",
      " [[1. 0. 0. 0. 0.]\n",
      "  [0. 1. 0. 0. 0.]\n",
      "  [0. 0. 1. 0. 0.]\n",
      "  [0. 0. 0. 1. 0.]\n",
      "  [0. 0. 0. 0. 1.]]], shape=(2, 5, 5), dtype=float32)\n"
     ]
    }
   ],
   "source": [
    "eye_tensor = tf.eye(\n",
    "    num_rows=5,\n",
    "    num_columns=None,\n",
    "    batch_shape = [2,],\n",
    "    dtype=tf.dtypes.float32,\n",
    "    name=None\n",
    ")\n",
    "print(eye_tensor)"
   ]
  },
  {
   "cell_type": "code",
   "execution_count": 25,
   "id": "0d6f5be0",
   "metadata": {},
   "outputs": [
    {
     "name": "stdout",
     "output_type": "stream",
     "text": [
      "tf.Tensor(\n",
      "[[[[1. 0. 0. 0. 0.]\n",
      "   [0. 1. 0. 0. 0.]\n",
      "   [0. 0. 1. 0. 0.]\n",
      "   [0. 0. 0. 1. 0.]\n",
      "   [0. 0. 0. 0. 1.]]\n",
      "\n",
      "  [[1. 0. 0. 0. 0.]\n",
      "   [0. 1. 0. 0. 0.]\n",
      "   [0. 0. 1. 0. 0.]\n",
      "   [0. 0. 0. 1. 0.]\n",
      "   [0. 0. 0. 0. 1.]]\n",
      "\n",
      "  [[1. 0. 0. 0. 0.]\n",
      "   [0. 1. 0. 0. 0.]\n",
      "   [0. 0. 1. 0. 0.]\n",
      "   [0. 0. 0. 1. 0.]\n",
      "   [0. 0. 0. 0. 1.]]\n",
      "\n",
      "  [[1. 0. 0. 0. 0.]\n",
      "   [0. 1. 0. 0. 0.]\n",
      "   [0. 0. 1. 0. 0.]\n",
      "   [0. 0. 0. 1. 0.]\n",
      "   [0. 0. 0. 0. 1.]]]\n",
      "\n",
      "\n",
      " [[[1. 0. 0. 0. 0.]\n",
      "   [0. 1. 0. 0. 0.]\n",
      "   [0. 0. 1. 0. 0.]\n",
      "   [0. 0. 0. 1. 0.]\n",
      "   [0. 0. 0. 0. 1.]]\n",
      "\n",
      "  [[1. 0. 0. 0. 0.]\n",
      "   [0. 1. 0. 0. 0.]\n",
      "   [0. 0. 1. 0. 0.]\n",
      "   [0. 0. 0. 1. 0.]\n",
      "   [0. 0. 0. 0. 1.]]\n",
      "\n",
      "  [[1. 0. 0. 0. 0.]\n",
      "   [0. 1. 0. 0. 0.]\n",
      "   [0. 0. 1. 0. 0.]\n",
      "   [0. 0. 0. 1. 0.]\n",
      "   [0. 0. 0. 0. 1.]]\n",
      "\n",
      "  [[1. 0. 0. 0. 0.]\n",
      "   [0. 1. 0. 0. 0.]\n",
      "   [0. 0. 1. 0. 0.]\n",
      "   [0. 0. 0. 1. 0.]\n",
      "   [0. 0. 0. 0. 1.]]]], shape=(2, 4, 5, 5), dtype=float32)\n"
     ]
    }
   ],
   "source": [
    "eye_tensor = tf.eye(\n",
    "    num_rows=5,\n",
    "    num_columns=None,\n",
    "    batch_shape = [2,4],\n",
    "    dtype=tf.dtypes.float32,\n",
    "    name=None\n",
    ")\n",
    "print(eye_tensor)"
   ]
  },
  {
   "cell_type": "code",
   "execution_count": 26,
   "id": "20e568a7",
   "metadata": {},
   "outputs": [
    {
     "name": "stdout",
     "output_type": "stream",
     "text": [
      "tf.Tensor(\n",
      "[[5 5 5 5]\n",
      " [5 5 5 5]\n",
      " [5 5 5 5]], shape=(3, 4), dtype=int32)\n"
     ]
    }
   ],
   "source": [
    "fill_tensor=tf.fill(\n",
    "    [3, 4], 5, name=None\n",
    ")\n",
    "print(fill_tensor)"
   ]
  },
  {
   "cell_type": "code",
   "execution_count": 27,
   "id": "26310f81",
   "metadata": {},
   "outputs": [
    {
     "name": "stdout",
     "output_type": "stream",
     "text": [
      "tf.Tensor(\n",
      "[[[5 5 5 5]\n",
      "  [5 5 5 5]\n",
      "  [5 5 5 5]]], shape=(1, 3, 4), dtype=int32)\n"
     ]
    }
   ],
   "source": [
    "fill_tensor=tf.fill(\n",
    "    [1, 3, 4], 5, name=None\n",
    ")\n",
    "print(fill_tensor)"
   ]
  },
  {
   "cell_type": "code",
   "execution_count": 28,
   "id": "55d7bcde",
   "metadata": {},
   "outputs": [
    {
     "name": "stdout",
     "output_type": "stream",
     "text": [
      "tf.Tensor(\n",
      "[[1. 1. 1.]\n",
      " [1. 1. 1.]\n",
      " [1. 1. 1.]\n",
      " [1. 1. 1.]\n",
      " [1. 1. 1.]], shape=(5, 3), dtype=float32)\n"
     ]
    }
   ],
   "source": [
    "ones_tensor=tf.ones(\n",
    "    [5, 3],\n",
    "    dtype = tf.dtypes.float32,\n",
    "    name=None\n",
    ")\n",
    "print(ones_tensor)"
   ]
  },
  {
   "cell_type": "code",
   "execution_count": 29,
   "id": "4373ee8d",
   "metadata": {},
   "outputs": [
    {
     "name": "stdout",
     "output_type": "stream",
     "text": [
      "tf.Tensor(\n",
      "[[[1. 1.]\n",
      "  [1. 1.]\n",
      "  [1. 1.]]\n",
      "\n",
      " [[1. 1.]\n",
      "  [1. 1.]\n",
      "  [1. 1.]]\n",
      "\n",
      " [[1. 1.]\n",
      "  [1. 1.]\n",
      "  [1. 1.]]\n",
      "\n",
      " [[1. 1.]\n",
      "  [1. 1.]\n",
      "  [1. 1.]]\n",
      "\n",
      " [[1. 1.]\n",
      "  [1. 1.]\n",
      "  [1. 1.]]], shape=(5, 3, 2), dtype=float32)\n"
     ]
    }
   ],
   "source": [
    "ones_tensor=tf.ones(\n",
    "    [5, 3, 2],\n",
    "    dtype = tf.dtypes.float32,\n",
    "    name=None\n",
    ")\n",
    "print(ones_tensor)"
   ]
  },
  {
   "cell_type": "code",
   "execution_count": 30,
   "id": "9e5fae8a",
   "metadata": {},
   "outputs": [
    {
     "name": "stdout",
     "output_type": "stream",
     "text": [
      "tf.Tensor(\n",
      "[[[1 1 1 1]\n",
      "  [1 1 1 1]\n",
      "  [1 1 1 1]]], shape=(1, 3, 4), dtype=int32)\n"
     ]
    }
   ],
   "source": [
    "ones_like_tensor= tf.ones_like(fill_tensor)\n",
    "print(ones_like_tensor)"
   ]
  },
  {
   "cell_type": "code",
   "execution_count": 31,
   "id": "143c549c",
   "metadata": {},
   "outputs": [
    {
     "name": "stdout",
     "output_type": "stream",
     "text": [
      "tf.Tensor(\n",
      "[[0. 0.]\n",
      " [0. 0.]\n",
      " [0. 0.]], shape=(3, 2), dtype=float32)\n"
     ]
    }
   ],
   "source": [
    "zeros_tensor=tf.zeros(\n",
    "    [3, 2],\n",
    "    dtype = tf.dtypes.float32,\n",
    "    name=None\n",
    ")\n",
    "print(zeros_tensor)"
   ]
  },
  {
   "cell_type": "code",
   "execution_count": 32,
   "id": "beecce63",
   "metadata": {},
   "outputs": [
    {
     "name": "stdout",
     "output_type": "stream",
     "text": [
      "tf.Tensor(\n",
      "[[[0 0 0 0]\n",
      "  [0 0 0 0]\n",
      "  [0 0 0 0]]], shape=(1, 3, 4), dtype=int32)\n"
     ]
    }
   ],
   "source": [
    "zeros_like_tensor= tf.zeros_like(fill_tensor)\n",
    "print(zeros_like_tensor)"
   ]
  },
  {
   "cell_type": "code",
   "execution_count": 33,
   "id": "931c4542",
   "metadata": {},
   "outputs": [
    {
     "name": "stdout",
     "output_type": "stream",
     "text": [
      "tf.Tensor([4 2 3], shape=(3,), dtype=int32)\n"
     ]
    }
   ],
   "source": [
    "print(tf.shape(tensor_three_d))"
   ]
  },
  {
   "cell_type": "code",
   "execution_count": 34,
   "id": "95e8e0ae",
   "metadata": {},
   "outputs": [
    {
     "data": {
      "text/plain": [
       "<tf.Tensor: shape=(), dtype=int32, numpy=3>"
      ]
     },
     "execution_count": 34,
     "metadata": {},
     "output_type": "execute_result"
    }
   ],
   "source": [
    "#shape of tensor \"t\" is [2, 2, 3]\n",
    "t = tf.constant([[[1, 1, 1],[2, 2, 2]], [[3, 3, 3], [4, 4, 4]]])\n",
    "tf.rank(t)   #3"
   ]
  },
  {
   "cell_type": "code",
   "execution_count": 35,
   "id": "ff62339a",
   "metadata": {},
   "outputs": [
    {
     "data": {
      "text/plain": [
       "<tf.Tensor: shape=(), dtype=int32, numpy=2>"
      ]
     },
     "execution_count": 35,
     "metadata": {},
     "output_type": "execute_result"
    }
   ],
   "source": [
    "#shape of tensor \"t\" is [2, 2, 3]\n",
    "t = tf.constant([[1, 1, 1],[2, 2, 2]])\n",
    "tf.rank(t)   #2"
   ]
  },
  {
   "cell_type": "code",
   "execution_count": 36,
   "id": "dcab3981",
   "metadata": {},
   "outputs": [
    {
     "data": {
      "text/plain": [
       "<tf.Tensor: shape=(), dtype=int32, numpy=12>"
      ]
     },
     "execution_count": 36,
     "metadata": {},
     "output_type": "execute_result"
    }
   ],
   "source": [
    "t = tf.constant([[[1, 1, 1],[2, 2, 2]], [[3, 3, 3], [4, 4, 4]]])\n",
    "tf.size(t)"
   ]
  },
  {
   "cell_type": "code",
   "execution_count": 37,
   "id": "c4e653b6",
   "metadata": {},
   "outputs": [
    {
     "data": {
      "text/plain": [
       "<tf.Tensor: shape=(), dtype=int32, numpy=6>"
      ]
     },
     "execution_count": 37,
     "metadata": {},
     "output_type": "execute_result"
    }
   ],
   "source": [
    "t = tf.constant([[1, 1, 1],[2, 2, 2]],)\n",
    "tf.size(t)"
   ]
  },
  {
   "cell_type": "code",
   "execution_count": 38,
   "id": "867acaca",
   "metadata": {},
   "outputs": [
    {
     "data": {
      "text/plain": [
       "<tf.Tensor: shape=(), dtype=float32, numpy=6.0>"
      ]
     },
     "execution_count": 38,
     "metadata": {},
     "output_type": "execute_result"
    }
   ],
   "source": [
    "t = tf.constant([[1, 1, 1],[2, 2, 2]],)\n",
    "tf.size(t, out_type= tf.float32)"
   ]
  },
  {
   "cell_type": "code",
   "execution_count": 39,
   "id": "03cf0c24",
   "metadata": {},
   "outputs": [
    {
     "name": "stdout",
     "output_type": "stream",
     "text": [
      "tf.Tensor(\n",
      "[[-1.951814    0.7744367 ]\n",
      " [-0.85951585 -1.0792779 ]\n",
      " [ 0.46766892 -0.56858104]], shape=(3, 2), dtype=float32)\n"
     ]
    }
   ],
   "source": [
    "random_tensor = tf.random.normal(\n",
    "    [3, 2],\n",
    "    mean=0.0,\n",
    "    stddev=1.0,\n",
    "    dtype = tf.dtypes.float32,\n",
    "    seed = None,\n",
    "    name = None\n",
    ")\n",
    "print(random_tensor)"
   ]
  },
  {
   "cell_type": "code",
   "execution_count": 40,
   "id": "8485a8c2",
   "metadata": {},
   "outputs": [
    {
     "name": "stdout",
     "output_type": "stream",
     "text": [
      "tf.Tensor(\n",
      "[[100.55896  101.524925]\n",
      " [101.770706 100.5923  ]\n",
      " [100.94477  100.96952 ]], shape=(3, 2), dtype=float32)\n"
     ]
    }
   ],
   "source": [
    "random_tensor = tf.random.normal(\n",
    "    [3, 2],\n",
    "    mean=100.0,\n",
    "    stddev=1.0,\n",
    "    dtype = tf.dtypes.float32,\n",
    "    seed = None,\n",
    "    name = None\n",
    ")\n",
    "print(random_tensor)"
   ]
  },
  {
   "cell_type": "code",
   "execution_count": 41,
   "id": "c809669a",
   "metadata": {},
   "outputs": [
    {
     "name": "stdout",
     "output_type": "stream",
     "text": [
      "tf.Tensor([0.32154], shape=(1,), dtype=float32)\n"
     ]
    }
   ],
   "source": [
    "random_tensor = tf.random.uniform(\n",
    "    [1,],\n",
    "    minval=0,\n",
    "    maxval=None,\n",
    "    dtype = tf.dtypes.float32,\n",
    "    seed = None,\n",
    "    name = None\n",
    ")\n",
    "print(random_tensor)"
   ]
  },
  {
   "cell_type": "code",
   "execution_count": 42,
   "id": "add57b27",
   "metadata": {},
   "outputs": [
    {
     "name": "stdout",
     "output_type": "stream",
     "text": [
      "tf.Tensor([0.47770178 0.18938744 0.99122274 0.6599356  0.7692429 ], shape=(5,), dtype=float32)\n"
     ]
    }
   ],
   "source": [
    "random_tensor = tf.random.uniform(\n",
    "    [5,],\n",
    "    minval=0,\n",
    "    maxval=None,\n",
    "    dtype = tf.dtypes.float32,\n",
    "    seed = None,\n",
    "    name = None\n",
    ")\n",
    "print(random_tensor)"
   ]
  },
  {
   "cell_type": "code",
   "execution_count": 43,
   "id": "0ed26844",
   "metadata": {},
   "outputs": [
    {
     "name": "stdout",
     "output_type": "stream",
     "text": [
      "tf.Tensor([0.8083544 4.6079636 5.5501432 5.2813454 7.720951 ], shape=(5,), dtype=float32)\n"
     ]
    }
   ],
   "source": [
    "random_tensor = tf.random.uniform(\n",
    "    [5,],\n",
    "    minval=0,\n",
    "    maxval=8,\n",
    "    dtype = tf.dtypes.float32,\n",
    "    seed = None,\n",
    "    name = None\n",
    ")\n",
    "print(random_tensor)"
   ]
  },
  {
   "cell_type": "code",
   "execution_count": 44,
   "id": "46cac700",
   "metadata": {},
   "outputs": [
    {
     "name": "stdout",
     "output_type": "stream",
     "text": [
      "tf.Tensor([35.114838 71.407196 61.67327  56.03547  55.481625], shape=(5,), dtype=float32)\n"
     ]
    }
   ],
   "source": [
    "random_tensor = tf.random.uniform(\n",
    "    [5,],\n",
    "    minval=0,\n",
    "    maxval=100,\n",
    "    dtype = tf.dtypes.float32,\n",
    "    seed = None,\n",
    "    name = None\n",
    ")\n",
    "print(random_tensor)"
   ]
  },
  {
   "cell_type": "code",
   "execution_count": 45,
   "id": "518c8d24",
   "metadata": {},
   "outputs": [
    {
     "name": "stdout",
     "output_type": "stream",
     "text": [
      "tf.Tensor([ 82 594 663 710 994], shape=(5,), dtype=int32)\n"
     ]
    }
   ],
   "source": [
    "random_tensor = tf.random.uniform(\n",
    "    [5,],\n",
    "    minval=0,\n",
    "    maxval=1000,\n",
    "    dtype = tf.dtypes.int32,\n",
    "    seed = None,\n",
    "    name = None\n",
    ")\n",
    "print(random_tensor)"
   ]
  },
  {
   "cell_type": "code",
   "execution_count": 46,
   "id": "6648abf2",
   "metadata": {},
   "outputs": [
    {
     "name": "stdout",
     "output_type": "stream",
     "text": [
      "tf.Tensor(\n",
      "[[630  38 844  57 195]\n",
      " [404 874 543 377 533]\n",
      " [760 829 536 436 765]\n",
      " [816 678 621 949 504]\n",
      " [367  47  32 817 841]], shape=(5, 5), dtype=int32)\n"
     ]
    }
   ],
   "source": [
    "random_tensor = tf.random.uniform(\n",
    "    [5,5],\n",
    "    minval=0,\n",
    "    maxval=1000,\n",
    "    dtype = tf.dtypes.int32,\n",
    "    seed = None,\n",
    "    name = None\n",
    ")\n",
    "print(random_tensor)"
   ]
  },
  {
   "cell_type": "code",
   "execution_count": 47,
   "id": "023a5f73",
   "metadata": {},
   "outputs": [
    {
     "name": "stdout",
     "output_type": "stream",
     "text": [
      "tf.Tensor([4 3 1], shape=(3,), dtype=int32)\n",
      "tf.Tensor([4 3 2], shape=(3,), dtype=int32)\n",
      "tf.Tensor([1 1 1], shape=(3,), dtype=int32)\n",
      "tf.Tensor([1 3 3], shape=(3,), dtype=int32)\n"
     ]
    }
   ],
   "source": [
    "tf.random.set_seed(5)\n",
    "print(tf.random.uniform(shape=[3,], maxval=5, dtype = tf.dtypes.int32, seed = 10))\n",
    "print(tf.random.uniform(shape=[3,], maxval=5, dtype = tf.dtypes.int32, seed = 10))\n",
    "print(tf.random.uniform(shape=[3,], maxval=5, dtype = tf.dtypes.int32, seed = 10))\n",
    "print(tf.random.uniform(shape=[3,], maxval=5, dtype = tf.dtypes.int32, seed = 10))"
   ]
  },
  {
   "cell_type": "code",
   "execution_count": 48,
   "id": "dd7e8f88",
   "metadata": {},
   "outputs": [
    {
     "name": "stdout",
     "output_type": "stream",
     "text": [
      "tf.Tensor([4 3 1], shape=(3,), dtype=int32)\n",
      "tf.Tensor([4 3 2], shape=(3,), dtype=int32)\n",
      "tf.Tensor([1 1 1], shape=(3,), dtype=int32)\n",
      "tf.Tensor([1 3 3], shape=(3,), dtype=int32)\n"
     ]
    }
   ],
   "source": [
    "tf.random.set_seed(5)\n",
    "print(tf.random.uniform(shape=[3,], maxval=5, dtype = tf.dtypes.int32, seed = 10))\n",
    "print(tf.random.uniform(shape=[3,], maxval=5, dtype = tf.dtypes.int32, seed = 10))\n",
    "print(tf.random.uniform(shape=[3,], maxval=5, dtype = tf.dtypes.int32, seed = 10))\n",
    "print(tf.random.uniform(shape=[3,], maxval=5, dtype = tf.dtypes.int32, seed = 10))"
   ]
  },
  {
   "cell_type": "code",
   "execution_count": 49,
   "id": "656f3886",
   "metadata": {},
   "outputs": [
    {
     "name": "stdout",
     "output_type": "stream",
     "text": [
      "tf.Tensor([4 3 1], shape=(3,), dtype=int32)\n",
      "tf.Tensor([4 3 2], shape=(3,), dtype=int32)\n",
      "tf.Tensor([1 1 1], shape=(3,), dtype=int32)\n",
      "tf.Tensor([4 1 3], shape=(3,), dtype=int32)\n"
     ]
    }
   ],
   "source": [
    "tf.random.set_seed(5)\n",
    "print(tf.random.uniform(shape=[3,], maxval=5, dtype = tf.dtypes.int32, seed = 10))\n",
    "print(tf.random.uniform(shape=[3,], maxval=5, dtype = tf.dtypes.int32, seed = 10))\n",
    "print(tf.random.uniform(shape=[3,], maxval=5, dtype = tf.dtypes.int32, seed = 10))\n",
    "print(tf.random.uniform(shape=[3,], maxval=5, dtype = tf.dtypes.int32, seed = 1))"
   ]
  },
  {
   "cell_type": "code",
   "execution_count": 50,
   "id": "867a68b5",
   "metadata": {},
   "outputs": [
    {
     "name": "stdout",
     "output_type": "stream",
     "text": [
      "tf.Tensor([1 3 3], shape=(3,), dtype=int32)\n",
      "tf.Tensor([4 2 2], shape=(3,), dtype=int32)\n",
      "tf.Tensor([4 2 1], shape=(3,), dtype=int32)\n",
      "tf.Tensor([4 1 0], shape=(3,), dtype=int32)\n"
     ]
    }
   ],
   "source": [
    "print(tf.random.uniform(shape=[3,], maxval=5, dtype = tf.dtypes.int32, seed = 10))\n",
    "print(tf.random.uniform(shape=[3,], maxval=5, dtype = tf.dtypes.int32, seed = 10))\n",
    "print(tf.random.uniform(shape=[3,], maxval=5, dtype = tf.dtypes.int32, seed = 10))\n",
    "print(tf.random.uniform(shape=[3,], maxval=5, dtype = tf.dtypes.int32, seed = 10))"
   ]
  },
  {
   "cell_type": "code",
   "execution_count": 51,
   "id": "4b370f12",
   "metadata": {},
   "outputs": [
    {
     "name": "stdout",
     "output_type": "stream",
     "text": [
      "tf.Tensor([ 3  6  2  4  6 66  7], shape=(7,), dtype=int32)\n",
      "tf.Tensor([ 3  6  2  4  6 66  7], shape=(7,), dtype=int32)\n",
      "tf.Tensor([3 6 2 4], shape=(4,), dtype=int32)\n",
      "tf.Tensor([3 6 2 4], shape=(4,), dtype=int32)\n",
      "tf.Tensor([ 4  6 66  7], shape=(4,), dtype=int32)\n",
      "tf.Tensor([ 4  6 66], shape=(3,), dtype=int32)\n",
      "tf.Tensor([4], shape=(1,), dtype=int32)\n",
      "tf.Tensor([], shape=(0,), dtype=int32)\n",
      "tf.Tensor([3 6 2 4 6], shape=(5,), dtype=int32)\n",
      "tf.Tensor([ 3  6  2  4  6 66], shape=(6,), dtype=int32)\n",
      "tf.Tensor([ 3  6  2  4  6 66], shape=(6,), dtype=int32)\n",
      "tf.Tensor([3 2 6], shape=(3,), dtype=int32)\n"
     ]
    }
   ],
   "source": [
    "tensor_indexed = tf.constant([3, 6, 2, 4, 6, 66, 7])\n",
    "print(tensor_indexed)\n",
    "print(tensor_indexed[:])\n",
    "print(tensor_indexed[0:4])\n",
    "print(tensor_indexed[:4])\n",
    "print(tensor_indexed[3:])\n",
    "print(tensor_indexed[3:-1])\n",
    "print(tensor_indexed[3:-3])\n",
    "print(tensor_indexed[3:-4])\n",
    "print(tensor_indexed[0:5])\n",
    "print(tensor_indexed[0:5+1])\n",
    "print(tensor_indexed[0:6])\n",
    "print(tensor_indexed[0:6:2])"
   ]
  },
  {
   "cell_type": "code",
   "execution_count": 52,
   "id": "07289e90",
   "metadata": {},
   "outputs": [
    {
     "data": {
      "text/plain": [
       "<tf.Tensor: shape=(4,), dtype=int32, numpy=array([2, 3, 4, 5])>"
      ]
     },
     "execution_count": 52,
     "metadata": {},
     "output_type": "execute_result"
    }
   ],
   "source": [
    "tf.range(2,6)"
   ]
  },
  {
   "cell_type": "code",
   "execution_count": 53,
   "id": "f06673c6",
   "metadata": {},
   "outputs": [
    {
     "name": "stdout",
     "output_type": "stream",
     "text": [
      "tf.Tensor(\n",
      "[[1 2]\n",
      " [3 5]\n",
      " [1 5]], shape=(3, 2), dtype=int32)\n",
      "*********************************************************\n",
      "tf.Tensor(\n",
      "[[ 1  2  0]\n",
      " [ 3  5 -1]\n",
      " [ 1  5  6]], shape=(3, 3), dtype=int32)\n",
      "*********************************************************\n",
      "tf.Tensor([1 5 6], shape=(3,), dtype=int32)\n",
      "*********************************************************\n",
      "tf.Tensor(1, shape=(), dtype=int32)\n",
      "*********************************************************\n",
      "tf.Tensor([5 6], shape=(2,), dtype=int32)\n",
      "*********************************************************\n",
      "tf.Tensor([1 3 1 2], shape=(4,), dtype=int32)\n",
      "*********************************************************\n",
      "tf.Tensor([3 1], shape=(2,), dtype=int32)\n",
      "*********************************************************\n",
      "tf.Tensor([2 5 5 3], shape=(4,), dtype=int32)\n",
      "*********************************************************\n",
      "tf.Tensor([2 5 5 3], shape=(4,), dtype=int32)\n"
     ]
    }
   ],
   "source": [
    "tensor_two_d= tf.constant([\n",
    "    [1, 2, 0],\n",
    "    [3, 5, -1],\n",
    "    [1, 5, 6],\n",
    "    [2, 3, 8],\n",
    "])\n",
    "print(tensor_two_d[0:3,0:2])\n",
    "print(\"*********************************************************\")\n",
    "print(tensor_two_d[0:3,:])\n",
    "print(\"*********************************************************\")\n",
    "print(tensor_two_d[2,:])\n",
    "print(\"*********************************************************\")\n",
    "print(tensor_two_d[2,0])\n",
    "print(\"*********************************************************\")\n",
    "print(tensor_two_d[2,1:])\n",
    "print(\"*********************************************************\")\n",
    "print(tensor_two_d[:,0])\n",
    "print(\"*********************************************************\")\n",
    "print(tensor_two_d[1:3,0])\n",
    "print(\"*********************************************************\")\n",
    "print(tensor_two_d[:,1])\n",
    "print(\"*********************************************************\")\n",
    "print(tensor_two_d[...,1])"
   ]
  },
  {
   "cell_type": "code",
   "execution_count": 54,
   "id": "47c2b44f",
   "metadata": {},
   "outputs": [
    {
     "name": "stdout",
     "output_type": "stream",
     "text": [
      "tf.Tensor(\n",
      "[[ 1  2  0]\n",
      " [ 3  5 -1]], shape=(2, 3), dtype=int32)\n",
      "*********************************************************\n",
      "tf.Tensor([1 2 0], shape=(3,), dtype=int32)\n",
      "*********************************************************\n",
      "tf.Tensor([ 0 -1], shape=(2,), dtype=int32)\n",
      "*********************************************************\n",
      "tf.Tensor([ 0 -1], shape=(2,), dtype=int32)\n",
      "*********************************************************\n",
      "tf.Tensor(\n",
      "[[ 0 -1]\n",
      " [ 0  2]], shape=(2, 2), dtype=int32)\n",
      "*********************************************************\n",
      "tf.Tensor(\n",
      "[[ 0 -1]\n",
      " [ 0  2]], shape=(2, 2), dtype=int32)\n",
      "*********************************************************\n",
      "tf.Tensor(\n",
      "[[ 0 -1]\n",
      " [ 0  2]\n",
      " [ 0  0]\n",
      " [ 9 32]], shape=(4, 2), dtype=int32)\n"
     ]
    }
   ],
   "source": [
    "tensor_three_d= tf.constant(\n",
    "                             [[[1, 2, 0],\n",
    "                             [3, 5, -1]],\n",
    "\n",
    "                             [[10, 2, 0],\n",
    "                               [1, 0, 2]],\n",
    "\n",
    "                            [[5, 8, 0],\n",
    "                              [2, 7, 0]],\n",
    "\n",
    "                            [[2, 1, 9],\n",
    "                             [4, -3, 32]],\n",
    "])\n",
    "print(tensor_three_d[ 0, :, :])\n",
    "print(\"*********************************************************\")\n",
    "print(tensor_three_d[ 0, 0, :])\n",
    "print(\"*********************************************************\")\n",
    "print(tensor_three_d[ 0, :, -1])\n",
    "print(\"*********************************************************\")\n",
    "print(tensor_three_d[ 0, :, 2])\n",
    "print(\"*********************************************************\")\n",
    "print(tensor_three_d[ 0:2, :, 2])\n",
    "print(\"*********************************************************\")\n",
    "print(tensor_three_d[ 0:2, ..., 2])\n",
    "print(\"*********************************************************\")\n",
    "print(tensor_three_d[ ..., :, 2])"
   ]
  },
  {
   "cell_type": "code",
   "execution_count": 55,
   "id": "9d117c4b",
   "metadata": {},
   "outputs": [
    {
     "data": {
      "text/plain": [
       "<tf.Tensor: shape=(2,), dtype=float32, numpy=array([2.25, 3.25], dtype=float32)>"
      ]
     },
     "execution_count": 55,
     "metadata": {},
     "output_type": "execute_result"
    }
   ],
   "source": [
    "x_abs = tf.constant([-2.25, 3.25])\n",
    "tf.abs(x_abs)"
   ]
  },
  {
   "cell_type": "code",
   "execution_count": 56,
   "id": "fb937f8c",
   "metadata": {},
   "outputs": [
    {
     "data": {
      "text/plain": [
       "<tf.Tensor: shape=(), dtype=float32, numpy=0.2>"
      ]
     },
     "execution_count": 56,
     "metadata": {},
     "output_type": "execute_result"
    }
   ],
   "source": [
    "tf.abs(tf.constant(0.2))"
   ]
  },
  {
   "cell_type": "code",
   "execution_count": 57,
   "id": "39737d9b",
   "metadata": {},
   "outputs": [
    {
     "data": {
      "text/plain": [
       "<tf.Tensor: shape=(), dtype=float32, numpy=0.2>"
      ]
     },
     "execution_count": 57,
     "metadata": {},
     "output_type": "execute_result"
    }
   ],
   "source": [
    "tf.abs(tf.constant(-0.2))"
   ]
  },
  {
   "cell_type": "code",
   "execution_count": 58,
   "id": "c5ab5d59",
   "metadata": {},
   "outputs": [
    {
     "data": {
      "text/plain": [
       "<tf.Tensor: shape=(1,), dtype=float64, numpy=array([5.25594901])>"
      ]
     },
     "execution_count": 58,
     "metadata": {},
     "output_type": "execute_result"
    }
   ],
   "source": [
    "x_abs_complex = tf.constant([-2.25 + 4.75j])\n",
    "tf.abs(x_abs_complex)"
   ]
  },
  {
   "cell_type": "code",
   "execution_count": 59,
   "id": "79d9e0c8",
   "metadata": {},
   "outputs": [
    {
     "data": {
      "text/plain": [
       "<tf.Tensor: shape=(), dtype=float32, numpy=5.255949>"
      ]
     },
     "execution_count": 59,
     "metadata": {},
     "output_type": "execute_result"
    }
   ],
   "source": [
    "tf.sqrt((-2.25)**2 + 4.75**2)"
   ]
  },
  {
   "cell_type": "code",
   "execution_count": 60,
   "id": "eeef6331",
   "metadata": {},
   "outputs": [
    {
     "name": "stdout",
     "output_type": "stream",
     "text": [
      "tf.Tensor([12  9  8 12 11 17], shape=(6,), dtype=int32)\n",
      "tf.Tensor([35 18 12 36 28 66], shape=(6,), dtype=int32)\n",
      "tf.Tensor([-2 -3  4  0 -3 -5], shape=(6,), dtype=int32)\n",
      "tf.Tensor([0.71428571 0.5        3.         1.         0.57142857 0.54545455], shape=(6,), dtype=float64)\n"
     ]
    }
   ],
   "source": [
    "x_1 = tf.constant([5, 3, 6, 6, 4, 6], dtype = tf.int32)\n",
    "x_2 = tf.constant([7, 6, 2, 6, 7, 11], dtype = tf.int32)\n",
    "print(tf.add(x_1,x_2))\n",
    "print(tf.multiply(x_1,x_2))\n",
    "print(tf.subtract(x_1,x_2))\n",
    "print(tf.divide(x_1,x_2))"
   ]
  },
  {
   "cell_type": "code",
   "execution_count": 61,
   "id": "be314fa6",
   "metadata": {},
   "outputs": [
    {
     "name": "stdout",
     "output_type": "stream",
     "text": [
      "tf.Tensor([0.71428573 0.5        3.         1.                inf 0.54545456], shape=(6,), dtype=float32)\n",
      "tf.Tensor([0.71428573 0.5        3.         1.         0.         0.54545456], shape=(6,), dtype=float32)\n"
     ]
    }
   ],
   "source": [
    "x_1 = tf.constant([5, 3, 6, 6, 4, 6], dtype = tf.float32)\n",
    "x_2 = tf.constant([7, 6, 2, 6, 0, 11], dtype = tf.float32)\n",
    "print(tf.divide(x_1,x_2))\n",
    "print(tf.math.divide_no_nan(x_1,x_2))"
   ]
  },
  {
   "cell_type": "code",
   "execution_count": 62,
   "id": "ac919113",
   "metadata": {},
   "outputs": [
    {
     "name": "stdout",
     "output_type": "stream",
     "text": [
      "tf.Tensor([12. 10. 13. 13. 11. 13.], shape=(6,), dtype=float32)\n",
      "tf.Tensor([12. 10. 13. 13. 11. 13.], shape=(6,), dtype=float32)\n"
     ]
    }
   ],
   "source": [
    "x_1 = tf.constant([5, 3, 6, 6, 4, 6], dtype = tf.float32)\n",
    "x_2 = tf.constant([7], dtype = tf.float32)\n",
    "x_2_streched = tf.constant([7, 7, 7, 7, 7, 7], dtype = tf.float32)\n",
    "print(tf.add(x_1,x_2))\n",
    "print(tf.add(x_1,x_2_streched))"
   ]
  },
  {
   "cell_type": "code",
   "execution_count": 63,
   "id": "c3635d86",
   "metadata": {},
   "outputs": [
    {
     "name": "stdout",
     "output_type": "stream",
     "text": [
      "tf.Tensor(\n",
      "[[12. 10. 13. 13. 11. 13.]\n",
      " [12. 52. 72. 12. 60. 11.]], shape=(2, 6), dtype=float32)\n",
      "tf.Tensor(\n",
      "[[12. 10. 13. 13. 11. 13.]\n",
      " [12. 52. 72. 12. 60. 11.]], shape=(2, 6), dtype=float32)\n",
      "*****************************************************************************\n",
      "tf.Tensor(\n",
      "[[ 35.  21.  42.  42.  28.  42.]\n",
      " [ 35. 315. 455.  35. 371.  28.]], shape=(2, 6), dtype=float32)\n"
     ]
    }
   ],
   "source": [
    "x_1 = tf.constant([[5, 3, 6, 6, 4, 6], [5, 45, 65, 5, 53, 4]], dtype = tf.float32)\n",
    "x_2 = tf.constant([7], dtype = tf.float32)\n",
    "x_2_streched = tf.constant([7, 7, 7, 7, 7, 7], dtype = tf.float32)\n",
    "print(tf.add(x_1,x_2))\n",
    "print(tf.add(x_1,x_2_streched))\n",
    "print(\"*****************************************************************************\")\n",
    "print(tf.multiply(x_1,x_2))"
   ]
  },
  {
   "cell_type": "code",
   "execution_count": 64,
   "id": "df3bf912",
   "metadata": {},
   "outputs": [
    {
     "name": "stdout",
     "output_type": "stream",
     "text": [
      "tf.Tensor([[12. 10. 13. 13. 11. 13.]], shape=(1, 6), dtype=float32)\n",
      "tf.Tensor([[12. 10. 13. 13. 11. 13.]], shape=(1, 6), dtype=float32)\n"
     ]
    }
   ],
   "source": [
    "x_1 = tf.constant([[5, 3, 6, 6, 4, 6],], dtype = tf.float32)\n",
    "x_2 = tf.constant([7], dtype = tf.float32)\n",
    "x_2_streched = tf.constant([7, 7, 7, 7, 7, 7], dtype = tf.float32)\n",
    "print(tf.add(x_1,x_2))\n",
    "print(tf.add(x_1,x_2_streched))"
   ]
  },
  {
   "cell_type": "code",
   "execution_count": 65,
   "id": "9b643eab",
   "metadata": {},
   "outputs": [
    {
     "name": "stdout",
     "output_type": "stream",
     "text": [
      "tf.Tensor(\n",
      "[[12. 10. 13. 13. 11. 13.]\n",
      " [10.  8. 11. 11.  9. 11.]\n",
      " [ 8.  6.  9.  9.  7.  9.]], shape=(3, 6), dtype=float32)\n",
      "tf.Tensor([[12. 10. 13. 13. 11. 13.]], shape=(1, 6), dtype=float32)\n"
     ]
    }
   ],
   "source": [
    "x_1 = tf.constant([[5, 3, 6, 6, 4, 6],], dtype = tf.float32)\n",
    "x_2 = tf.constant([[7], [5], [3]], dtype = tf.float32)\n",
    "print(tf.add(x_1,x_2))\n",
    "print(tf.add(x_1,x_2_streched))"
   ]
  },
  {
   "cell_type": "code",
   "execution_count": 66,
   "id": "eb31734f",
   "metadata": {},
   "outputs": [
    {
     "name": "stdout",
     "output_type": "stream",
     "text": [
      "(1, 6)\n",
      "(3, 1)\n",
      "tf.Tensor(\n",
      "[[12. 10. 13. 13. 11. 13.]\n",
      " [10.  8. 11. 11.  9. 11.]\n",
      " [ 8.  6.  9.  9.  7.  9.]], shape=(3, 6), dtype=float32)\n"
     ]
    }
   ],
   "source": [
    "x_1 = tf.constant([[5, 3, 6, 6, 4, 6],], dtype = tf.float32)\n",
    "x_2 = tf.constant([[7], [5], [3]], dtype = tf.float32)\n",
    "print(x_1.shape)\n",
    "print(x_2.shape)\n",
    "print(tf.add(x_1,x_2))"
   ]
  },
  {
   "cell_type": "code",
   "execution_count": 67,
   "id": "ed23d04a",
   "metadata": {},
   "outputs": [
    {
     "name": "stdout",
     "output_type": "stream",
     "text": [
      "(3, 5)\n",
      "tf.Tensor([2 2 0 2 2], shape=(5,), dtype=int64)\n",
      "tf.Tensor([0 1 1 1 0], shape=(5,), dtype=int64)\n",
      "*****************************************************************************\n",
      "tf.Tensor([2 2 1], shape=(3,), dtype=int64)\n",
      "tf.Tensor([0 3 3], shape=(3,), dtype=int64)\n"
     ]
    }
   ],
   "source": [
    "x_argmax = tf.constant([[2, 20, 30, 3, 6],\n",
    "                        [3, 11, 16, 1, 8],\n",
    "                        [14, 45, 23, 5, 27]],)\n",
    "print(x_argmax.shape)\n",
    "print(tf.math.argmax(x_argmax, 0)) #find max in columns #0 means in other dimention (means column not row)\n",
    "print(tf.math.argmin(x_argmax, 0))\n",
    "print(\"*****************************************************************************\")\n",
    "print(tf.math.argmax(x_argmax, 1))#find max in rows\n",
    "print(tf.math.argmin(x_argmax, 1))"
   ]
  },
  {
   "cell_type": "code",
   "execution_count": 68,
   "id": "ce0c83aa",
   "metadata": {},
   "outputs": [
    {
     "name": "stdout",
     "output_type": "stream",
     "text": [
      "tf.Tensor(2, shape=(), dtype=int64)\n",
      "tf.Tensor(0, shape=(), dtype=int64)\n"
     ]
    }
   ],
   "source": [
    "x_argmax = tf.constant([2, 20, 30, 3, 6])\n",
    "print(tf.math.argmax(x_argmax)) #index of max value\n",
    "print(tf.math.argmin(x_argmax)) #index of min value"
   ]
  },
  {
   "cell_type": "code",
   "execution_count": 69,
   "id": "e81d5aaf",
   "metadata": {},
   "outputs": [
    {
     "name": "stdout",
     "output_type": "stream",
     "text": [
      "tf.Tensor(0, shape=(), dtype=int64)\n",
      "tf.Tensor(3, shape=(), dtype=int64)\n"
     ]
    }
   ],
   "source": [
    "x_argmax = tf.constant([200, 120, 130, 3, 6])\n",
    "print(tf.math.argmax(x_argmax))\n",
    "print(tf.math.argmin(x_argmax))"
   ]
  },
  {
   "cell_type": "code",
   "execution_count": 70,
   "id": "19442778",
   "metadata": {},
   "outputs": [
    {
     "name": "stdout",
     "output_type": "stream",
     "text": [
      "tf.Tensor(3, shape=(), dtype=int64)\n",
      "tf.Tensor(4, shape=(), dtype=int64)\n"
     ]
    }
   ],
   "source": [
    "x_argmax = tf.constant([200, 120, 130, 300, 6])\n",
    "print(tf.math.argmax(x_argmax))\n",
    "print(tf.math.argmin(x_argmax))"
   ]
  },
  {
   "cell_type": "code",
   "execution_count": 71,
   "id": "e27f6e4e",
   "metadata": {},
   "outputs": [
    {
     "data": {
      "text/plain": [
       "<tf.Tensor: shape=(2, 2), dtype=int32, numpy=\n",
       "array([[ 8,  1],\n",
       "       [ 3, 81]])>"
      ]
     },
     "execution_count": 71,
     "metadata": {},
     "output_type": "execute_result"
    }
   ],
   "source": [
    "x = tf.constant([[2, 2], [3, 3]])\n",
    "y = tf.constant([[3, 0], [1, 4]])\n",
    "tf.pow(x,y)"
   ]
  },
  {
   "cell_type": "code",
   "execution_count": 72,
   "id": "ef9670af",
   "metadata": {},
   "outputs": [
    {
     "data": {
      "text/plain": [
       "<tf.Tensor: shape=(), dtype=int32, numpy=8>"
      ]
     },
     "execution_count": 72,
     "metadata": {},
     "output_type": "execute_result"
    }
   ],
   "source": [
    "tf.pow(tf.constant(2),tf.constant(3))"
   ]
  },
  {
   "cell_type": "code",
   "execution_count": 73,
   "id": "2c18ebaa",
   "metadata": {},
   "outputs": [
    {
     "name": "stdout",
     "output_type": "stream",
     "text": [
      "(4, 3)\n",
      "tf.Tensor(35, shape=(), dtype=int32)\n",
      "tf.Tensor(8, shape=(), dtype=int32)\n",
      "tf.Tensor([ 7 15 13], shape=(3,), dtype=int32)\n",
      "tf.Tensor([ 3  7 12 13], shape=(4,), dtype=int32)\n",
      "tf.Tensor([2 5 6 8], shape=(4,), dtype=int32)\n",
      "tf.Tensor([1 2 4 4], shape=(4,), dtype=int32)\n",
      "tf.Tensor([1 3 3], shape=(3,), dtype=int32)\n"
     ]
    }
   ],
   "source": [
    "tensor_two_d= tf.constant([\n",
    "    [1, 2, 0],\n",
    "    [3, 5, -1],\n",
    "    [1, 5, 6],\n",
    "    [2, 3, 8],\n",
    "])\n",
    "#axis=0 row       axis=1 column\n",
    "print(tensor_two_d.shape)\n",
    "print(tf.math.reduce_sum(tensor_two_d, axis=None, keepdims=False, name=None)) #sum all elements\n",
    "print(tf.math.reduce_max(tensor_two_d, axis=None, keepdims=False, name=None)) #just show max\n",
    "print(tf.math.reduce_sum(tensor_two_d, axis=0, keepdims=False, name=None)) #sum each column\n",
    "print(tf.math.reduce_sum(tensor_two_d, axis=1, keepdims=False, name=None)) #sum each row\n",
    "print(tf.math.reduce_max(tensor_two_d, axis=1, keepdims=False, name=None)) \n",
    "print(tf.math.reduce_mean(tensor_two_d, axis=1, keepdims=False, name=None)) \n",
    "print(tf.math.reduce_mean(tensor_two_d, axis=0, keepdims=False, name=None)) "
   ]
  },
  {
   "cell_type": "code",
   "execution_count": 74,
   "id": "bf1addeb",
   "metadata": {},
   "outputs": [
    {
     "name": "stdout",
     "output_type": "stream",
     "text": [
      "tf.Tensor([1.75 3.75 3.25], shape=(3,), dtype=float16)\n",
      "tf.Tensor([0.829 1.299 3.832], shape=(3,), dtype=float16)\n",
      "tf.Tensor([[0.829 1.299 3.832]], shape=(1, 3), dtype=float16)\n"
     ]
    }
   ],
   "source": [
    "tensor_two_d= tf.constant([\n",
    "    [1, 2, 0],\n",
    "    [3, 5, -1],\n",
    "    [1, 5, 6],\n",
    "    [2, 3, 8],\n",
    "], dtype= tf.float16)\n",
    "print(tf.math.reduce_mean(tensor_two_d, axis=0, keepdims=False, name=None))\n",
    "print(tf.math.reduce_std(tensor_two_d, axis=0, keepdims=False, name=None))\n",
    "print(tf.math.reduce_std(tensor_two_d, axis=0, keepdims=True, name=None))"
   ]
  },
  {
   "cell_type": "code",
   "execution_count": 75,
   "id": "66079149",
   "metadata": {},
   "outputs": [
    {
     "data": {
      "text/plain": [
       "TopKV2(values=<tf.Tensor: shape=(4, 1), dtype=float16, numpy=\n",
       "array([[2.],\n",
       "       [5.],\n",
       "       [6.],\n",
       "       [8.]], dtype=float16)>, indices=<tf.Tensor: shape=(4, 1), dtype=int32, numpy=\n",
       "array([[1],\n",
       "       [1],\n",
       "       [2],\n",
       "       [2]])>)"
      ]
     },
     "execution_count": 75,
     "metadata": {},
     "output_type": "execute_result"
    }
   ],
   "source": [
    "tf.math.top_k(tensor_two_d, k=1)"
   ]
  },
  {
   "cell_type": "code",
   "execution_count": 76,
   "id": "8f8c49b0",
   "metadata": {},
   "outputs": [
    {
     "data": {
      "text/plain": [
       "TopKV2(values=<tf.Tensor: shape=(4, 2), dtype=float16, numpy=\n",
       "array([[2., 1.],\n",
       "       [5., 3.],\n",
       "       [6., 5.],\n",
       "       [8., 3.]], dtype=float16)>, indices=<tf.Tensor: shape=(4, 2), dtype=int32, numpy=\n",
       "array([[1, 0],\n",
       "       [1, 0],\n",
       "       [2, 1],\n",
       "       [2, 1]])>)"
      ]
     },
     "execution_count": 76,
     "metadata": {},
     "output_type": "execute_result"
    }
   ],
   "source": [
    "tf.math.top_k(tensor_two_d, k=2)"
   ]
  },
  {
   "cell_type": "code",
   "execution_count": 77,
   "id": "10014dea",
   "metadata": {},
   "outputs": [
    {
     "name": "stdout",
     "output_type": "stream",
     "text": [
      "(2, 3) (3, 3)\n"
     ]
    },
    {
     "data": {
      "text/plain": [
       "<tf.Tensor: shape=(2, 3), dtype=int32, numpy=\n",
       "array([[  7,  12,  -2],\n",
       "       [ 14,  26, -11]])>"
      ]
     },
     "execution_count": 77,
     "metadata": {},
     "output_type": "execute_result"
    }
   ],
   "source": [
    "x_1 = tf.constant([\n",
    "    [1, 2, 0],\n",
    "    [3, 5, -1]\n",
    "])\n",
    "\n",
    "x_2 = tf.constant([\n",
    "    [1, 2, 0],\n",
    "    [3, 5, -1],\n",
    "    [4, 5, 6]\n",
    "])\n",
    "print(x_1.shape, x_2.shape)\n",
    "\n",
    "#zarb\n",
    "tf.linalg.matmul(\n",
    "    x_1, x_2, transpose_a=False, transpose_b=False, adjoint_a=False, adjoint_b=False, a_is_sparse=False, b_is_sparse=False, output_type=None, name=None\n",
    ")"
   ]
  },
  {
   "cell_type": "code",
   "execution_count": 78,
   "id": "29258a8b",
   "metadata": {},
   "outputs": [
    {
     "name": "stdout",
     "output_type": "stream",
     "text": [
      "(2, 3) (3, 4)\n"
     ]
    },
    {
     "data": {
      "text/plain": [
       "<tf.Tensor: shape=(2, 4), dtype=int32, numpy=\n",
       "array([[  7,  12,  -2,   6],\n",
       "       [ 14,  26, -11,  16]])>"
      ]
     },
     "execution_count": 78,
     "metadata": {},
     "output_type": "execute_result"
    }
   ],
   "source": [
    "x_1 = tf.constant([\n",
    "    [1, 2, 0],\n",
    "    [3, 5, -1]\n",
    "])\n",
    "\n",
    "x_2 = tf.constant([\n",
    "    [1, 2, 0, 2],\n",
    "    [3, 5, -1, 2],\n",
    "    [4, 5, 6, 0]\n",
    "])\n",
    "print(x_1.shape, x_2.shape)\n",
    "\n",
    "#zarb\n",
    "tf.linalg.matmul(\n",
    "    x_1, x_2, transpose_a=False, transpose_b=False, adjoint_a=False, adjoint_b=False, a_is_sparse=False, b_is_sparse=False, output_type=None, name=None\n",
    ")"
   ]
  },
  {
   "cell_type": "code",
   "execution_count": 79,
   "id": "ffdcf511",
   "metadata": {},
   "outputs": [
    {
     "name": "stdout",
     "output_type": "stream",
     "text": [
      "(1, 3) (3, 4)\n"
     ]
    },
    {
     "data": {
      "text/plain": [
       "<tf.Tensor: shape=(1, 4), dtype=int32, numpy=array([[ 7, 12, -2,  6]])>"
      ]
     },
     "execution_count": 79,
     "metadata": {},
     "output_type": "execute_result"
    }
   ],
   "source": [
    "x_1 = tf.constant([\n",
    "    [1, 2, 0],\n",
    "])\n",
    "\n",
    "x_2 = tf.constant([\n",
    "    [1, 2, 0, 2],\n",
    "    [3, 5, -1, 2],\n",
    "    [4, 5, 6, 0]\n",
    "])\n",
    "print(x_1.shape, x_2.shape)\n",
    "\n",
    "#zarb\n",
    "tf.linalg.matmul(\n",
    "    x_1, x_2, transpose_a=False, transpose_b=False, adjoint_a=False, adjoint_b=False, a_is_sparse=False, b_is_sparse=False, output_type=None, name=None\n",
    ")"
   ]
  },
  {
   "cell_type": "code",
   "execution_count": 80,
   "id": "83cb7a95",
   "metadata": {},
   "outputs": [
    {
     "name": "stdout",
     "output_type": "stream",
     "text": [
      "tf.Tensor([[ 7 12 -2  6]], shape=(1, 4), dtype=int32)\n"
     ]
    },
    {
     "data": {
      "text/plain": [
       "<tf.Tensor: shape=(1, 4), dtype=int32, numpy=array([[ 7, 12, -2,  6]])>"
      ]
     },
     "execution_count": 80,
     "metadata": {},
     "output_type": "execute_result"
    }
   ],
   "source": [
    "print(x_1@x_2)\n",
    "x_1@x_2"
   ]
  },
  {
   "cell_type": "code",
   "execution_count": 81,
   "id": "5b0a5c06",
   "metadata": {},
   "outputs": [
    {
     "data": {
      "text/plain": [
       "<tf.Tensor: shape=(4, 3), dtype=int32, numpy=\n",
       "array([[ 1,  3,  4],\n",
       "       [ 2,  5,  5],\n",
       "       [ 0, -1,  6],\n",
       "       [ 2,  2,  0]])>"
      ]
     },
     "execution_count": 81,
     "metadata": {},
     "output_type": "execute_result"
    }
   ],
   "source": [
    "tf.transpose(x_1)\n",
    "tf.transpose(x_2)"
   ]
  },
  {
   "cell_type": "code",
   "execution_count": 82,
   "id": "5014bf07",
   "metadata": {},
   "outputs": [
    {
     "name": "stdout",
     "output_type": "stream",
     "text": [
      "tf.Tensor([[1 2 0]], shape=(1, 3), dtype=int32)\n",
      "tf.Tensor(\n",
      "[[ 1  2  0  2]\n",
      " [ 3  5 -1  2]\n",
      " [ 4  5  6  0]], shape=(3, 4), dtype=int32)\n"
     ]
    }
   ],
   "source": [
    "print(x_1)\n",
    "print(x_2)"
   ]
  },
  {
   "cell_type": "code",
   "execution_count": 83,
   "id": "97141fca",
   "metadata": {},
   "outputs": [
    {
     "name": "stdout",
     "output_type": "stream",
     "text": [
      "(1, 3) (3, 4) (2, 4) (4, 3)\n",
      "tf.Tensor(\n",
      "[[ 9 17 14]\n",
      " [17 39 31]], shape=(2, 3), dtype=int32)\n"
     ]
    },
    {
     "data": {
      "text/plain": [
       "<tf.Tensor: shape=(2, 3), dtype=int32, numpy=\n",
       "array([[ 9, 17, 14],\n",
       "       [17, 39, 31]])>"
      ]
     },
     "execution_count": 83,
     "metadata": {},
     "output_type": "execute_result"
    }
   ],
   "source": [
    "x_1 = tf.constant([\n",
    "    [1, 2, 0],\n",
    "])\n",
    "\n",
    "x_2 = tf.constant([\n",
    "    [1, 2, 0, 2],\n",
    "    [3, 5, -1, 2],\n",
    "    [4, 5, 6, 0]\n",
    "])\n",
    "\n",
    "x_3 = tf.constant([\n",
    "    [1, 2, 0, 2],\n",
    "    [3, 5, -1, 2],\n",
    "])\n",
    "print(x_1.shape, x_2.shape, x_3.shape, tf.transpose(x_2).shape)\n",
    "\n",
    "print(x_3@tf.transpose(x_2))\n",
    "\n",
    "#zarb\n",
    "tf.linalg.matmul(\n",
    "    x_3, x_2, transpose_a=False, transpose_b=True, adjoint_a=False, adjoint_b=False, a_is_sparse=False, b_is_sparse=False, output_type=None, name=None\n",
    ")"
   ]
  },
  {
   "cell_type": "code",
   "execution_count": 84,
   "id": "ae9ffbdd",
   "metadata": {},
   "outputs": [
    {
     "name": "stdout",
     "output_type": "stream",
     "text": [
      "(1, 3) (3, 2) (2, 4) (2, 3)\n",
      "tf.Tensor(\n",
      "[[ 7 18 19]\n",
      " [12 31 33]\n",
      " [-2 -5 -5]\n",
      " [ 6 16 18]], shape=(4, 3), dtype=int32)\n"
     ]
    },
    {
     "data": {
      "text/plain": [
       "<tf.Tensor: shape=(4, 3), dtype=int32, numpy=\n",
       "array([[ 7, 18, 19],\n",
       "       [12, 31, 33],\n",
       "       [-2, -5, -5],\n",
       "       [ 6, 16, 18]])>"
      ]
     },
     "execution_count": 84,
     "metadata": {},
     "output_type": "execute_result"
    }
   ],
   "source": [
    "x_1 = tf.constant([\n",
    "    [1, 2, 0],\n",
    "])\n",
    "\n",
    "x_2 = tf.constant([\n",
    "    [1, 2],\n",
    "    [3, 5],\n",
    "    [4, 5]\n",
    "])\n",
    "\n",
    "x_3 = tf.constant([\n",
    "    [1, 2, 0, 2],\n",
    "    [3, 5, -1, 2],\n",
    "])\n",
    "print(x_1.shape, x_2.shape, x_3.shape, tf.transpose(x_2).shape)\n",
    "\n",
    "print(tf.transpose(x_3)@tf.transpose(x_2))\n",
    "\n",
    "#zarb\n",
    "tf.linalg.matmul(\n",
    "    x_3, x_2, transpose_a=True, transpose_b=True, adjoint_a=False, adjoint_b=False, a_is_sparse=False, b_is_sparse=False, output_type=None, name=None\n",
    ")"
   ]
  },
  {
   "cell_type": "code",
   "execution_count": 85,
   "id": "0087b894",
   "metadata": {},
   "outputs": [
    {
     "name": "stdout",
     "output_type": "stream",
     "text": [
      "tf.Tensor(\n",
      "[[[ 1  2]\n",
      "  [ 3  5]]\n",
      "\n",
      " [[10  0]\n",
      "  [ 1  2]]\n",
      "\n",
      " [[ 5  0]\n",
      "  [ 2  0]]], shape=(3, 2, 2), dtype=int32)\n",
      "tf.Tensor(\n",
      "[[[ 5  1  4]\n",
      "  [34 15  1]]\n",
      "\n",
      " [[ 1  2  2]\n",
      "  [ 5  3  2]]\n",
      "\n",
      " [[ 2  2  3]\n",
      "  [ 1  1  1]]], shape=(3, 2, 3), dtype=int32)\n",
      "tf.Tensor(\n",
      "[[[ 73  31   6]\n",
      "  [185  78  17]]\n",
      "\n",
      " [[ 10  20  20]\n",
      "  [ 11   8   6]]\n",
      "\n",
      " [[ 10  10  15]\n",
      "  [  4   4   6]]], shape=(3, 2, 3), dtype=int32)\n"
     ]
    }
   ],
   "source": [
    "x_1= tf.constant(\n",
    "                             [[[1, 2],\n",
    "                             [3, 5]],\n",
    "\n",
    "                             [[10, 0],\n",
    "                               [1, 2]],\n",
    "\n",
    "                            [[5, 0],\n",
    "                              [2, 0]],\n",
    "\n",
    "])\n",
    "\n",
    "x_2= tf.constant(\n",
    "                             [[[5, 1, 4],\n",
    "                             [34, 15, 1]],\n",
    "\n",
    "                             [[1, 2, 2],\n",
    "                               [5, 3, 2]],\n",
    "\n",
    "                            [[2, 2, 3],\n",
    "                              [1, 1, 1]],\n",
    "])\n",
    "print(x_1)\n",
    "print(x_2)\n",
    "\n",
    "print(tf.linalg.matmul(x_1, x_2))"
   ]
  },
  {
   "cell_type": "code",
   "execution_count": 86,
   "id": "a31d6dad",
   "metadata": {},
   "outputs": [
    {
     "name": "stdout",
     "output_type": "stream",
     "text": [
      "tf.Tensor(\n",
      "[[10 20 20]\n",
      " [11  8  6]], shape=(2, 3), dtype=int32)\n"
     ]
    }
   ],
   "source": [
    "x_1= tf.constant([[10, 0],\n",
    "                  [1, 2]])\n",
    "\n",
    "x_2= tf.constant([[1, 2, 2],\n",
    "                  [5, 3, 2]])\n",
    "\n",
    "print(tf.linalg.matmul(x_1, x_2))"
   ]
  },
  {
   "cell_type": "code",
   "execution_count": 89,
   "id": "04ecc2f8",
   "metadata": {},
   "outputs": [
    {
     "name": "stdout",
     "output_type": "stream",
     "text": [
      "*****************************************************************************\n",
      "*****************************************************************************\n"
     ]
    },
    {
     "data": {
      "text/plain": [
       "<tf.Tensor: shape=(4, 3), dtype=float16, numpy=\n",
       "array([[  1.,  -2.,   0.],\n",
       "       [  0.,   5., 100.],\n",
       "       [  0.,   0.,   6.],\n",
       "       [  0.,   0.,   0.]], dtype=float16)>"
      ]
     },
     "execution_count": 89,
     "metadata": {},
     "output_type": "execute_result"
    }
   ],
   "source": [
    "tensor_two_d= tf.constant([\n",
    "    [1, -2, 0],\n",
    "    [3, 5, 100],\n",
    "    [1, 5, 6],\n",
    "    [2, 3, 8],\n",
    "], dtype = tf.float16)\n",
    "\n",
    "### (lower<0 or m-n<= lower) and (upper<0 or n-m<= upper)\n",
    "### m ---> rows  and n ---> columns\n",
    "\n",
    "tf.linalg.band_part(tensor_two_d, 0, 0)\n",
    "print(\"*****************************************************************************\")\n",
    "tf.linalg.band_part(tensor_two_d, -1, 0)\n",
    "print(\"*****************************************************************************\")\n",
    "tf.linalg.band_part(tensor_two_d, 0, -1)"
   ]
  },
  {
   "cell_type": "code",
   "execution_count": 90,
   "id": "89c684e3",
   "metadata": {},
   "outputs": [
    {
     "data": {
      "text/plain": [
       "<tf.Tensor: shape=(4, 3), dtype=float16, numpy=\n",
       "array([[1., 0., 0.],\n",
       "       [3., 5., 0.],\n",
       "       [1., 5., 6.],\n",
       "       [2., 3., 8.]], dtype=float16)>"
      ]
     },
     "execution_count": 90,
     "metadata": {},
     "output_type": "execute_result"
    }
   ],
   "source": [
    "tensor_two_d= tf.constant([\n",
    "    [1, -2, 0],\n",
    "    [3, 5, 100],\n",
    "    [1, 5, 6],\n",
    "    [2, 3, 8],\n",
    "], dtype = tf.float16)\n",
    "\n",
    "tf.linalg.band_part(tensor_two_d, -1, 0)"
   ]
  },
  {
   "cell_type": "code",
   "execution_count": 91,
   "id": "f49449cf",
   "metadata": {},
   "outputs": [
    {
     "data": {
      "text/plain": [
       "<tf.Tensor: shape=(4, 3), dtype=float16, numpy=\n",
       "array([[  1.,  -2.,   0.],\n",
       "       [  0.,   5., 100.],\n",
       "       [  0.,   0.,   6.],\n",
       "       [  0.,   0.,   0.]], dtype=float16)>"
      ]
     },
     "execution_count": 91,
     "metadata": {},
     "output_type": "execute_result"
    }
   ],
   "source": [
    "tensor_two_d= tf.constant([\n",
    "    [1, -2, 0],\n",
    "    [3, 5, 100],\n",
    "    [1, 5, 6],\n",
    "    [2, 3, 8],\n",
    "], dtype = tf.float16)\n",
    "\n",
    "tf.linalg.band_part(tensor_two_d, 0, -1)"
   ]
  },
  {
   "cell_type": "code",
   "execution_count": 88,
   "id": "6a105676",
   "metadata": {},
   "outputs": [],
   "source": [
    "tensor_two_d_m_n=tf.constant([\n",
    "                              [1,-1,-2],\n",
    "                              [1,0,-1],\n",
    "                              [2,1,0],\n",
    "                              [3,2,1]\n",
    "                              ],dtype=tf.float16)\n",
    "\n",
    "\n",
    "tensor_two_d_n_m=tf.constant([\n",
    "                              [0,1,2],\n",
    "                              [-1,0,1],\n",
    "                              [-2,-1,0],\n",
    "                              [-3,-2,-1]\n",
    "                              ],dtype=tf.float16)\n",
    "\n",
    "### (m-n<= lower) and (n-m<= upper)\n",
    "### m=0 , n=0   ---> tensor_two_d(0, 0)=1\n",
    "### m=0 , n=1 and m=1 , n=0 condition not true   ---> tensor_two_d(0, 1)=0"
   ]
  },
  {
   "cell_type": "code",
   "execution_count": 93,
   "id": "302439bd",
   "metadata": {},
   "outputs": [],
   "source": [
    "tensor_two_d= tf.constant([\n",
    "    [1, -2, 0],\n",
    "    [3, 5, 100],\n",
    "    [1, 5, 6],\n",
    "], dtype = tf.float32)\n",
    "\n",
    "# m and n must be equal\n",
    "\n",
    "tensor_two_d_inv = tf.linalg.inv(tensor_two_d)"
   ]
  },
  {
   "cell_type": "code",
   "execution_count": 94,
   "id": "208901fc",
   "metadata": {},
   "outputs": [
    {
     "data": {
      "text/plain": [
       "<tf.Tensor: shape=(3, 3), dtype=float32, numpy=\n",
       "array([[ 1.0000000e+00,  7.4505806e-09,  0.0000000e+00],\n",
       "       [ 1.6391277e-07,  1.0000000e+00,  4.4703484e-08],\n",
       "       [-5.2154064e-08,  7.4505806e-08,  1.0000000e+00]], dtype=float32)>"
      ]
     },
     "execution_count": 94,
     "metadata": {},
     "output_type": "execute_result"
    }
   ],
   "source": [
    "tensor_two_d@tensor_two_d_inv "
   ]
  },
  {
   "cell_type": "code",
   "execution_count": 98,
   "id": "92e5de95",
   "metadata": {},
   "outputs": [
    {
     "name": "stdout",
     "output_type": "stream",
     "text": [
      "tf.Tensor([100.3663      5.1059036   1.2371687], shape=(3,), dtype=float32)\n",
      "tf.Tensor(\n",
      "[[-7.4980810e-04 -3.7569830e-01  9.2674178e-01]\n",
      " [ 9.9803799e-01 -5.8300879e-02 -2.2827482e-02]\n",
      " [ 6.2606096e-02  9.2490643e-01  3.7500489e-01]], shape=(3, 3), dtype=float32)\n",
      "tf.Tensor(\n",
      "[[ 0.03044816  0.07330841  0.99684453]\n",
      " [ 0.0528536   0.9957936  -0.07484547]\n",
      " [ 0.998138   -0.05496572 -0.02644547]], shape=(3, 3), dtype=float32)\n"
     ]
    }
   ],
   "source": [
    "s, u, v = tf.linalg.svd(tensor_two_d)\n",
    "print(s)\n",
    "print(u)\n",
    "print(v)"
   ]
  },
  {
   "cell_type": "code",
   "execution_count": 102,
   "id": "9f081798",
   "metadata": {},
   "outputs": [
    {
     "name": "stdout",
     "output_type": "stream",
     "text": [
      "(3, 4)\n",
      "(4, 5)\n",
      "matmul C=:  \n",
      "\n",
      "[[33 69 77 -6 27]\n",
      " [ 9 12  0 10 13]\n",
      " [21 51 60 -7 14]] \n",
      "\n",
      "Einsum C=:  \n",
      "\n",
      "[[33 69 77 -6 27]\n",
      " [ 9 12  0 10 13]\n",
      " [21 51 60 -7 14]]\n"
     ]
    }
   ],
   "source": [
    "A = np.array([[2, 6, 5, 2],\n",
    "             [2, -2, 2, 3],\n",
    "             [1, 5, 4, 0]])\n",
    "\n",
    "B = np.array([[2, 9, 0, 3, 0],\n",
    "             [3, 6, 8, -2, 2],\n",
    "             [1, 3, 5, 0, 1],\n",
    "             [3, 0, 2, 0, 5]])\n",
    "\n",
    "print(A.shape)\n",
    "print(B.shape)\n",
    "\n",
    "print(\"matmul C=:  \\n\")\n",
    "print(np.matmul(A, B), \"\\n\")\n",
    "\n",
    "print(\"Einsum C=:  \\n\")\n",
    "print(np.einsum(\"ij, jk ->ik\", A, B))"
   ]
  },
  {
   "cell_type": "code",
   "execution_count": 104,
   "id": "a9679cd3",
   "metadata": {},
   "outputs": [
    {
     "name": "stdout",
     "output_type": "stream",
     "text": [
      "(3, 4) (3, 4)\n",
      "hardamond C=:  \n",
      "\n",
      "[[  4  54   0   6]\n",
      " [  6 -12  16  -6]\n",
      " [  1  15  20   0]] \n",
      "\n",
      "Einsum C=:  \n",
      "\n",
      "[[  4  54   0   6]\n",
      " [  6 -12  16  -6]\n",
      " [  1  15  20   0]]\n"
     ]
    }
   ],
   "source": [
    "A = np.array([[2, 6, 5, 2],\n",
    "             [2, -2, 2, 3],\n",
    "             [1, 5, 4, 0]])\n",
    "\n",
    "B = np.array([[2, 9, 0, 3],\n",
    "             [3, 6, 8, -2],\n",
    "             [1, 3, 5, 0],\n",
    "             ])\n",
    "\n",
    "print(A.shape, B.shape)\n",
    "\n",
    "print(\"hardamond C=:  \\n\")\n",
    "print(A*B, \"\\n\")\n",
    "\n",
    "print(\"Einsum C=:  \\n\")\n",
    "print(np.einsum(\"ij, ij ->ij\", A, B))"
   ]
  },
  {
   "cell_type": "code",
   "execution_count": 106,
   "id": "1e3a4dd6",
   "metadata": {},
   "outputs": [
    {
     "name": "stdout",
     "output_type": "stream",
     "text": [
      "transposed A=: \n",
      "\n",
      "[[ 2  2  1]\n",
      " [ 6 -2  5]\n",
      " [ 5  2  4]\n",
      " [ 2  3  0]] \n",
      "\n",
      "Einsum transposed A=: \n",
      "\n",
      "[[ 2  2  1]\n",
      " [ 6 -2  5]\n",
      " [ 5  2  4]\n",
      " [ 2  3  0]]\n"
     ]
    }
   ],
   "source": [
    "A = np.array([[2, 6, 5, 2],\n",
    "             [2, -2, 2, 3],\n",
    "             [1, 5, 4, 0]])\n",
    "\n",
    "print(\"transposed A=: \\n\")\n",
    "print(A.T, \"\\n\")\n",
    "\n",
    "print(\"Einsum transposed A=: \\n\")\n",
    "print(np.einsum(\"ij -> ji\", A))"
   ]
  },
  {
   "cell_type": "code",
   "execution_count": 111,
   "id": "5abdf44f",
   "metadata": {},
   "outputs": [
    {
     "name": "stdout",
     "output_type": "stream",
     "text": [
      "(2, 3, 4)\n",
      "(2, 4, 5)\n",
      "matmul C=:  \n",
      "\n",
      "[[[33 69 77 -6 27]\n",
      "  [ 9 12  0 10 13]\n",
      "  [21 51 60 -7 14]]\n",
      "\n",
      " [[77  0 36 19  6]\n",
      "  [ 8  0 12 -4  4]\n",
      "  [23  0 29 -6 10]]] \n",
      "\n",
      "Einsum C=:  \n",
      "\n",
      "[[[33 69 77 -6 27]\n",
      "  [ 9 12  0 10 13]\n",
      "  [21 51 60 -7 14]]\n",
      "\n",
      " [[77  0 36 19  6]\n",
      "  [ 8  0 12 -4  4]\n",
      "  [23  0 29 -6 10]]]\n"
     ]
    }
   ],
   "source": [
    "A = np.array([\n",
    "            [[2, 6, 5, 2],\n",
    "             [2, -2, 2, 3],\n",
    "             [1, 5, 4, 0]],\n",
    "             \n",
    "             [[1, 3, 1, 22],\n",
    "              [0, 2, 2, 0],\n",
    "              [1, 5, 4, 1]]\n",
    "])\n",
    "\n",
    "B = np.array([[[2, 9, 0, 3, 0],\n",
    "             [3, 6, 8, -2, 2],\n",
    "             [1, 3, 5, 0, 1],\n",
    "             [3, 0, 2, 0, 5]],\n",
    "                         \n",
    "            [[1, 0, 0, 3, 0],\n",
    "            [3, 0, 4, -2, 2],\n",
    "            [1, 0, 2, 0, 0],\n",
    "            [3, 0, 1, 1, 0]]\n",
    "             ])\n",
    "\n",
    "print(A.shape)\n",
    "print(B.shape)\n",
    "\n",
    "print(\"matmul C=:  \\n\")\n",
    "print(np.matmul(A, B), \"\\n\")\n",
    "\n",
    "print(\"Einsum C=:  \\n\")\n",
    "print(np.einsum(\"bij, bjk ->bik\", A, B))"
   ]
  },
  {
   "cell_type": "code",
   "execution_count": 113,
   "id": "f3142097",
   "metadata": {},
   "outputs": [
    {
     "name": "stdout",
     "output_type": "stream",
     "text": [
      "sum A=:  \n",
      "\n",
      "72 \n",
      "\n",
      "Einsum A=:  \n",
      "\n",
      "72\n"
     ]
    }
   ],
   "source": [
    "A = np.array([\n",
    "            [[2, 6, 5, 2],\n",
    "             [2, -2, 2, 3],\n",
    "             [1, 5, 4, 0]],\n",
    "             \n",
    "             [[1, 3, 1, 22],\n",
    "              [0, 2, 2, 0],\n",
    "              [1, 5, 4, 1]]\n",
    "])\n",
    "\n",
    "print(\"sum A=:  \\n\")\n",
    "print(np.sum(A), \"\\n\")\n",
    "\n",
    "print(\"Einsum A=:  \\n\")\n",
    "print(np.einsum(\"bij->\", A))"
   ]
  },
  {
   "cell_type": "code",
   "execution_count": 122,
   "id": "ea9c30de",
   "metadata": {},
   "outputs": [
    {
     "name": "stdout",
     "output_type": "stream",
     "text": [
      "Axis 0 Sum A=:  \n",
      "\n",
      "[[ 2  6  5  2]\n",
      " [ 2 -2  2  3]\n",
      " [ 1  5  4  0]] \n",
      "\n",
      "Einsum A=:  \n",
      "\n",
      "[[ 2  6  5  2]\n",
      " [ 2 -2  2  3]\n",
      " [ 1  5  4  0]]\n",
      "-------------------------------\n",
      "Axis 1 Sum A=:  \n",
      "\n",
      "[[ 5  9 11  5]] \n",
      "\n",
      "Einsum A=:  \n",
      "\n",
      "[[ 5  9 11  5]]\n",
      "-------------------------------\n",
      "Axis 2 Sum A=:  \n",
      "\n",
      "[[15  5 10]] \n",
      "\n",
      "Einsum A=:  \n",
      "\n",
      "[[15  5 10]]\n"
     ]
    }
   ],
   "source": [
    "import numpy as np\n",
    "\n",
    "A = np.array([\n",
    "            [[2, 6, 5, 2],\n",
    "             [2, -2, 2, 3],\n",
    "             [1, 5, 4, 0]],\n",
    "])\n",
    "\n",
    "print(\"Axis 0 Sum A=:  \\n\")\n",
    "print(np.sum(A, axis=0), \"\\n\")\n",
    "\n",
    "print(\"Einsum A=:  \\n\")\n",
    "print(np.einsum('ijk->jk', A))  # جمع در امتداد محور اول\n",
    "print(\"-------------------------------\")\n",
    "\n",
    "print(\"Axis 1 Sum A=:  \\n\")\n",
    "print(np.sum(A, axis=1), \"\\n\")\n",
    "\n",
    "print(\"Einsum A=:  \\n\")\n",
    "print(np.einsum('ijk->ik', A))  # جمع در امتداد محور دوم\n",
    "print(\"-------------------------------\")\n",
    "\n",
    "print(\"Axis 2 Sum A=:  \\n\")\n",
    "print(np.sum(A, axis=2), \"\\n\")\n",
    "\n",
    "print(\"Einsum A=:  \\n\")\n",
    "print(np.einsum('ijk->ij', A))  # جمع در امتداد محور سوم"
   ]
  },
  {
   "cell_type": "code",
   "execution_count": null,
   "id": "a8f79d8b",
   "metadata": {},
   "outputs": [],
   "source": [
    "Q=batchsize, s_q, modelsize\n",
    "K=batchsize, s_k, modelsize"
   ]
  },
  {
   "cell_type": "code",
   "execution_count": 123,
   "id": "334bbba2",
   "metadata": {},
   "outputs": [],
   "source": [
    "Q=np.random.randn(32, 64, 512) #bqm\n",
    "K=np.random.randn(32, 128, 512) #bkm"
   ]
  },
  {
   "cell_type": "code",
   "execution_count": 124,
   "id": "cded57e8",
   "metadata": {},
   "outputs": [
    {
     "data": {
      "text/plain": [
       "array([[[  3.42366974,  24.02264945, -22.03398743, ..., -10.86709713,\n",
       "          46.23037936,  -3.04139801],\n",
       "        [ 15.010675  ,   6.0923562 ,  10.42737201, ..., -13.28182524,\n",
       "          36.86927397, -18.49305724],\n",
       "        [ 15.41251288,  20.72990281,   3.62808551, ...,  11.63388014,\n",
       "          21.29624317,  18.39222829],\n",
       "        ...,\n",
       "        [  9.64397571, -12.74278008,  39.6253128 , ...,   2.35168095,\n",
       "          35.07769063, -13.02604472],\n",
       "        [-30.32997385, -38.87963224,  10.20819405, ...,  12.58867229,\n",
       "          18.59874085,  37.58452399],\n",
       "        [-15.77098213, -32.71891417, -44.48964515, ...,  -3.45086189,\n",
       "         -16.93600527,  21.95062381]],\n",
       "\n",
       "       [[-22.08539422,  -0.91785695,  -5.65550548, ...,   6.47041515,\n",
       "          39.23878317, -26.48927459],\n",
       "        [  0.65409944,  23.33921421, -35.46732113, ...,  13.55646867,\n",
       "          16.32078254, -19.86627281],\n",
       "        [  6.51454362, -17.85172504,   3.4685711 , ..., -27.25748664,\n",
       "          10.86557879,  14.80544636],\n",
       "        ...,\n",
       "        [ 15.3834361 ,  20.60864311,  21.10912409, ...,   1.27762207,\n",
       "         -33.80581311, -27.85126982],\n",
       "        [-26.39565032,   4.39304445,  -7.74867431, ...,   3.9304382 ,\n",
       "         -14.67858155,  -2.6265001 ],\n",
       "        [-28.45128717,  16.82322306, -14.17999293, ...,  -4.11968398,\n",
       "           3.07874523,   2.45064624]],\n",
       "\n",
       "       [[ 10.0134797 ,  44.63583282,  -1.50292822, ...,  -8.26897553,\n",
       "          12.86273933,  -4.50322733],\n",
       "        [ 21.25049883, -16.27939978, -39.97678456, ...,  -4.9031552 ,\n",
       "         -13.07369546,  -4.43318832],\n",
       "        [  0.98911824,  -1.59223899, -21.44705369, ..., -14.79965324,\n",
       "         -17.73237212, -57.40667853],\n",
       "        ...,\n",
       "        [ 48.29359478,   0.70145909, -16.25638819, ...,  22.17270175,\n",
       "          14.45837524, -24.95860688],\n",
       "        [-30.73105673,   4.00657087,  12.48207619, ...,  17.11106953,\n",
       "           7.28840153,   7.93771191],\n",
       "        [ 16.94874438,  16.4184019 ,  38.40857916, ...,  19.20240176,\n",
       "         -44.81891791,  35.45613206]],\n",
       "\n",
       "       ...,\n",
       "\n",
       "       [[-18.22262492,  27.70968251,   8.40806351, ...,  33.28038299,\n",
       "          15.8853479 , -34.88639945],\n",
       "        [  3.8744532 , -67.91408185, -44.80682352, ...,  10.47352989,\n",
       "         -21.21370656,   6.18905552],\n",
       "        [-27.37644416, -11.05115755,   3.0397349 , ...,  -5.56290545,\n",
       "          26.3194579 ,  16.96340687],\n",
       "        ...,\n",
       "        [  0.83200323,  30.66659178,  12.39488432, ...,  -0.21613122,\n",
       "          15.30258078,  19.63580978],\n",
       "        [ 18.29896346,   4.13929615, -12.27008936, ..., -11.43908139,\n",
       "           9.14872861, -21.17089433],\n",
       "        [-47.18766113,  -3.58613024,  -7.00973965, ..., -55.53604632,\n",
       "          11.52450976, -11.28833987]],\n",
       "\n",
       "       [[  5.69022398, -10.49575956,  -6.49957729, ..., -50.99887643,\n",
       "          50.07537623,  23.48636875],\n",
       "        [ 64.10146923,  -0.1808509 ,  -5.42536644, ...,  25.91125208,\n",
       "         -18.51730966,  10.676085  ],\n",
       "        [-18.07397331,  19.82618863, -26.3450004 , ...,  12.8801977 ,\n",
       "          -1.11395089,   9.91830272],\n",
       "        ...,\n",
       "        [ 12.81900067,  29.15222006,   1.95873591, ...,   2.90289821,\n",
       "           2.55819452, -10.97346256],\n",
       "        [-31.04593577,  37.13812226, -18.93221353, ...,  -0.80006702,\n",
       "           7.08899467,  16.62819955],\n",
       "        [  9.19103314, -14.62471268, -38.78315867, ...,  -7.39902321,\n",
       "          20.07400224,  -2.22805813]],\n",
       "\n",
       "       [[  0.4570272 ,  29.80275263,   0.68551892, ...,  -6.7685838 ,\n",
       "          22.63793296,   3.90734703],\n",
       "        [ 11.41289258, -15.61203802,  17.72123648, ...,  14.83686223,\n",
       "         -14.65897523,  -3.34097463],\n",
       "        [ 18.16385644, -15.2941683 ,  14.64344643, ..., -24.48274178,\n",
       "          29.75928312, -13.14948865],\n",
       "        ...,\n",
       "        [  8.15289978, -11.31379601,  28.09200028, ...,  19.63392477,\n",
       "         -32.1591261 ,   5.87192945],\n",
       "        [-28.34112048,  14.39567652, -12.22389449, ...,  19.73697751,\n",
       "          25.19415064,   4.90491008],\n",
       "        [ 26.5692981 , -13.32385849,  35.89955697, ...,  31.75624313,\n",
       "          28.43003148, -16.36625539]]])"
      ]
     },
     "execution_count": 124,
     "metadata": {},
     "output_type": "execute_result"
    }
   ],
   "source": [
    "np.einsum(\"bqm, bkm ->bqk\", Q, K)"
   ]
  },
  {
   "cell_type": "code",
   "execution_count": null,
   "id": "42d07873",
   "metadata": {},
   "outputs": [],
   "source": [
    "# bqm * bkm -> qm * transpose(km) ->qk"
   ]
  },
  {
   "cell_type": "code",
   "execution_count": 125,
   "id": "9d60543f",
   "metadata": {},
   "outputs": [
    {
     "data": {
      "text/plain": [
       "(32, 64, 128)"
      ]
     },
     "execution_count": 125,
     "metadata": {},
     "output_type": "execute_result"
    }
   ],
   "source": [
    "np.einsum(\"bqm, bkm ->bqk\", Q, K).shape"
   ]
  },
  {
   "cell_type": "code",
   "execution_count": 126,
   "id": "f8bb1b6c",
   "metadata": {},
   "outputs": [],
   "source": [
    "A=np.random.randn(2, 4, 4, 2) #bcij\n",
    "B=np.random.randn(2, 4, 4, 1) #bcik"
   ]
  },
  {
   "cell_type": "code",
   "execution_count": 127,
   "id": "adfcbd5f",
   "metadata": {},
   "outputs": [
    {
     "data": {
      "text/plain": [
       "(2, 4, 1, 2)"
      ]
     },
     "execution_count": 127,
     "metadata": {},
     "output_type": "execute_result"
    }
   ],
   "source": [
    "np.einsum(\"bcik, bcij ->bckj\", B, A).shape"
   ]
  },
  {
   "cell_type": "code",
   "execution_count": 129,
   "id": "bd23f400",
   "metadata": {},
   "outputs": [
    {
     "data": {
      "text/plain": [
       "array([[[[ 2.28320465,  0.19299864]],\n",
       "\n",
       "        [[ 1.91449864,  0.49819323]],\n",
       "\n",
       "        [[-0.78476468,  2.84472519]],\n",
       "\n",
       "        [[ 0.43795515,  1.19273073]]],\n",
       "\n",
       "\n",
       "       [[[-0.55025239,  0.39202685]],\n",
       "\n",
       "        [[-1.41805011,  0.34346783]],\n",
       "\n",
       "        [[ 1.66138667,  0.77736187]],\n",
       "\n",
       "        [[ 1.834623  ,  1.35882643]]]])"
      ]
     },
     "execution_count": 129,
     "metadata": {},
     "output_type": "execute_result"
    }
   ],
   "source": [
    "np.einsum(\"bcik, bcij ->bckj\", B, A)"
   ]
  },
  {
   "cell_type": "code",
   "execution_count": 128,
   "id": "e34d92ff",
   "metadata": {},
   "outputs": [
    {
     "data": {
      "text/plain": [
       "(2, 4, 1, 2)"
      ]
     },
     "execution_count": 128,
     "metadata": {},
     "output_type": "execute_result"
    }
   ],
   "source": [
    "np.matmul(np.transpose(B, (0,1,3,2)), A).shape"
   ]
  },
  {
   "cell_type": "code",
   "execution_count": 130,
   "id": "7286f0c4",
   "metadata": {},
   "outputs": [
    {
     "data": {
      "text/plain": [
       "array([[[[ 2.28320465,  0.19299864]],\n",
       "\n",
       "        [[ 1.91449864,  0.49819323]],\n",
       "\n",
       "        [[-0.78476468,  2.84472519]],\n",
       "\n",
       "        [[ 0.43795515,  1.19273073]]],\n",
       "\n",
       "\n",
       "       [[[-0.55025239,  0.39202685]],\n",
       "\n",
       "        [[-1.41805011,  0.34346783]],\n",
       "\n",
       "        [[ 1.66138667,  0.77736187]],\n",
       "\n",
       "        [[ 1.834623  ,  1.35882643]]]])"
      ]
     },
     "execution_count": 130,
     "metadata": {},
     "output_type": "execute_result"
    }
   ],
   "source": [
    "np.matmul(np.transpose(B, (0,1,3,2)), A)"
   ]
  },
  {
   "cell_type": "code",
   "execution_count": 131,
   "id": "ff154906",
   "metadata": {},
   "outputs": [],
   "source": [
    "A=np.random.randn(2, 4, 6, 4, 2) #bcij\n",
    "B=np.random.randn(2, 4, 6, 4, 1) #bcik"
   ]
  },
  {
   "cell_type": "code",
   "execution_count": 133,
   "id": "12f744e9",
   "metadata": {},
   "outputs": [
    {
     "data": {
      "text/plain": [
       "array([[[[[ 1.49946661e+00,  2.79928955e+00]],\n",
       "\n",
       "         [[ 3.93527488e+00,  1.55006258e+00]],\n",
       "\n",
       "         [[-2.11800236e-01, -1.26784343e+00]],\n",
       "\n",
       "         [[ 6.23774451e-01, -7.75528593e-02]],\n",
       "\n",
       "         [[-1.04277955e+00, -1.16446942e+00]],\n",
       "\n",
       "         [[-3.38572676e+00, -6.68780798e-01]]],\n",
       "\n",
       "\n",
       "        [[[ 1.86055021e+00, -4.13118969e+00]],\n",
       "\n",
       "         [[-7.17690851e+00, -4.14688269e+00]],\n",
       "\n",
       "         [[ 1.65514326e+00, -4.23913478e+00]],\n",
       "\n",
       "         [[ 9.72684156e-01, -3.04220101e+00]],\n",
       "\n",
       "         [[ 2.48837168e+00,  4.37462537e+00]],\n",
       "\n",
       "         [[-6.57228523e-01,  3.39899103e-01]]],\n",
       "\n",
       "\n",
       "        [[[ 2.05007624e+00,  9.91170711e-01]],\n",
       "\n",
       "         [[-2.16435765e+00,  3.25073900e+00]],\n",
       "\n",
       "         [[ 4.25251366e-01, -4.15419348e-01]],\n",
       "\n",
       "         [[ 1.94953602e+00,  1.78417435e+00]],\n",
       "\n",
       "         [[ 8.57052542e-01, -3.43912162e-01]],\n",
       "\n",
       "         [[ 2.95921618e-01,  3.92476747e-01]]],\n",
       "\n",
       "\n",
       "        [[[-5.07083972e+00,  2.10979936e+00]],\n",
       "\n",
       "         [[-1.25397322e+00,  4.80164756e+00]],\n",
       "\n",
       "         [[ 3.93342455e+00,  1.56388363e+00]],\n",
       "\n",
       "         [[ 1.37626817e+00,  8.23484400e-01]],\n",
       "\n",
       "         [[-4.56640094e-01, -1.58008519e+00]],\n",
       "\n",
       "         [[ 1.19732752e+00,  3.14113672e+00]]]],\n",
       "\n",
       "\n",
       "\n",
       "       [[[[-1.95455489e+00,  2.54342087e+00]],\n",
       "\n",
       "         [[-2.20141018e-01,  5.41184870e-01]],\n",
       "\n",
       "         [[-8.42072301e-02, -6.74755758e-01]],\n",
       "\n",
       "         [[ 3.20311761e+00,  3.87085811e-01]],\n",
       "\n",
       "         [[ 1.04133031e+00, -7.13416906e-01]],\n",
       "\n",
       "         [[ 3.60141384e-02, -1.67735218e+00]]],\n",
       "\n",
       "\n",
       "        [[[ 7.72403579e-01, -3.45161570e+00]],\n",
       "\n",
       "         [[-2.30944506e+00,  2.61757853e-01]],\n",
       "\n",
       "         [[-1.31205348e+00, -6.32031215e+00]],\n",
       "\n",
       "         [[-1.36720280e-01, -9.78557654e-01]],\n",
       "\n",
       "         [[-7.91873285e-01,  5.04340026e-01]],\n",
       "\n",
       "         [[ 1.42416321e+00, -8.88534116e-01]]],\n",
       "\n",
       "\n",
       "        [[[ 5.96270729e-01, -2.71314643e+00]],\n",
       "\n",
       "         [[-2.75981728e-02,  2.69747382e+00]],\n",
       "\n",
       "         [[-1.30418125e+00, -5.16255519e-01]],\n",
       "\n",
       "         [[-6.87838448e-01,  1.16412097e+00]],\n",
       "\n",
       "         [[ 5.89472388e-01, -1.40409204e+00]],\n",
       "\n",
       "         [[-2.99170914e-03, -7.39482069e-01]]],\n",
       "\n",
       "\n",
       "        [[[ 1.25300066e+00,  8.68284093e-01]],\n",
       "\n",
       "         [[-4.40739495e+00, -5.23705112e+00]],\n",
       "\n",
       "         [[ 7.00672998e+00,  3.85189501e+00]],\n",
       "\n",
       "         [[-1.50388376e+00,  4.52574449e-01]],\n",
       "\n",
       "         [[ 5.71195541e-01,  1.09723279e+00]],\n",
       "\n",
       "         [[-7.55366008e-01, -3.13535682e+00]]]]])"
      ]
     },
     "execution_count": 133,
     "metadata": {},
     "output_type": "execute_result"
    }
   ],
   "source": [
    "np.einsum(\"bcdik, bcdij ->bcdkj\", B, A)"
   ]
  },
  {
   "cell_type": "code",
   "execution_count": 134,
   "id": "f81f3d67",
   "metadata": {},
   "outputs": [
    {
     "data": {
      "text/plain": [
       "(2, 4, 6, 1, 2)"
      ]
     },
     "execution_count": 134,
     "metadata": {},
     "output_type": "execute_result"
    }
   ],
   "source": [
    "np.einsum(\"bcdik, bcdij ->bcdkj\", B, A).shape"
   ]
  },
  {
   "cell_type": "code",
   "execution_count": 135,
   "id": "a2441f8e",
   "metadata": {},
   "outputs": [
    {
     "data": {
      "text/plain": [
       "array([[[[[ 1.49946661e+00,  2.79928955e+00]],\n",
       "\n",
       "         [[ 3.93527488e+00,  1.55006258e+00]],\n",
       "\n",
       "         [[-2.11800236e-01, -1.26784343e+00]],\n",
       "\n",
       "         [[ 6.23774451e-01, -7.75528593e-02]],\n",
       "\n",
       "         [[-1.04277955e+00, -1.16446942e+00]],\n",
       "\n",
       "         [[-3.38572676e+00, -6.68780798e-01]]],\n",
       "\n",
       "\n",
       "        [[[ 1.86055021e+00, -4.13118969e+00]],\n",
       "\n",
       "         [[-7.17690851e+00, -4.14688269e+00]],\n",
       "\n",
       "         [[ 1.65514326e+00, -4.23913478e+00]],\n",
       "\n",
       "         [[ 9.72684156e-01, -3.04220101e+00]],\n",
       "\n",
       "         [[ 2.48837168e+00,  4.37462537e+00]],\n",
       "\n",
       "         [[-6.57228523e-01,  3.39899103e-01]]],\n",
       "\n",
       "\n",
       "        [[[ 2.05007624e+00,  9.91170711e-01]],\n",
       "\n",
       "         [[-2.16435765e+00,  3.25073900e+00]],\n",
       "\n",
       "         [[ 4.25251366e-01, -4.15419348e-01]],\n",
       "\n",
       "         [[ 1.94953602e+00,  1.78417435e+00]],\n",
       "\n",
       "         [[ 8.57052542e-01, -3.43912162e-01]],\n",
       "\n",
       "         [[ 2.95921618e-01,  3.92476747e-01]]],\n",
       "\n",
       "\n",
       "        [[[-5.07083972e+00,  2.10979936e+00]],\n",
       "\n",
       "         [[-1.25397322e+00,  4.80164756e+00]],\n",
       "\n",
       "         [[ 3.93342455e+00,  1.56388363e+00]],\n",
       "\n",
       "         [[ 1.37626817e+00,  8.23484400e-01]],\n",
       "\n",
       "         [[-4.56640094e-01, -1.58008519e+00]],\n",
       "\n",
       "         [[ 1.19732752e+00,  3.14113672e+00]]]],\n",
       "\n",
       "\n",
       "\n",
       "       [[[[-1.95455489e+00,  2.54342087e+00]],\n",
       "\n",
       "         [[-2.20141018e-01,  5.41184870e-01]],\n",
       "\n",
       "         [[-8.42072301e-02, -6.74755758e-01]],\n",
       "\n",
       "         [[ 3.20311761e+00,  3.87085811e-01]],\n",
       "\n",
       "         [[ 1.04133031e+00, -7.13416906e-01]],\n",
       "\n",
       "         [[ 3.60141384e-02, -1.67735218e+00]]],\n",
       "\n",
       "\n",
       "        [[[ 7.72403579e-01, -3.45161570e+00]],\n",
       "\n",
       "         [[-2.30944506e+00,  2.61757853e-01]],\n",
       "\n",
       "         [[-1.31205348e+00, -6.32031215e+00]],\n",
       "\n",
       "         [[-1.36720280e-01, -9.78557654e-01]],\n",
       "\n",
       "         [[-7.91873285e-01,  5.04340026e-01]],\n",
       "\n",
       "         [[ 1.42416321e+00, -8.88534116e-01]]],\n",
       "\n",
       "\n",
       "        [[[ 5.96270729e-01, -2.71314643e+00]],\n",
       "\n",
       "         [[-2.75981728e-02,  2.69747382e+00]],\n",
       "\n",
       "         [[-1.30418125e+00, -5.16255519e-01]],\n",
       "\n",
       "         [[-6.87838448e-01,  1.16412097e+00]],\n",
       "\n",
       "         [[ 5.89472388e-01, -1.40409204e+00]],\n",
       "\n",
       "         [[-2.99170914e-03, -7.39482069e-01]]],\n",
       "\n",
       "\n",
       "        [[[ 1.25300066e+00,  8.68284093e-01]],\n",
       "\n",
       "         [[-4.40739495e+00, -5.23705112e+00]],\n",
       "\n",
       "         [[ 7.00672998e+00,  3.85189501e+00]],\n",
       "\n",
       "         [[-1.50388376e+00,  4.52574449e-01]],\n",
       "\n",
       "         [[ 5.71195541e-01,  1.09723279e+00]],\n",
       "\n",
       "         [[-7.55366008e-01, -3.13535682e+00]]]]])"
      ]
     },
     "execution_count": 135,
     "metadata": {},
     "output_type": "execute_result"
    }
   ],
   "source": [
    "np.matmul(np.transpose(B, (0,1,2,4,3)), A)"
   ]
  },
  {
   "cell_type": "code",
   "execution_count": 136,
   "id": "a514694c",
   "metadata": {},
   "outputs": [
    {
     "data": {
      "text/plain": [
       "(2, 4, 6, 1, 2)"
      ]
     },
     "execution_count": 136,
     "metadata": {},
     "output_type": "execute_result"
    }
   ],
   "source": [
    "np.matmul(np.transpose(B, (0,1,2,4,3)), A).shape"
   ]
  },
  {
   "cell_type": "code",
   "execution_count": 142,
   "id": "917ad4a0",
   "metadata": {},
   "outputs": [
    {
     "name": "stdout",
     "output_type": "stream",
     "text": [
      "(4, 2, 3)\n",
      "(1, 4, 2, 3)\n",
      "(4, 1, 2, 3)\n",
      "(4, 2, 3, 1)\n"
     ]
    }
   ],
   "source": [
    "tensor_three_d= tf.constant(\n",
    "                            [[[1, 2, 0],\n",
    "                              [3, 5, -1]],\n",
    "\n",
    "                             [[10, 2, 0],\n",
    "                              [1, 0, 2]],\n",
    "\n",
    "                             [[5, 8, 0],\n",
    "                              [2, 7, 0]],\n",
    "\n",
    "                             [[2, 1, 9],\n",
    "                              [4, -3, 32]],\n",
    "])\n",
    "\n",
    "#1, 4, 2, 3\n",
    "print(tensor_three_d.shape)\n",
    "print(tf.expand_dims(tensor_three_d, axis = 0).shape)\n",
    "print(tf.expand_dims(tensor_three_d, axis = 1).shape)\n",
    "print(tf.expand_dims(tensor_three_d, axis = 3).shape)"
   ]
  },
  {
   "cell_type": "code",
   "execution_count": 138,
   "id": "f9f28754",
   "metadata": {},
   "outputs": [
    {
     "name": "stdout",
     "output_type": "stream",
     "text": [
      "(4,)\n",
      "tf.Tensor([[2 3 4 5]], shape=(1, 4), dtype=int32)\n"
     ]
    }
   ],
   "source": [
    "x= tf.constant([2, 3, 4, 5])\n",
    "print(x.shape)\n",
    "print(tf.expand_dims(x, axis = 0))"
   ]
  },
  {
   "cell_type": "code",
   "execution_count": 139,
   "id": "bf9a6826",
   "metadata": {},
   "outputs": [
    {
     "name": "stdout",
     "output_type": "stream",
     "text": [
      "(1, 4)\n",
      "tf.Tensor([[[2 3 4 5]]], shape=(1, 1, 4), dtype=int32)\n"
     ]
    }
   ],
   "source": [
    "x= tf.constant([[2, 3, 4, 5]])\n",
    "print(x.shape)\n",
    "print(tf.expand_dims(x, axis = 0))"
   ]
  },
  {
   "cell_type": "code",
   "execution_count": 4,
   "id": "cdb3ec6a",
   "metadata": {},
   "outputs": [
    {
     "name": "stdout",
     "output_type": "stream",
     "text": [
      "(1, 1, 4)\n",
      "tf.Tensor([[[[2 3 4 5]]]], shape=(1, 1, 1, 4), dtype=int32)\n"
     ]
    }
   ],
   "source": [
    "x= tf.constant([[[2, 3, 4, 5]]])\n",
    "print(x.shape)\n",
    "x_expanded =tf.expand_dims(x, axis = 0)\n",
    "print(x_expanded)\n"
   ]
  },
  {
   "cell_type": "code",
   "execution_count": 5,
   "id": "75826408",
   "metadata": {},
   "outputs": [
    {
     "name": "stdout",
     "output_type": "stream",
     "text": [
      "tf.Tensor([[[2 3 4 5]]], shape=(1, 1, 4), dtype=int32)\n"
     ]
    }
   ],
   "source": [
    "x_squeezed = tf.squeeze(x_expanded, axis = 0)\n",
    "print(x_squeezed)"
   ]
  },
  {
   "cell_type": "code",
   "execution_count": 6,
   "id": "462e11c3",
   "metadata": {},
   "outputs": [
    {
     "name": "stdout",
     "output_type": "stream",
     "text": [
      "tf.Tensor([2 3 4 5], shape=(4,), dtype=int32)\n"
     ]
    }
   ],
   "source": [
    "x_squeezed = tf.squeeze(x_expanded, axis = 0)\n",
    "\n",
    "for i in range(2):\n",
    "    x_squeezed = tf.squeeze(x_squeezed, axis = 0)\n",
    "print(x_squeezed)"
   ]
  },
  {
   "cell_type": "code",
   "execution_count": 10,
   "id": "70b67301",
   "metadata": {},
   "outputs": [
    {
     "name": "stdout",
     "output_type": "stream",
     "text": [
      "(4, 2, 3)\n",
      "(4, 2, 3, 1)\n",
      "****************************************************\n",
      "tf.Tensor(\n",
      "[[[ 1  2  0]\n",
      "  [ 3  5 -1]]\n",
      "\n",
      " [[10  2  0]\n",
      "  [ 1  0  2]]\n",
      "\n",
      " [[ 5  8  0]\n",
      "  [ 2  7  0]]\n",
      "\n",
      " [[ 2  1  9]\n",
      "  [ 4 -3 32]]], shape=(4, 2, 3), dtype=int32)\n",
      "(4, 2, 3)\n",
      "****************************************************\n",
      "tf.Tensor(\n",
      "[[[ 1  2  0]\n",
      "  [ 3  5 -1]]\n",
      "\n",
      " [[10  2  0]\n",
      "  [ 1  0  2]]\n",
      "\n",
      " [[ 5  8  0]\n",
      "  [ 2  7  0]]\n",
      "\n",
      " [[ 2  1  9]\n",
      "  [ 4 -3 32]]], shape=(4, 2, 3), dtype=int32)\n",
      "(4, 2, 3)\n"
     ]
    }
   ],
   "source": [
    "tensor_three_d= tf.constant(\n",
    "                            [[[1, 2, 0],\n",
    "                              [3, 5, -1]],\n",
    "\n",
    "                             [[10, 2, 0],\n",
    "                              [1, 0, 2]],\n",
    "\n",
    "                             [[5, 8, 0],\n",
    "                              [2, 7, 0]],\n",
    "\n",
    "                             [[2, 1, 9],\n",
    "                              [4, -3, 32]],\n",
    "])\n",
    "\n",
    "#1, 4, 2, 3\n",
    "print(tensor_three_d.shape)\n",
    "x_exp = tf.expand_dims(tensor_three_d, axis = 3)\n",
    "print(x_exp.shape)\n",
    "print(\"****************************************************\")\n",
    "print(tf.squeeze(x_exp, axis = 3))\n",
    "print(tf.squeeze(x_exp, axis = 3).shape)\n",
    "print(\"****************************************************\")\n",
    "print(tf.reshape(x_exp, [4, 2, 3]))\n",
    "print(tf.reshape(x_exp, [4, 2, 3]).shape)"
   ]
  },
  {
   "cell_type": "code",
   "execution_count": 18,
   "id": "fa78d8b5",
   "metadata": {},
   "outputs": [
    {
     "name": "stdout",
     "output_type": "stream",
     "text": [
      "tf.Tensor([ 3  5  6  6  4  6 -1  2], shape=(8,), dtype=int32)\n",
      "****************************\n",
      "tf.Tensor([ 3  5  6  6  4  6 -1  2], shape=(8,), dtype=int32)\n",
      "****************************\n",
      "tf.Tensor(\n",
      "[[ 3  5]\n",
      " [ 6  6]\n",
      " [ 4  6]\n",
      " [-1  2]], shape=(4, 2), dtype=int32)\n",
      "****************************\n",
      "tf.Tensor(\n",
      "[[ 3  5]\n",
      " [ 6  6]\n",
      " [ 4  6]\n",
      " [-1  2]], shape=(4, 2), dtype=int32)\n",
      "****************************\n",
      "tf.Tensor(\n",
      "[[[ 3]\n",
      "  [ 5]]\n",
      "\n",
      " [[ 6]\n",
      "  [ 6]]\n",
      "\n",
      " [[ 4]\n",
      "  [ 6]]\n",
      "\n",
      " [[-1]\n",
      "  [ 2]]], shape=(4, 2, 1), dtype=int32)\n"
     ]
    }
   ],
   "source": [
    "x_reshape = tf.constant([[3, 5, 6, 6],\n",
    "                        [4, 6, -1, 2]])\n",
    "x = tf.reshape(x_reshape, [8])\n",
    "e = tf.reshape(x_reshape, [-1])\n",
    "y = tf.reshape(x_reshape, [4, 2])\n",
    "d = tf.reshape(x_reshape, [4, -1])\n",
    "z = tf.reshape(x_reshape, [4, 2, 1])\n",
    "\n",
    "print(x)\n",
    "print(\"****************************\")\n",
    "print(e)\n",
    "print(\"****************************\")\n",
    "print(y)\n",
    "print(\"****************************\")\n",
    "print(d)\n",
    "print(\"****************************\")\n",
    "print(z)"
   ]
  },
  {
   "cell_type": "code",
   "execution_count": 14,
   "id": "29bddb3e",
   "metadata": {},
   "outputs": [
    {
     "data": {
      "text/plain": [
       "<tf.Tensor: shape=(4, 2), dtype=int32, numpy=\n",
       "array([[ 3,  4],\n",
       "       [ 5,  6],\n",
       "       [ 6, -1],\n",
       "       [ 6,  2]])>"
      ]
     },
     "execution_count": 14,
     "metadata": {},
     "output_type": "execute_result"
    }
   ],
   "source": [
    "tf.transpose(x_reshape)"
   ]
  },
  {
   "cell_type": "code",
   "execution_count": 21,
   "id": "f7b11fb7",
   "metadata": {},
   "outputs": [
    {
     "name": "stdout",
     "output_type": "stream",
     "text": [
      "(2, 3)\n",
      "(2, 3)\n",
      "tf.Tensor(\n",
      "[[ 1  2  3]\n",
      " [ 4  5  6]\n",
      " [ 7  8  9]\n",
      " [10 11 12]], shape=(4, 3), dtype=int32)\n",
      "***********************************************\n",
      "tf.Tensor(\n",
      "[[ 1  2  3  7  8  9]\n",
      " [ 4  5  6 10 11 12]], shape=(2, 6), dtype=int32)\n"
     ]
    }
   ],
   "source": [
    "t1=[[1, 2, 3],\n",
    "   [4, 5, 6]]\n",
    "t2=[[7, 8, 9],\n",
    "   [10, 11, 12]]\n",
    "\n",
    "print(tf.constant(t1).shape)\n",
    "print(tf.constant(t2).shape)\n",
    "\n",
    "row = tf.concat((t1, t2), axis = 0)\n",
    "print(row)\n",
    "print(\"***********************************************\")\n",
    "column = tf.concat((t1, t2), axis = 1)\n",
    "print(column)"
   ]
  },
  {
   "cell_type": "code",
   "execution_count": 23,
   "id": "b2a87f3c",
   "metadata": {},
   "outputs": [
    {
     "name": "stdout",
     "output_type": "stream",
     "text": [
      "(1, 2, 3)\n",
      "(1, 2, 3)\n",
      "tf.Tensor(\n",
      "[[[ 1  2  3]\n",
      "  [ 4  5  6]]\n",
      "\n",
      " [[ 7  8  9]\n",
      "  [10 11 12]]], shape=(2, 2, 3), dtype=int32)\n",
      "***********************************************\n",
      "tf.Tensor(\n",
      "[[[ 1  2  3]\n",
      "  [ 4  5  6]\n",
      "  [ 7  8  9]\n",
      "  [10 11 12]]], shape=(1, 4, 3), dtype=int32)\n",
      "***********************************************\n",
      "tf.Tensor(\n",
      "[[[ 1  2  3  7  8  9]\n",
      "  [ 4  5  6 10 11 12]]], shape=(1, 2, 6), dtype=int32)\n"
     ]
    }
   ],
   "source": [
    "t1=[[[1, 2, 3],\n",
    "   [4, 5, 6]]]\n",
    "t2=[[[7, 8, 9],\n",
    "   [10, 11, 12]]]\n",
    "\n",
    "print(tf.constant(t1).shape)\n",
    "print(tf.constant(t2).shape)\n",
    "\n",
    "row = tf.concat((t1, t2), axis = 0)\n",
    "print(row)\n",
    "print(\"***********************************************\")\n",
    "column = tf.concat((t1, t2), axis = 1)\n",
    "print(column)\n",
    "print(\"***********************************************\")\n",
    "column_2 = tf.concat((t1, t2), axis = 2)\n",
    "print(column_2)"
   ]
  },
  {
   "cell_type": "code",
   "execution_count": 29,
   "id": "88af2475",
   "metadata": {},
   "outputs": [
    {
     "name": "stdout",
     "output_type": "stream",
     "text": [
      "tf.Tensor(\n",
      "[[[ 1  2  3]\n",
      "  [ 4  5  6]]\n",
      "\n",
      " [[ 7  8  9]\n",
      "  [10 11 12]]], shape=(2, 2, 3), dtype=int32)\n",
      "**********************************************\n",
      "tf.Tensor(\n",
      "[[[ 1  2  3]\n",
      "  [ 4  5  6]]\n",
      "\n",
      " [[ 7  8  9]\n",
      "  [10 11 12]]\n",
      "\n",
      " [[ 1  2  3]\n",
      "  [ 4  5  6]]], shape=(3, 2, 3), dtype=int32)\n",
      "**********************************************\n",
      "tf.Tensor(\n",
      "[[[ 1  2  3]\n",
      "  [ 7  8  9]]\n",
      "\n",
      " [[ 4  5  6]\n",
      "  [10 11 12]]], shape=(2, 2, 3), dtype=int32)\n",
      "**********************************************\n",
      "tf.Tensor(\n",
      "[[[ 1  2  3]\n",
      "  [ 7  8  9]\n",
      "  [ 1  2  3]]\n",
      "\n",
      " [[ 4  5  6]\n",
      "  [10 11 12]\n",
      "  [ 4  5  6]]], shape=(2, 3, 3), dtype=int32)\n",
      "**********************************************\n",
      "tf.Tensor(\n",
      "[[[ 1  7]\n",
      "  [ 2  8]\n",
      "  [ 3  9]]\n",
      "\n",
      " [[ 4 10]\n",
      "  [ 5 11]\n",
      "  [ 6 12]]], shape=(2, 3, 2), dtype=int32)\n"
     ]
    }
   ],
   "source": [
    "t1=[[1, 2, 3],\n",
    "   [4, 5, 6]]\n",
    "t2=[[7, 8, 9],\n",
    "   [10, 11, 12]]\n",
    "\n",
    "# t1 -> 2,3  t2 ->2,3 ----> 2,2,3\n",
    "print(tf.stack((t1, t2), axis = 0))\n",
    "print(\"**********************************************\")\n",
    "# t1 -> 2,3  t2 ->2,3 ----> 3,2,3\n",
    "print(tf.stack((t1, t2, t1), axis = 0))\n",
    "print(\"**********************************************\")\n",
    "# t1 -> 2,3  t2 ->2,3 ----> 2,2,3\n",
    "print(tf.stack((t1, t2), axis = 1))\n",
    "print(\"**********************************************\")\n",
    "# t1 -> 2,3  t2 ->2,3 ----> 2,3,3\n",
    "print(tf.stack((t1, t2, t1), axis = 1))\n",
    "print(\"**********************************************\")\n",
    "# t1 -> 2,3  t2 ->2,3 ----> 2,3,2\n",
    "print(tf.stack((t1, t2), axis = 2))"
   ]
  },
  {
   "cell_type": "code",
   "execution_count": 33,
   "id": "f5ad3c97",
   "metadata": {},
   "outputs": [
    {
     "name": "stdout",
     "output_type": "stream",
     "text": [
      "tf.Tensor(\n",
      "[[[ 1  2  3]\n",
      "  [ 4  5  6]\n",
      "  [ 5  6  2]\n",
      "  [ 1  2  1]]\n",
      "\n",
      " [[ 7  8  9]\n",
      "  [10 11 12]\n",
      "  [ 0  0  2]\n",
      "  [-1  5  2]]], shape=(2, 4, 3), dtype=int32)\n",
      "*****************************************************\n",
      "tf.Tensor(\n",
      "[[[ 1  2  3]\n",
      "  [ 4  5  6]\n",
      "  [ 5  6  2]\n",
      "  [ 1  2  1]]\n",
      "\n",
      " [[ 7  8  9]\n",
      "  [10 11 12]\n",
      "  [ 0  0  2]\n",
      "  [-1  5  2]]], shape=(2, 4, 3), dtype=int32)\n"
     ]
    }
   ],
   "source": [
    "t1=[[1, 2, 3],\n",
    "    [4, 5, 6],\n",
    "    [5, 6, 2],\n",
    "    [1, 2, 1]]\n",
    "              \n",
    "t2=[[7, 8, 9],\n",
    "    [10, 11, 12],\n",
    "    [0, 0, 2],\n",
    "    [-1, 5, 2]]\n",
    "\n",
    "#4,3  4,3 --> expand 1,4,3 --> 2,4,3\n",
    "print(tf.stack((t1, t2), axis = 0))\n",
    "print(\"*****************************************************\")\n",
    "print(tf.concat([tf.expand_dims(t, axis =0) for t in [t1, t2]], axis = 0))"
   ]
  },
  {
   "cell_type": "code",
   "execution_count": 35,
   "id": "d9d80229",
   "metadata": {},
   "outputs": [
    {
     "name": "stdout",
     "output_type": "stream",
     "text": [
      "tf.Tensor(\n",
      "[[0 0 0 0 0 0 0]\n",
      " [0 0 1 2 3 0 0]\n",
      " [0 0 4 5 6 0 0]\n",
      " [0 0 0 0 0 0 0]], shape=(4, 7), dtype=int32)\n",
      "**********************************************************\n",
      "tf.Tensor(\n",
      "[[3 3 3 3 3 3 3]\n",
      " [3 3 1 2 3 3 3]\n",
      " [3 3 4 5 6 3 3]\n",
      " [3 3 3 3 3 3 3]], shape=(4, 7), dtype=int32)\n"
     ]
    }
   ],
   "source": [
    "t = tf.constant([[1, 2, 3], [4, 5, 6]])\n",
    "paddings = tf.constant([[1, 1,], # 1 row above & 1 row below\n",
    "                        [2, 2]]) # 2 columns left & 2 columns right\n",
    "\n",
    "print(tf.pad(t, paddings, 'CONSTANT'))\n",
    "print(\"**********************************************************\")\n",
    "print(tf.pad(t, paddings, 'CONSTANT', constant_values = 3))"
   ]
  },
  {
   "cell_type": "code",
   "execution_count": 37,
   "id": "3897f6e6",
   "metadata": {},
   "outputs": [
    {
     "name": "stdout",
     "output_type": "stream",
     "text": [
      "tf.Tensor(\n",
      "[[0 0 0 0 0 0 0 0]\n",
      " [0 0 1 2 3 0 0 0]\n",
      " [0 0 4 5 6 0 0 0]\n",
      " [0 0 0 0 0 0 0 0]\n",
      " [0 0 0 0 0 0 0 0]\n",
      " [0 0 0 0 0 0 0 0]\n",
      " [0 0 0 0 0 0 0 0]\n",
      " [0 0 0 0 0 0 0 0]], shape=(8, 8), dtype=int32)\n"
     ]
    }
   ],
   "source": [
    "t = tf.constant([[1, 2, 3], \n",
    "                 [4, 5, 6]])\n",
    "paddings = tf.constant([[1, 5,], \n",
    "                        [2, 3]]) \n",
    "\n",
    "print(tf.pad(t, paddings, 'CONSTANT', constant_values = 0))"
   ]
  },
  {
   "cell_type": "code",
   "execution_count": 43,
   "id": "4a83a15a",
   "metadata": {},
   "outputs": [
    {
     "name": "stdout",
     "output_type": "stream",
     "text": [
      "(6,)\n"
     ]
    },
    {
     "data": {
      "text/plain": [
       "<tf.Tensor: shape=(3,), dtype=string, numpy=array([b'p1', b'p2', b'p3'], dtype=object)>"
      ]
     },
     "execution_count": 43,
     "metadata": {},
     "output_type": "execute_result"
    }
   ],
   "source": [
    "params = tf.constant(['p0','p1', 'p2', 'p3', 'p4', 'p5'])\n",
    "print(params.shape)\n",
    "params[1:3+1]"
   ]
  },
  {
   "cell_type": "code",
   "execution_count": 42,
   "id": "7d88f3df",
   "metadata": {},
   "outputs": [
    {
     "name": "stdout",
     "output_type": "stream",
     "text": [
      "tf.Tensor([b'p1' b'p2' b'p3'], shape=(3,), dtype=string)\n",
      "tf.Tensor([b'p1' b'p2' b'p3'], shape=(3,), dtype=string)\n",
      "tf.Tensor([b'p0' b'p5' b'p3'], shape=(3,), dtype=string)\n"
     ]
    }
   ],
   "source": [
    "print(tf.gather(params, [1, 2, 3]))\n",
    "print(tf.gather(params, tf.range(1,4)))\n",
    "print(tf.gather(params, [0, 5, 3]))"
   ]
  },
  {
   "cell_type": "code",
   "execution_count": 48,
   "id": "5c4c7f2e",
   "metadata": {},
   "outputs": [
    {
     "name": "stdout",
     "output_type": "stream",
     "text": [
      "(4, 3)\n",
      "tf.Tensor([[0. 1. 2.]], shape=(1, 3), dtype=float32)\n",
      "tf.Tensor(\n",
      "[[ 0.  1.  2.]\n",
      " [30. 31. 32.]], shape=(2, 3), dtype=float32)\n",
      "********************************************\n",
      "tf.Tensor(\n",
      "[[ 0.  2.]\n",
      " [10. 12.]\n",
      " [20. 22.]\n",
      " [30. 32.]], shape=(4, 2), dtype=float32)\n",
      "********************************************\n",
      "tf.Tensor(\n",
      "[[ 2.  0.]\n",
      " [12. 10.]\n",
      " [22. 20.]\n",
      " [32. 30.]], shape=(4, 2), dtype=float32)\n"
     ]
    }
   ],
   "source": [
    "params = tf.constant([[0, 1.0, 2.0],\n",
    "                     [10.0, 11.0, 12.0],\n",
    "                     [20.0, 21.0, 22.0],\n",
    "                     [30, 31.0, 32.0]])\n",
    "\n",
    "print(params.shape)\n",
    "print(tf.gather(params, [0], axis = 0))\n",
    "print(tf.gather(params, [0,3]))\n",
    "\n",
    "print(\"********************************************\")\n",
    "print(tf.gather(params, [0,2], axis = 1))\n",
    "print(\"********************************************\")\n",
    "print(tf.gather(params, [2,0], axis = 1))"
   ]
  },
  {
   "cell_type": "code",
   "execution_count": 52,
   "id": "688567a8",
   "metadata": {},
   "outputs": [
    {
     "name": "stdout",
     "output_type": "stream",
     "text": [
      "(1, 4, 3)\n",
      "tf.Tensor(\n",
      "[[[20. 21. 22.]\n",
      "  [ 0.  1.  2.]]], shape=(1, 2, 3), dtype=float32)\n"
     ]
    }
   ],
   "source": [
    "params = tf.constant([[[0, 1.0, 2.0],\n",
    "                     [10.0, 11.0, 12.0],\n",
    "                     [20.0, 21.0, 22.0],\n",
    "                     [30, 31.0, 32.0]]])\n",
    "\n",
    "print(params.shape)\n",
    "print(tf.gather(params, [2,0], axis = 1))"
   ]
  },
  {
   "cell_type": "code",
   "execution_count": 56,
   "id": "e302f015",
   "metadata": {},
   "outputs": [
    {
     "name": "stdout",
     "output_type": "stream",
     "text": [
      "(2, 4, 3)\n",
      "tf.Tensor(\n",
      "[[[20. 21. 22.]\n",
      "  [ 0.  1.  2.]]\n",
      "\n",
      " [[ 0.  5. 55.]\n",
      "  [ 3.  1. 21.]]], shape=(2, 2, 3), dtype=float32)\n",
      "********************************************\n",
      "tf.Tensor(\n",
      "[[[ 3.  1. 21.]\n",
      "  [ 1.  3. 88.]\n",
      "  [ 0.  5. 55.]\n",
      "  [ 0.  2. 30.]]\n",
      "\n",
      " [[ 0.  1.  2.]\n",
      "  [10. 11. 12.]\n",
      "  [20. 21. 22.]\n",
      "  [30. 31. 32.]]], shape=(2, 4, 3), dtype=float32)\n"
     ]
    }
   ],
   "source": [
    "params = tf.constant([[[0, 1.0, 2.0],\n",
    "                     [10.0, 11.0, 12.0],\n",
    "                     [20.0, 21.0, 22.0],\n",
    "                     [30, 31.0, 32.0]],\n",
    "                     \n",
    "                     [[3, 1, 21],\n",
    "                     [1.0, 3, 88],\n",
    "                     [0, 5, 55],\n",
    "                     [0, 2, 30]]])\n",
    "\n",
    "print(params.shape)\n",
    "print(tf.gather(params, [2,0], axis = 1))\n",
    "print(\"********************************************\")\n",
    "print(tf.gather(params, [1,0], axis = 0))"
   ]
  },
  {
   "cell_type": "code",
   "execution_count": 57,
   "id": "16bd5375",
   "metadata": {},
   "outputs": [
    {
     "data": {
      "text/plain": [
       "<tf.Tensor: shape=(2, 2), dtype=string, numpy=\n",
       "array([[b'a', b'b'],\n",
       "       [b'c', b'd']], dtype=object)>"
      ]
     },
     "execution_count": 57,
     "metadata": {},
     "output_type": "execute_result"
    }
   ],
   "source": [
    "indices = [[0],\n",
    "          [1]]\n",
    "params = [['a', 'b'],\n",
    "         ['c', 'd']]\n",
    "\n",
    "tf.gather_nd(params, indices)"
   ]
  },
  {
   "cell_type": "code",
   "execution_count": 58,
   "id": "cb5610ec",
   "metadata": {},
   "outputs": [
    {
     "data": {
      "text/plain": [
       "<tf.Tensor: shape=(1, 2), dtype=string, numpy=array([[b'a', b'b']], dtype=object)>"
      ]
     },
     "execution_count": 58,
     "metadata": {},
     "output_type": "execute_result"
    }
   ],
   "source": [
    "indices = [[0]]\n",
    "params = [['a', 'b'],\n",
    "         ['c', 'd']]\n",
    "\n",
    "tf.gather_nd(params, indices)"
   ]
  },
  {
   "cell_type": "code",
   "execution_count": 59,
   "id": "d3bb2622",
   "metadata": {},
   "outputs": [
    {
     "data": {
      "text/plain": [
       "<tf.Tensor: shape=(1,), dtype=string, numpy=array([b'f'], dtype=object)>"
      ]
     },
     "execution_count": 59,
     "metadata": {},
     "output_type": "execute_result"
    }
   ],
   "source": [
    "indices = [[2,1]]\n",
    "params = [['a', 'b'],\n",
    "         ['c', 'd'],\n",
    "         ['e', 'f']]\n",
    "\n",
    "tf.gather_nd(params, indices)"
   ]
  },
  {
   "cell_type": "code",
   "execution_count": 60,
   "id": "1df42253",
   "metadata": {},
   "outputs": [
    {
     "data": {
      "text/plain": [
       "<tf.Tensor: shape=(), dtype=string, numpy=b'f'>"
      ]
     },
     "execution_count": 60,
     "metadata": {},
     "output_type": "execute_result"
    }
   ],
   "source": [
    "indices = [2,1]\n",
    "params = [['a', 'b'],\n",
    "         ['c', 'd'],\n",
    "         ['e', 'f']]\n",
    "\n",
    "tf.gather_nd(params, indices)"
   ]
  },
  {
   "cell_type": "code",
   "execution_count": 62,
   "id": "e1588a10",
   "metadata": {},
   "outputs": [
    {
     "data": {
      "text/plain": [
       "<tf.Tensor: shape=(2, 2), dtype=string, numpy=\n",
       "array([[b'e', b'f'],\n",
       "       [b'c', b'd']], dtype=object)>"
      ]
     },
     "execution_count": 62,
     "metadata": {},
     "output_type": "execute_result"
    }
   ],
   "source": [
    "tf.gather(params, indices, axis = 0)"
   ]
  },
  {
   "cell_type": "code",
   "execution_count": 65,
   "id": "058f4806",
   "metadata": {},
   "outputs": [
    {
     "data": {
      "text/plain": [
       "<tf.Tensor: shape=(2, 2), dtype=string, numpy=\n",
       "array([[b'c0', b'd0'],\n",
       "       [b'a1', b'b1']], dtype=object)>"
      ]
     },
     "execution_count": 65,
     "metadata": {},
     "output_type": "execute_result"
    }
   ],
   "source": [
    "indices = [[0, 1],[1, 0]]\n",
    "params = [[['a0', 'b0'],\n",
    "         ['c0', 'd0']],\n",
    "         \n",
    "         [['a1', 'b1'],\n",
    "         ['c1', 'd1']]]\n",
    "\n",
    "tf.gather_nd(params, indices)"
   ]
  },
  {
   "cell_type": "code",
   "execution_count": 66,
   "id": "eeec3d34",
   "metadata": {},
   "outputs": [
    {
     "data": {
      "text/plain": [
       "<tf.Tensor: shape=(2,), dtype=string, numpy=array([b'c0', b'b1'], dtype=object)>"
      ]
     },
     "execution_count": 66,
     "metadata": {},
     "output_type": "execute_result"
    }
   ],
   "source": [
    "indices = [[0, 1, 0],[1, 0, 1]]\n",
    "params = [[['a0', 'b0'],\n",
    "         ['c0', 'd0']],\n",
    "         \n",
    "         [['a1', 'b1'],\n",
    "         ['c1', 'd1']]]\n",
    "\n",
    "tf.gather_nd(params, indices)"
   ]
  },
  {
   "cell_type": "code",
   "execution_count": 68,
   "id": "d149fab4",
   "metadata": {},
   "outputs": [
    {
     "name": "stdout",
     "output_type": "stream",
     "text": [
      "tf.Tensor(\n",
      "[[[b'c0' b'd0']\n",
      "  [b'a1' b'b1']]\n",
      "\n",
      " [[b'a0' b'b0']\n",
      "  [b'c1' b'd1']]], shape=(2, 2, 2), dtype=string)\n",
      "**********************************************************\n",
      "tf.Tensor(\n",
      "[[b'b0' b'c0']\n",
      " [b'a1' b'd1']], shape=(2, 2), dtype=string)\n"
     ]
    }
   ],
   "source": [
    "indices = [[[0, 1], #0 shows block & 1 shows row\n",
    "           [1, 0]],\n",
    "           \n",
    "          [[0, 0],\n",
    "           [1, 1]]]\n",
    "\n",
    "\n",
    "params = [[['a0', 'b0'],\n",
    "         ['c0', 'd0']],\n",
    "         \n",
    "         [['a1', 'b1'],\n",
    "         ['c1', 'd1']]]\n",
    "\n",
    "print(tf.gather_nd(params, indices, batch_dims = 0))\n",
    "print(\"**********************************************************\")\n",
    "print(tf.gather_nd(params, indices, batch_dims = 1))"
   ]
  },
  {
   "cell_type": "code",
   "execution_count": 70,
   "id": "7d5e6ec1",
   "metadata": {},
   "outputs": [
    {
     "data": {
      "text/plain": [
       "<tf.Tensor: shape=(2,), dtype=string, numpy=array([b'b0', b'c1'], dtype=object)>"
      ]
     },
     "execution_count": 70,
     "metadata": {},
     "output_type": "execute_result"
    }
   ],
   "source": [
    "indices = [[0, 1], #batch_dims = 1 --> 0 shows row & 1 shows column\n",
    "           [1, 0]\n",
    "           ]\n",
    "\n",
    "\n",
    "params = [[['a0', 'b0'],\n",
    "         ['c0', 'd0']],\n",
    "         \n",
    "         [['a1', 'b1'],\n",
    "         ['c1', 'd1']]]\n",
    "\n",
    "tf.gather_nd(params, indices, batch_dims = 1)"
   ]
  },
  {
   "cell_type": "code",
   "execution_count": 71,
   "id": "4c11accd",
   "metadata": {},
   "outputs": [
    {
     "name": "stdout",
     "output_type": "stream",
     "text": [
      "(4, 3)\n"
     ]
    }
   ],
   "source": [
    "tensor_two_d= tf.constant([\n",
    "    [1, 2, 0],\n",
    "    [3, 5, -1],\n",
    "    [1, 5, 6],\n",
    "    [2, 3, 8],\n",
    "])\n",
    "print(tensor_two_d.shape)"
   ]
  },
  {
   "cell_type": "code",
   "execution_count": 73,
   "id": "6ef8c8b0",
   "metadata": {},
   "outputs": [
    {
     "name": "stdout",
     "output_type": "stream",
     "text": [
      "(4, None)\n",
      "<tf.RaggedTensor [[1, 2, 0], [3], [1, 5, 6], [2, 3]]>\n"
     ]
    }
   ],
   "source": [
    "tensor_two_d=[\n",
    "    [1, 2, 0],\n",
    "    [3,],\n",
    "    [1, 5, 6],\n",
    "    [2, 3],]\n",
    "\n",
    "tensor_ragged = tf.ragged.constant(tensor_two_d)\n",
    "print(tensor_ragged.shape)\n",
    "print(tensor_ragged)"
   ]
  },
  {
   "cell_type": "code",
   "execution_count": 75,
   "id": "0a15f3fe",
   "metadata": {},
   "outputs": [
    {
     "name": "stdout",
     "output_type": "stream",
     "text": [
      "<tf.RaggedTensor [[3, 1, 4, 1], [], [5, 9, 2], [6], []]>\n"
     ]
    }
   ],
   "source": [
    "print(tf.RaggedTensor.from_row_lengths(\n",
    "values=[3,1,4,1,5,9,2,6],\n",
    "row_lengths=[4,0,3,1,0]))"
   ]
  },
  {
   "cell_type": "code",
   "execution_count": 78,
   "id": "fbdf1bd5",
   "metadata": {},
   "outputs": [],
   "source": [
    "tensor_sparse=tf.sparse.SparseTensor(\n",
    "indices=[[1,1],[3,4]], values=[11,56], dense_shape=[5,6])"
   ]
  },
  {
   "cell_type": "code",
   "execution_count": 79,
   "id": "0fcda5e5",
   "metadata": {},
   "outputs": [
    {
     "name": "stdout",
     "output_type": "stream",
     "text": [
      "SparseTensor(indices=tf.Tensor(\n",
      "[[1 1]\n",
      " [3 4]], shape=(2, 2), dtype=int64), values=tf.Tensor([11 56], shape=(2,), dtype=int32), dense_shape=tf.Tensor([5 6], shape=(2,), dtype=int64))\n"
     ]
    }
   ],
   "source": [
    "print(tensor_sparse)"
   ]
  },
  {
   "cell_type": "code",
   "execution_count": 80,
   "id": "62e95c2e",
   "metadata": {},
   "outputs": [
    {
     "data": {
      "text/plain": [
       "<tf.Tensor: shape=(5, 6), dtype=int32, numpy=\n",
       "array([[ 0,  0,  0,  0,  0,  0],\n",
       "       [ 0, 11,  0,  0,  0,  0],\n",
       "       [ 0,  0,  0,  0,  0,  0],\n",
       "       [ 0,  0,  0,  0, 56,  0],\n",
       "       [ 0,  0,  0,  0,  0,  0]])>"
      ]
     },
     "execution_count": 80,
     "metadata": {},
     "output_type": "execute_result"
    }
   ],
   "source": [
    "tf.sparse.to_dense(tensor_sparse)"
   ]
  },
  {
   "cell_type": "code",
   "execution_count": 81,
   "id": "c9c10969",
   "metadata": {},
   "outputs": [
    {
     "name": "stdout",
     "output_type": "stream",
     "text": [
      "tf.Tensor([b'hello' b'i am' b'a string'], shape=(3,), dtype=string)\n"
     ]
    }
   ],
   "source": [
    "tensor_string = tf.constant([\"hello\", \"i am\", \"a string\"])\n",
    "print(tensor_string)"
   ]
  },
  {
   "cell_type": "code",
   "execution_count": 84,
   "id": "5652ea0d",
   "metadata": {},
   "outputs": [
    {
     "name": "stdout",
     "output_type": "stream",
     "text": [
      "tf.Tensor(b'hello i am a string', shape=(), dtype=string)\n",
      "***************************************************\n",
      "tf.Tensor(b'hello+i am+a string', shape=(), dtype=string)\n"
     ]
    }
   ],
   "source": [
    "print(tf.strings.join(tensor_string, separator =\" \"))\n",
    "print(\"***************************************************\")\n",
    "print(tf.strings.join(tensor_string, separator =\"+\"))"
   ]
  },
  {
   "cell_type": "code",
   "execution_count": 85,
   "id": "bdc1ebca",
   "metadata": {},
   "outputs": [],
   "source": [
    "x=tf.constant([1,2])"
   ]
  },
  {
   "cell_type": "code",
   "execution_count": 87,
   "id": "bd773f94",
   "metadata": {},
   "outputs": [
    {
     "name": "stdout",
     "output_type": "stream",
     "text": [
      "<tf.Variable 'var1:0' shape=(2,) dtype=int32, numpy=array([1, 2])>\n"
     ]
    }
   ],
   "source": [
    "x_var = tf.Variable(x, name = 'var1')\n",
    "print(x_var)"
   ]
  },
  {
   "cell_type": "code",
   "execution_count": 89,
   "id": "db98deb6",
   "metadata": {},
   "outputs": [
    {
     "name": "stdout",
     "output_type": "stream",
     "text": [
      "<tf.Variable 'UnreadVariable' shape=(2,) dtype=int32, numpy=array([-5, -6])>\n",
      "*************************************\n",
      "<tf.Variable 'UnreadVariable' shape=(2,) dtype=int32, numpy=array([ -8, -12])>\n"
     ]
    }
   ],
   "source": [
    "print(x_var.assign_sub([3,4]))\n",
    "print(\"*************************************\")\n",
    "print(x_var.assign_sub([3,6]))"
   ]
  },
  {
   "cell_type": "code",
   "execution_count": 90,
   "id": "aa5fd055",
   "metadata": {},
   "outputs": [
    {
     "name": "stdout",
     "output_type": "stream",
     "text": [
      "<tf.Variable 'UnreadVariable' shape=(2,) dtype=int32, numpy=array([-3, -4])>\n"
     ]
    }
   ],
   "source": [
    "print(x_var.assign_add([5,8]))"
   ]
  },
  {
   "cell_type": "code",
   "execution_count": 93,
   "id": "f1a941b0",
   "metadata": {},
   "outputs": [
    {
     "name": "stdout",
     "output_type": "stream",
     "text": [
      "/job:localhost/replica:0/task:0/device:CPU:0\n",
      "/job:localhost/replica:0/task:0/device:CPU:0\n"
     ]
    }
   ],
   "source": [
    "with tf.device('GPU:0'):\n",
    "    x_var = tf.Variable(0.2)\n",
    "    \n",
    "with tf.device('CPU:0'):\n",
    "    x_tensor = tf.constant(0.2)\n",
    "    \n",
    "print(x_var.device) \n",
    "print(x_tensor.device)"
   ]
  },
  {
   "cell_type": "code",
   "execution_count": 94,
   "id": "ce1c9f00",
   "metadata": {},
   "outputs": [
    {
     "name": "stdout",
     "output_type": "stream",
     "text": [
      "tf.Tensor([1 3 4], shape=(3,), dtype=int32) /job:localhost/replica:0/task:0/device:CPU:0\n",
      "tf.Tensor([1], shape=(1,), dtype=int32) /job:localhost/replica:0/task:0/device:CPU:0\n",
      "tf.Tensor([2 4 5], shape=(3,), dtype=int32) /job:localhost/replica:0/task:0/device:CPU:0\n"
     ]
    }
   ],
   "source": [
    "with tf.device('CPU:0'):\n",
    "    x_1 = tf.constant([1, 3, 4])\n",
    "    x_2 = tf.constant([1])\n",
    "    \n",
    "with tf.device('GPU:0'):\n",
    "    x_3 = x_1 + x_2\n",
    "    \n",
    "print(x_1, x_1.device) \n",
    "print(x_2, x_2.device)\n",
    "print(x_3, x_3.device)"
   ]
  },
  {
   "cell_type": "code",
   "execution_count": null,
   "id": "ebc54d6b",
   "metadata": {},
   "outputs": [],
   "source": []
  }
 ],
 "metadata": {
  "kernelspec": {
   "display_name": "Python 3 (ipykernel)",
   "language": "python",
   "name": "python3"
  },
  "language_info": {
   "codemirror_mode": {
    "name": "ipython",
    "version": 3
   },
   "file_extension": ".py",
   "mimetype": "text/x-python",
   "name": "python",
   "nbconvert_exporter": "python",
   "pygments_lexer": "ipython3",
   "version": "3.10.12"
  }
 },
 "nbformat": 4,
 "nbformat_minor": 5
}
