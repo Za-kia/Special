{
 "cells": [
  {
   "cell_type": "code",
   "execution_count": 2,
   "id": "4cd8e914-f781-4f82-8679-5f7e48a68c1f",
   "metadata": {},
   "outputs": [],
   "source": [
    "# Load libraries\n",
    "from scipy.sparse import issparse\n",
    "from sklearn.linear_model import LinearRegression\n",
    "from sklearn.datasets import make_regression\n",
    "# Generate features matrix, target vector\n",
    "features, target = make_regression(n_samples = 100,\n",
    "                                    n_features = 3,\n",
    "                                    n_informative = 2,\n",
    "                                    n_targets = 1,\n",
    "                                    noise = 0.2,\n",
    "                                    coef = False,\n",
    "                                    random_state = 1)\n",
    "# Create linear regression\n",
    "regression = LinearRegression()\n",
    "# Fit the linear regression\n",
    "model = regression.fit(features, target)"
   ]
  },
  {
   "cell_type": "code",
   "execution_count": 3,
   "id": "6f3fedc1-5baf-4546-8f6b-97bbc4e8b164",
   "metadata": {},
   "outputs": [
    {
     "data": {
      "text/plain": [
       "-0.009650118178814893"
      ]
     },
     "execution_count": 3,
     "metadata": {},
     "output_type": "execute_result"
    }
   ],
   "source": [
    "# View the intercept\n",
    "model.intercept_"
   ]
  },
  {
   "cell_type": "code",
   "execution_count": 4,
   "id": "365e0c48-7bd0-4ff9-b72c-8d114a6e0b2e",
   "metadata": {},
   "outputs": [
    {
     "data": {
      "text/plain": [
       "array([1.95531234e-02, 4.42087450e+01, 5.81494563e+01])"
      ]
     },
     "execution_count": 4,
     "metadata": {},
     "output_type": "execute_result"
    }
   ],
   "source": [
    "# View the feature coefficients\n",
    "model.coef_"
   ]
  },
  {
   "cell_type": "code",
   "execution_count": 5,
   "id": "d1385a47-dc03-49bc-8181-cb993d3d498c",
   "metadata": {},
   "outputs": [
    {
     "data": {
      "text/plain": [
       "-20.870747595269407"
      ]
     },
     "execution_count": 5,
     "metadata": {},
     "output_type": "execute_result"
    }
   ],
   "source": [
    "# First value in the target vector\n",
    "target[0]"
   ]
  },
  {
   "cell_type": "code",
   "execution_count": 6,
   "id": "97b8c03d-a80d-496e-ad9f-df2697d1abd0",
   "metadata": {},
   "outputs": [
    {
     "data": {
      "text/plain": [
       "-20.861927709296754"
      ]
     },
     "execution_count": 6,
     "metadata": {},
     "output_type": "execute_result"
    }
   ],
   "source": [
    "# Predict the target value of the first observation\n",
    "model.predict(features)[0]"
   ]
  },
  {
   "cell_type": "code",
   "execution_count": 7,
   "id": "0029d8a4-6143-4cf2-9c4d-5a42bd162f41",
   "metadata": {},
   "outputs": [
    {
     "name": "stdout",
     "output_type": "stream",
     "text": [
      "0.9999901732607787\n"
     ]
    }
   ],
   "source": [
    "# Print the score of the model on the training data\n",
    "print(model.score(features, target))"
   ]
  },
  {
   "cell_type": "code",
   "execution_count": 8,
   "id": "a5f3d182-a6e0-4cb0-b00b-11f203e002d8",
   "metadata": {},
   "outputs": [],
   "source": [
    "# Load libraries\n",
    "from sklearn.linear_model import LinearRegression\n",
    "from sklearn.preprocessing import PolynomialFeatures\n",
    "from sklearn.datasets import make_regression\n",
    "# Generate features matrix, target vector\n",
    "features, target = make_regression(n_samples = 100,\n",
    "                                    n_features = 2,\n",
    "                                    n_informative = 2,\n",
    "                                    n_targets = 1,\n",
    "                                    noise = 0.2,\n",
    "                                    coef = False,\n",
    "                                    random_state = 1)\n",
    "# Create interaction term\n",
    "interaction = PolynomialFeatures(\n",
    "degree=3, include_bias=False, interaction_only=True)\n",
    "features_interaction = interaction.fit_transform(features)\n",
    "# Create linear regression\n",
    "regression = LinearRegression()\n",
    "# Fit the linear regression\n",
    "model = regression.fit(features_interaction, target)"
   ]
  },
  {
   "cell_type": "code",
   "execution_count": 9,
   "id": "c9e6c30e-5bd7-442b-8566-522e8ca94de5",
   "metadata": {},
   "outputs": [
    {
     "data": {
      "text/plain": [
       "array([0.0465673 , 0.80186103])"
      ]
     },
     "execution_count": 9,
     "metadata": {},
     "output_type": "execute_result"
    }
   ],
   "source": [
    "# View the feature values for first observation\n",
    "features[0]"
   ]
  },
  {
   "cell_type": "code",
   "execution_count": 10,
   "id": "76d07471-16ad-4c6d-bfec-42b20149fca5",
   "metadata": {},
   "outputs": [],
   "source": [
    "# Import library\n",
    "import numpy as np\n",
    "# For each observation, multiply the values of the first and second feature\n",
    "interaction_term = np.multiply(features[:, 0], features[:, 1])"
   ]
  },
  {
   "cell_type": "code",
   "execution_count": 11,
   "id": "fe3e0764-8f91-413f-b528-7eb70b19524d",
   "metadata": {},
   "outputs": [
    {
     "data": {
      "text/plain": [
       "0.037340501965846186"
      ]
     },
     "execution_count": 11,
     "metadata": {},
     "output_type": "execute_result"
    }
   ],
   "source": [
    "# View interaction term for first observation\n",
    "interaction_term[0]"
   ]
  },
  {
   "cell_type": "code",
   "execution_count": 12,
   "id": "c321fa1b-5856-4ee7-bc68-fa26ba74dbbd",
   "metadata": {},
   "outputs": [
    {
     "data": {
      "text/plain": [
       "array([0.0465673 , 0.80186103, 0.0373405 ])"
      ]
     },
     "execution_count": 12,
     "metadata": {},
     "output_type": "execute_result"
    }
   ],
   "source": [
    "# View the values of the first observation\n",
    "features_interaction[0]"
   ]
  },
  {
   "cell_type": "code",
   "execution_count": 13,
   "id": "d62a8202-76b2-4481-a17e-c378d349cb74",
   "metadata": {},
   "outputs": [],
   "source": [
    "# Load library\n",
    "from sklearn.linear_model import LinearRegression\n",
    "from sklearn.preprocessing import PolynomialFeatures\n",
    "from sklearn.datasets import make_regression\n",
    "# Generate features matrix, target vector\n",
    "features, target = make_regression(n_samples = 100,\n",
    "                                    n_features = 3,\n",
    "                                    n_informative = 2,\n",
    "                                    n_targets = 1,\n",
    "                                    noise = 0.2,\n",
    "                                    coef = False,\n",
    "                                    random_state = 1)\n",
    "# Create polynomial features x^2 and x^3\n",
    "polynomial = PolynomialFeatures(degree=3, include_bias=False)\n",
    "features_polynomial = polynomial.fit_transform(features)\n",
    "# Create linear regression\n",
    "regression = LinearRegression()\n",
    "# Fit the linear regression\n",
    "model = regression.fit(features_polynomial, target)"
   ]
  },
  {
   "cell_type": "code",
   "execution_count": 14,
   "id": "b1fc01e1-8b15-47ca-bfae-ab33c67bdf69",
   "metadata": {},
   "outputs": [
    {
     "data": {
      "text/plain": [
       "array([ 0.58591043,  0.78477065, -0.95542526])"
      ]
     },
     "execution_count": 14,
     "metadata": {},
     "output_type": "execute_result"
    }
   ],
   "source": [
    "# View first observation\n",
    "features[0]"
   ]
  },
  {
   "cell_type": "code",
   "execution_count": 15,
   "id": "2f26408f-558c-4665-a48b-41b3342c902e",
   "metadata": {},
   "outputs": [
    {
     "data": {
      "text/plain": [
       "array([0.34329103, 0.61586497, 0.91283743])"
      ]
     },
     "execution_count": 15,
     "metadata": {},
     "output_type": "execute_result"
    }
   ],
   "source": [
    "# View first observation raised to the second power, x^2\n",
    "features[0]**2"
   ]
  },
  {
   "cell_type": "code",
   "execution_count": 16,
   "id": "72813c24-96a9-4abc-9656-48a83cfd758e",
   "metadata": {},
   "outputs": [
    {
     "data": {
      "text/plain": [
       "array([ 0.2011378 ,  0.48331276, -0.87214794])"
      ]
     },
     "execution_count": 16,
     "metadata": {},
     "output_type": "execute_result"
    }
   ],
   "source": [
    "# View first observation raised to the third power, x^3\n",
    "features[0]**3"
   ]
  },
  {
   "cell_type": "code",
   "execution_count": 17,
   "id": "f2213731-6720-43c5-917b-07f044b9a8f8",
   "metadata": {},
   "outputs": [
    {
     "data": {
      "text/plain": [
       "array([ 0.58591043,  0.78477065, -0.95542526,  0.34329103,  0.45980531,\n",
       "       -0.55979363,  0.61586497, -0.74978971,  0.91283743,  0.2011378 ,\n",
       "        0.26940473, -0.32798893,  0.36084171, -0.43930961,  0.53484097,\n",
       "        0.48331276, -0.58841296,  0.71636803, -0.87214794])"
      ]
     },
     "execution_count": 17,
     "metadata": {},
     "output_type": "execute_result"
    }
   ],
   "source": [
    "# View the first observation's values for x, x^2, and x^3\n",
    "features_polynomial[0]"
   ]
  },
  {
   "cell_type": "code",
   "execution_count": 18,
   "id": "98965b8b-fdb5-491f-b8cf-eecb9c3570eb",
   "metadata": {},
   "outputs": [],
   "source": [
    "# Load libraries\n",
    "from sklearn.linear_model import Ridge\n",
    "from sklearn.preprocessing import StandardScaler\n",
    "from sklearn.datasets import make_regression\n",
    "# Generate features matrix, target vector\n",
    "features, target = make_regression(n_samples = 100,\n",
    "                                    n_features = 3,\n",
    "                                    n_informative = 2,\n",
    "                                    n_targets = 1,\n",
    "                                    noise = 0.2,\n",
    "                                    coef = False,\n",
    "                                    random_state = 1)\n",
    "# Standardize features\n",
    "scaler = StandardScaler()\n",
    "features_standardized = scaler.fit_transform(features)\n",
    "# Create ridge regression with an alpha value\n",
    "regression = Ridge(alpha=0.5)\n",
    "# Fit the linear regression\n",
    "model = regression.fit(features_standardized, target)"
   ]
  },
  {
   "cell_type": "code",
   "execution_count": 19,
   "id": "45179797-5e0b-4794-98e1-b6a6f6975eb5",
   "metadata": {},
   "outputs": [
    {
     "data": {
      "text/plain": [
       "array([1.29223201e-02, 4.40972291e+01, 5.38979372e+01])"
      ]
     },
     "execution_count": 19,
     "metadata": {},
     "output_type": "execute_result"
    }
   ],
   "source": [
    "# Load library\n",
    "from sklearn.linear_model import RidgeCV\n",
    "# Create ridge regression with three alpha values\n",
    "regr_cv = RidgeCV(alphas=[0.1, 1.0, 10.0])\n",
    "# Fit the linear regression\n",
    "model_cv = regr_cv.fit(features_standardized, target)\n",
    "# View coefficients\n",
    "model_cv.coef_"
   ]
  },
  {
   "cell_type": "code",
   "execution_count": 21,
   "id": "3306b199-3b97-43d9-b1a6-424497f16b2c",
   "metadata": {},
   "outputs": [
    {
     "data": {
      "text/plain": [
       "0.1"
      ]
     },
     "execution_count": 21,
     "metadata": {},
     "output_type": "execute_result"
    }
   ],
   "source": [
    "# View alpha\n",
    "model_cv.alpha_"
   ]
  },
  {
   "cell_type": "code",
   "execution_count": 22,
   "id": "fbc3e5f8-f5d0-4315-8e34-9dd6f38a0cf2",
   "metadata": {},
   "outputs": [],
   "source": [
    "# Load library\n",
    "from sklearn.linear_model import Lasso\n",
    "from sklearn.preprocessing import StandardScaler\n",
    "from sklearn.datasets import make_regression\n",
    "# Generate features matrix, target vector\n",
    "features, target = make_regression(n_samples = 100,\n",
    "                                    n_features = 3,\n",
    "                                    n_informative = 2,\n",
    "                                    n_targets = 1,\n",
    "                                    noise = 0.2,\n",
    "                                    coef = False,\n",
    "                                    random_state = 1)\n",
    "# Standardize features\n",
    "scaler = StandardScaler()\n",
    "features_standardized = scaler.fit_transform(features)\n",
    "# Create lasso regression with alpha value\n",
    "regression = Lasso(alpha=0.5)\n",
    "# Fit the linear regression\n",
    "model = regression.fit(features_standardized, target)"
   ]
  },
  {
   "cell_type": "code",
   "execution_count": 23,
   "id": "c4a6c6c4-7c68-4bc5-aa81-1ae47c57189e",
   "metadata": {},
   "outputs": [
    {
     "data": {
      "text/plain": [
       "array([-0.        , 43.58618393, 53.39523724])"
      ]
     },
     "execution_count": 23,
     "metadata": {},
     "output_type": "execute_result"
    }
   ],
   "source": [
    "# View coefficients\n",
    "model.coef_"
   ]
  },
  {
   "cell_type": "code",
   "execution_count": 24,
   "id": "7d6d334f-0530-4eec-be0a-dbd9a0005374",
   "metadata": {},
   "outputs": [
    {
     "data": {
      "text/plain": [
       "array([-0.        , 32.92181899, 42.73086731])"
      ]
     },
     "execution_count": 24,
     "metadata": {},
     "output_type": "execute_result"
    }
   ],
   "source": [
    "# Create lasso regression with a high alpha\n",
    "regression_a10 = Lasso(alpha=10)\n",
    "model_a10 = regression_a10.fit(features_standardized, target)\n",
    "model_a10.coef_"
   ]
  },
  {
   "cell_type": "code",
   "execution_count": null,
   "id": "e9201d81-6814-4036-86b5-7663e4547031",
   "metadata": {},
   "outputs": [],
   "source": []
  }
 ],
 "metadata": {
  "kernelspec": {
   "display_name": "Python 3 (ipykernel)",
   "language": "python",
   "name": "python3"
  },
  "language_info": {
   "codemirror_mode": {
    "name": "ipython",
    "version": 3
   },
   "file_extension": ".py",
   "mimetype": "text/x-python",
   "name": "python",
   "nbconvert_exporter": "python",
   "pygments_lexer": "ipython3",
   "version": "3.10.12"
  }
 },
 "nbformat": 4,
 "nbformat_minor": 5
}
