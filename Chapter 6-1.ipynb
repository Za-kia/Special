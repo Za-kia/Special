{
 "cells": [
  {
   "cell_type": "code",
   "execution_count": 2,
   "id": "17ce1cc4-ce05-4696-8e22-d02c31c3ba9c",
   "metadata": {},
   "outputs": [
    {
     "data": {
      "text/plain": [
       "['Interrobang. By Aishwarya Henriette',\n",
       " 'Parking And Going. By Karl Gautier',\n",
       " 'Today Is The night. By Jarek Prakash']"
      ]
     },
     "execution_count": 2,
     "metadata": {},
     "output_type": "execute_result"
    }
   ],
   "source": [
    "# Create text\n",
    "text_data = [\" Interrobang. By Aishwarya Henriette \",\n",
    "\"Parking And Going. By Karl Gautier\",\n",
    "\" Today Is The night. By Jarek Prakash \"]\n",
    "# Strip whitespaces\n",
    "strip_whitespace = [string.strip() for string in text_data]\n",
    "# Show text\n",
    "strip_whitespace"
   ]
  },
  {
   "cell_type": "code",
   "execution_count": 4,
   "id": "dd331d14-c11f-4d4b-8ddf-7cfc8776a506",
   "metadata": {},
   "outputs": [
    {
     "data": {
      "text/plain": [
       "['Interrobang. By Aishwarya Henriette ',\n",
       " 'Parking And Going. By Karl Gautier',\n",
       " 'Today Is The night. By Jarek Prakash ']"
      ]
     },
     "execution_count": 4,
     "metadata": {},
     "output_type": "execute_result"
    }
   ],
   "source": [
    "# Create text\n",
    "text_data = [\" Interrobang. By Aishwarya Henriette \",\n",
    "\"Parking And Going. By Karl Gautier\",\n",
    "\" Today Is The night. By Jarek Prakash \"]\n",
    "# Strip whitespaces\n",
    "strip_whitespace = [string.lstrip() for string in text_data]\n",
    "# Show text\n",
    "strip_whitespace"
   ]
  },
  {
   "cell_type": "code",
   "execution_count": 5,
   "id": "2ef61fb8-5439-4977-87d1-ac88f1517d4b",
   "metadata": {},
   "outputs": [
    {
     "data": {
      "text/plain": [
       "[' Interrobang. By Aishwarya Henriette',\n",
       " 'Parking And Going. By Karl Gautier',\n",
       " ' Today Is The night. By Jarek Prakash']"
      ]
     },
     "execution_count": 5,
     "metadata": {},
     "output_type": "execute_result"
    }
   ],
   "source": [
    "# Create text\n",
    "text_data = [\" Interrobang. By Aishwarya Henriette \",\n",
    "\"Parking And Going. By Karl Gautier\",\n",
    "\" Today Is The night. By Jarek Prakash \"]\n",
    "# Strip whitespaces\n",
    "strip_whitespace = [string.rstrip() for string in text_data]\n",
    "# Show text\n",
    "strip_whitespace"
   ]
  },
  {
   "cell_type": "code",
   "execution_count": 3,
   "id": "185ac3e7-8f23-4ca4-8a36-d6522a8174f0",
   "metadata": {},
   "outputs": [
    {
     "data": {
      "text/plain": [
       "['Interrobang By Aishwarya Henriette',\n",
       " 'Parking And Going By Karl Gautier',\n",
       " 'Today Is The night By Jarek Prakash']"
      ]
     },
     "execution_count": 3,
     "metadata": {},
     "output_type": "execute_result"
    }
   ],
   "source": [
    "# Remove periods\n",
    "remove_periods = [string.replace(\".\", \"\") for string in strip_whitespace]\n",
    "# Show text\n",
    "remove_periods"
   ]
  },
  {
   "cell_type": "code",
   "execution_count": 9,
   "id": "5a1b2fdf-59dd-46f7-a500-4cf6b7fc5fe9",
   "metadata": {},
   "outputs": [
    {
     "data": {
      "text/plain": [
       "['INTERROBANG BY AISHWARYA HENRIETTE',\n",
       " 'PARKING AND GOING BY KARL GAUTIER',\n",
       " 'TODAY IS THE NIGHT BY JAREK PRAKASH']"
      ]
     },
     "execution_count": 9,
     "metadata": {},
     "output_type": "execute_result"
    }
   ],
   "source": [
    "# Create function\n",
    "def capitalizer(string: str) -> str:\n",
    "    return string.upper()\n",
    "# Apply function\n",
    "[capitalizer(string) for string in remove_periods]"
   ]
  },
  {
   "cell_type": "code",
   "execution_count": 10,
   "id": "405e5595-dda8-4943-ab9b-d3723a6ff829",
   "metadata": {},
   "outputs": [
    {
     "data": {
      "text/plain": [
       "['XXXXXXXXXXX XX XXXXXXXXX XXXXXXXXX',\n",
       " 'XXXXXXX XXX XXXXX XX XXXX XXXXXXX',\n",
       " 'XXXXX XX XXX XXXXX XX XXXXX XXXXXXX']"
      ]
     },
     "execution_count": 10,
     "metadata": {},
     "output_type": "execute_result"
    }
   ],
   "source": [
    "# Import library\n",
    "import re\n",
    "# Create function\n",
    "def replace_letters_with_X(string: str) -> str:\n",
    "    return re.sub(r\"[a-zA-Z]\", \"X\", string)\n",
    "# Apply function\n",
    "[replace_letters_with_X(string) for string in remove_periods]"
   ]
  },
  {
   "cell_type": "code",
   "execution_count": 11,
   "id": "498b8d3c-ef20-4d11-90ea-2336cfc9bf61",
   "metadata": {},
   "outputs": [],
   "source": [
    "# Define a string\n",
    "s = \"machine learning in python cookbook\""
   ]
  },
  {
   "cell_type": "code",
   "execution_count": 21,
   "id": "763f45fe-46f4-4004-8e52-f034a75dfa17",
   "metadata": {},
   "outputs": [
    {
     "data": {
      "text/plain": [
       "5"
      ]
     },
     "execution_count": 21,
     "metadata": {},
     "output_type": "execute_result"
    }
   ],
   "source": [
    "# Find the first index of the letter \"n\"\n",
    "find_n = s.find(\"n\")\n",
    "find_n"
   ]
  },
  {
   "cell_type": "code",
   "execution_count": 22,
   "id": "9b0f1b9c-f4e8-4582-934c-965397c5feee",
   "metadata": {},
   "outputs": [
    {
     "data": {
      "text/plain": [
       "True"
      ]
     },
     "execution_count": 22,
     "metadata": {},
     "output_type": "execute_result"
    }
   ],
   "source": [
    "# Whether or not the string starts with \"m\"\n",
    "starts_with_m = s.startswith(\"m\")\n",
    "starts_with_m"
   ]
  },
  {
   "cell_type": "code",
   "execution_count": 23,
   "id": "18eae7c9-b467-4195-833c-e2276d496777",
   "metadata": {},
   "outputs": [
    {
     "data": {
      "text/plain": [
       "False"
      ]
     },
     "execution_count": 23,
     "metadata": {},
     "output_type": "execute_result"
    }
   ],
   "source": [
    "# Whether or not the string ends with \"python\"\n",
    "ends_with_python = s.endswith(\"python\")\n",
    "ends_with_python"
   ]
  },
  {
   "cell_type": "code",
   "execution_count": 24,
   "id": "91f64439-1957-41dd-a334-5c2443398384",
   "metadata": {},
   "outputs": [
    {
     "data": {
      "text/plain": [
       "False"
      ]
     },
     "execution_count": 24,
     "metadata": {},
     "output_type": "execute_result"
    }
   ],
   "source": [
    "# Is the string alphanumeric\n",
    "is_alnum = s.isalnum()\n",
    "is_alnum"
   ]
  },
  {
   "cell_type": "code",
   "execution_count": 25,
   "id": "48ae2256-bd86-4509-8a4d-8fcda69edfe3",
   "metadata": {},
   "outputs": [
    {
     "data": {
      "text/plain": [
       "False"
      ]
     },
     "execution_count": 25,
     "metadata": {},
     "output_type": "execute_result"
    }
   ],
   "source": [
    "# Is it composed of only alphabetical characters (not including spaces)\n",
    "is_alpha = s.isalpha()\n",
    "is_alpha"
   ]
  },
  {
   "cell_type": "code",
   "execution_count": 26,
   "id": "dcaade87-5b74-447a-a1ec-d182d5756c8d",
   "metadata": {},
   "outputs": [
    {
     "data": {
      "text/plain": [
       "b'machine learning in python cookbook'"
      ]
     },
     "execution_count": 26,
     "metadata": {},
     "output_type": "execute_result"
    }
   ],
   "source": [
    "# Encode as utf-8\n",
    "encode_as_utf8 = s.encode(\"utf-8\")\n",
    "encode_as_utf8"
   ]
  },
  {
   "cell_type": "code",
   "execution_count": 27,
   "id": "0fccdc90-1ba6-4342-8fdf-e006726be44d",
   "metadata": {},
   "outputs": [
    {
     "data": {
      "text/plain": [
       "'machine learning in python cookbook'"
      ]
     },
     "execution_count": 27,
     "metadata": {},
     "output_type": "execute_result"
    }
   ],
   "source": [
    "# Decode the same utf-8\n",
    "decode = encode_as_utf8.decode(\"utf-8\")\n",
    "decode"
   ]
  },
  {
   "cell_type": "code",
   "execution_count": 20,
   "id": "51f4e9e0-8da7-4b94-86fb-ffb01f601cbc",
   "metadata": {},
   "outputs": [
    {
     "name": "stdout",
     "output_type": "stream",
     "text": [
      "5|True|False|False|False|b'machine learning in python cookbook'|machine learning in python cookbook\n"
     ]
    }
   ],
   "source": [
    "print(\n",
    "find_n,\n",
    "starts_with_m,\n",
    "ends_with_python,\n",
    "is_alnum,\n",
    "is_alpha,\n",
    "encode_as_utf8,\n",
    "decode,\n",
    "sep = \"|\"\n",
    ")"
   ]
  },
  {
   "cell_type": "code",
   "execution_count": 29,
   "id": "30de79d5-210c-4525-b6a3-c9548bdbf1f8",
   "metadata": {},
   "outputs": [],
   "source": [
    "# Load libraries\n",
    "import unicodedata\n",
    "import sys"
   ]
  },
  {
   "cell_type": "code",
   "execution_count": 30,
   "id": "aef96f72-807c-4b35-a8bf-4219094cca84",
   "metadata": {},
   "outputs": [],
   "source": [
    "# Create text\n",
    "text_data = ['Hi!!!! I. Love. This. Song....',\n",
    "'10000% Agree!!!! #LoveIT',\n",
    "'Right?!?!']\n",
    "# Create a dictionary of punctuation characters\n",
    "punctuation = dict.fromkeys(\n",
    "(i for i in range(sys.maxunicode)\n",
    "if unicodedata.category(chr(i)).startswith('P')\n",
    "),\n",
    "None\n",
    ")"
   ]
  },
  {
   "cell_type": "code",
   "execution_count": 33,
   "id": "153b0ae0-31f7-4228-9433-98f507ab351d",
   "metadata": {},
   "outputs": [
    {
     "name": "stdout",
     "output_type": "stream",
     "text": [
      "{33: None, 34: None, 35: None, 37: None, 38: None, 39: None, 40: None, 41: None, 42: None, 44: None, 45: None, 46: None, 47: None, 58: None, 59: None, 63: None, 64: None, 91: None, 92: None, 93: None, 95: None, 123: None, 125: None, 161: None, 167: None, 171: None, 182: None, 183: None, 187: None, 191: None, 894: None, 903: None, 1370: None, 1371: None, 1372: None, 1373: None, 1374: None, 1375: None, 1417: None, 1418: None, 1470: None, 1472: None, 1475: None, 1478: None, 1523: None, 1524: None, 1545: None, 1546: None, 1548: None, 1549: None, 1563: None, 1566: None, 1567: None, 1642: None, 1643: None, 1644: None, 1645: None, 1748: None, 1792: None, 1793: None, 1794: None, 1795: None, 1796: None, 1797: None, 1798: None, 1799: None, 1800: None, 1801: None, 1802: None, 1803: None, 1804: None, 1805: None, 2039: None, 2040: None, 2041: None, 2096: None, 2097: None, 2098: None, 2099: None, 2100: None, 2101: None, 2102: None, 2103: None, 2104: None, 2105: None, 2106: None, 2107: None, 2108: None, 2109: None, 2110: None, 2142: None, 2404: None, 2405: None, 2416: None, 2557: None, 2678: None, 2800: None, 3191: None, 3204: None, 3572: None, 3663: None, 3674: None, 3675: None, 3844: None, 3845: None, 3846: None, 3847: None, 3848: None, 3849: None, 3850: None, 3851: None, 3852: None, 3853: None, 3854: None, 3855: None, 3856: None, 3857: None, 3858: None, 3860: None, 3898: None, 3899: None, 3900: None, 3901: None, 3973: None, 4048: None, 4049: None, 4050: None, 4051: None, 4052: None, 4057: None, 4058: None, 4170: None, 4171: None, 4172: None, 4173: None, 4174: None, 4175: None, 4347: None, 4960: None, 4961: None, 4962: None, 4963: None, 4964: None, 4965: None, 4966: None, 4967: None, 4968: None, 5120: None, 5742: None, 5787: None, 5788: None, 5867: None, 5868: None, 5869: None, 5941: None, 5942: None, 6100: None, 6101: None, 6102: None, 6104: None, 6105: None, 6106: None, 6144: None, 6145: None, 6146: None, 6147: None, 6148: None, 6149: None, 6150: None, 6151: None, 6152: None, 6153: None, 6154: None, 6468: None, 6469: None, 6686: None, 6687: None, 6816: None, 6817: None, 6818: None, 6819: None, 6820: None, 6821: None, 6822: None, 6824: None, 6825: None, 6826: None, 6827: None, 6828: None, 6829: None, 7002: None, 7003: None, 7004: None, 7005: None, 7006: None, 7007: None, 7008: None, 7164: None, 7165: None, 7166: None, 7167: None, 7227: None, 7228: None, 7229: None, 7230: None, 7231: None, 7294: None, 7295: None, 7360: None, 7361: None, 7362: None, 7363: None, 7364: None, 7365: None, 7366: None, 7367: None, 7379: None, 8208: None, 8209: None, 8210: None, 8211: None, 8212: None, 8213: None, 8214: None, 8215: None, 8216: None, 8217: None, 8218: None, 8219: None, 8220: None, 8221: None, 8222: None, 8223: None, 8224: None, 8225: None, 8226: None, 8227: None, 8228: None, 8229: None, 8230: None, 8231: None, 8240: None, 8241: None, 8242: None, 8243: None, 8244: None, 8245: None, 8246: None, 8247: None, 8248: None, 8249: None, 8250: None, 8251: None, 8252: None, 8253: None, 8254: None, 8255: None, 8256: None, 8257: None, 8258: None, 8259: None, 8261: None, 8262: None, 8263: None, 8264: None, 8265: None, 8266: None, 8267: None, 8268: None, 8269: None, 8270: None, 8271: None, 8272: None, 8273: None, 8275: None, 8276: None, 8277: None, 8278: None, 8279: None, 8280: None, 8281: None, 8282: None, 8283: None, 8284: None, 8285: None, 8286: None, 8317: None, 8318: None, 8333: None, 8334: None, 8968: None, 8969: None, 8970: None, 8971: None, 9001: None, 9002: None, 10088: None, 10089: None, 10090: None, 10091: None, 10092: None, 10093: None, 10094: None, 10095: None, 10096: None, 10097: None, 10098: None, 10099: None, 10100: None, 10101: None, 10181: None, 10182: None, 10214: None, 10215: None, 10216: None, 10217: None, 10218: None, 10219: None, 10220: None, 10221: None, 10222: None, 10223: None, 10627: None, 10628: None, 10629: None, 10630: None, 10631: None, 10632: None, 10633: None, 10634: None, 10635: None, 10636: None, 10637: None, 10638: None, 10639: None, 10640: None, 10641: None, 10642: None, 10643: None, 10644: None, 10645: None, 10646: None, 10647: None, 10648: None, 10712: None, 10713: None, 10714: None, 10715: None, 10748: None, 10749: None, 11513: None, 11514: None, 11515: None, 11516: None, 11518: None, 11519: None, 11632: None, 11776: None, 11777: None, 11778: None, 11779: None, 11780: None, 11781: None, 11782: None, 11783: None, 11784: None, 11785: None, 11786: None, 11787: None, 11788: None, 11789: None, 11790: None, 11791: None, 11792: None, 11793: None, 11794: None, 11795: None, 11796: None, 11797: None, 11798: None, 11799: None, 11800: None, 11801: None, 11802: None, 11803: None, 11804: None, 11805: None, 11806: None, 11807: None, 11808: None, 11809: None, 11810: None, 11811: None, 11812: None, 11813: None, 11814: None, 11815: None, 11816: None, 11817: None, 11818: None, 11819: None, 11820: None, 11821: None, 11822: None, 11824: None, 11825: None, 11826: None, 11827: None, 11828: None, 11829: None, 11830: None, 11831: None, 11832: None, 11833: None, 11834: None, 11835: None, 11836: None, 11837: None, 11838: None, 11839: None, 11840: None, 11841: None, 11842: None, 11843: None, 11844: None, 11845: None, 11846: None, 11847: None, 11848: None, 11849: None, 11850: None, 11851: None, 11852: None, 11853: None, 11854: None, 11855: None, 11858: None, 12289: None, 12290: None, 12291: None, 12296: None, 12297: None, 12298: None, 12299: None, 12300: None, 12301: None, 12302: None, 12303: None, 12304: None, 12305: None, 12308: None, 12309: None, 12310: None, 12311: None, 12312: None, 12313: None, 12314: None, 12315: None, 12316: None, 12317: None, 12318: None, 12319: None, 12336: None, 12349: None, 12448: None, 12539: None, 42238: None, 42239: None, 42509: None, 42510: None, 42511: None, 42611: None, 42622: None, 42738: None, 42739: None, 42740: None, 42741: None, 42742: None, 42743: None, 43124: None, 43125: None, 43126: None, 43127: None, 43214: None, 43215: None, 43256: None, 43257: None, 43258: None, 43260: None, 43310: None, 43311: None, 43359: None, 43457: None, 43458: None, 43459: None, 43460: None, 43461: None, 43462: None, 43463: None, 43464: None, 43465: None, 43466: None, 43467: None, 43468: None, 43469: None, 43486: None, 43487: None, 43612: None, 43613: None, 43614: None, 43615: None, 43742: None, 43743: None, 43760: None, 43761: None, 44011: None, 64830: None, 64831: None, 65040: None, 65041: None, 65042: None, 65043: None, 65044: None, 65045: None, 65046: None, 65047: None, 65048: None, 65049: None, 65072: None, 65073: None, 65074: None, 65075: None, 65076: None, 65077: None, 65078: None, 65079: None, 65080: None, 65081: None, 65082: None, 65083: None, 65084: None, 65085: None, 65086: None, 65087: None, 65088: None, 65089: None, 65090: None, 65091: None, 65092: None, 65093: None, 65094: None, 65095: None, 65096: None, 65097: None, 65098: None, 65099: None, 65100: None, 65101: None, 65102: None, 65103: None, 65104: None, 65105: None, 65106: None, 65108: None, 65109: None, 65110: None, 65111: None, 65112: None, 65113: None, 65114: None, 65115: None, 65116: None, 65117: None, 65118: None, 65119: None, 65120: None, 65121: None, 65123: None, 65128: None, 65130: None, 65131: None, 65281: None, 65282: None, 65283: None, 65285: None, 65286: None, 65287: None, 65288: None, 65289: None, 65290: None, 65292: None, 65293: None, 65294: None, 65295: None, 65306: None, 65307: None, 65311: None, 65312: None, 65339: None, 65340: None, 65341: None, 65343: None, 65371: None, 65373: None, 65375: None, 65376: None, 65377: None, 65378: None, 65379: None, 65380: None, 65381: None, 65792: None, 65793: None, 65794: None, 66463: None, 66512: None, 66927: None, 67671: None, 67871: None, 67903: None, 68176: None, 68177: None, 68178: None, 68179: None, 68180: None, 68181: None, 68182: None, 68183: None, 68184: None, 68223: None, 68336: None, 68337: None, 68338: None, 68339: None, 68340: None, 68341: None, 68342: None, 68409: None, 68410: None, 68411: None, 68412: None, 68413: None, 68414: None, 68415: None, 68505: None, 68506: None, 68507: None, 68508: None, 69293: None, 69461: None, 69462: None, 69463: None, 69464: None, 69465: None, 69703: None, 69704: None, 69705: None, 69706: None, 69707: None, 69708: None, 69709: None, 69819: None, 69820: None, 69822: None, 69823: None, 69824: None, 69825: None, 69952: None, 69953: None, 69954: None, 69955: None, 70004: None, 70005: None, 70085: None, 70086: None, 70087: None, 70088: None, 70093: None, 70107: None, 70109: None, 70110: None, 70111: None, 70200: None, 70201: None, 70202: None, 70203: None, 70204: None, 70205: None, 70313: None, 70731: None, 70732: None, 70733: None, 70734: None, 70735: None, 70746: None, 70747: None, 70749: None, 70854: None, 71105: None, 71106: None, 71107: None, 71108: None, 71109: None, 71110: None, 71111: None, 71112: None, 71113: None, 71114: None, 71115: None, 71116: None, 71117: None, 71118: None, 71119: None, 71120: None, 71121: None, 71122: None, 71123: None, 71124: None, 71125: None, 71126: None, 71127: None, 71233: None, 71234: None, 71235: None, 71264: None, 71265: None, 71266: None, 71267: None, 71268: None, 71269: None, 71270: None, 71271: None, 71272: None, 71273: None, 71274: None, 71275: None, 71276: None, 71484: None, 71485: None, 71486: None, 71739: None, 72004: None, 72005: None, 72006: None, 72162: None, 72255: None, 72256: None, 72257: None, 72258: None, 72259: None, 72260: None, 72261: None, 72262: None, 72346: None, 72347: None, 72348: None, 72350: None, 72351: None, 72352: None, 72353: None, 72354: None, 72769: None, 72770: None, 72771: None, 72772: None, 72773: None, 72816: None, 72817: None, 73463: None, 73464: None, 73727: None, 74864: None, 74865: None, 74866: None, 74867: None, 74868: None, 92782: None, 92783: None, 92917: None, 92983: None, 92984: None, 92985: None, 92986: None, 92987: None, 92996: None, 93847: None, 93848: None, 93849: None, 93850: None, 94178: None, 113823: None, 121479: None, 121480: None, 121481: None, 121482: None, 121483: None, 125278: None, 125279: None}\n"
     ]
    }
   ],
   "source": [
    "print(punctuation)"
   ]
  },
  {
   "cell_type": "code",
   "execution_count": 56,
   "id": "4ddeb495-ce54-4803-b134-7bb38cfc2596",
   "metadata": {},
   "outputs": [
    {
     "name": "stdout",
     "output_type": "stream",
     "text": [
      "!\n",
      "\"\n",
      "#\n",
      "%\n",
      "&\n",
      "'\n",
      "(\n",
      ")\n",
      "*\n",
      ",\n",
      "-\n",
      ".\n",
      "/\n",
      ":\n",
      ";\n",
      "?\n",
      "@\n",
      "[\n",
      "\\\n",
      "]\n",
      "_\n",
      "{\n",
      "}\n",
      "¡\n",
      "§\n",
      "«\n",
      "¶\n",
      "·\n",
      "»\n",
      "¿\n",
      ";\n",
      "·\n",
      "՚\n",
      "՛\n",
      "՜\n",
      "՝\n",
      "՞\n",
      "՟\n",
      "։\n",
      "֊\n",
      "־\n",
      "׀\n",
      "׃\n",
      "׆\n",
      "׳\n",
      "״\n",
      "؉\n",
      "؊\n",
      "،\n",
      "؍\n",
      "؛\n",
      "؞\n",
      "؟\n",
      "٪\n",
      "٫\n",
      "٬\n",
      "٭\n",
      "۔\n",
      "܀\n",
      "܁\n",
      "܂\n",
      "܃\n",
      "܄\n",
      "܅\n",
      "܆\n",
      "܇\n",
      "܈\n",
      "܉\n",
      "܊\n",
      "܋\n",
      "܌\n",
      "܍\n",
      "߷\n",
      "߸\n",
      "߹\n",
      "࠰\n",
      "࠱\n",
      "࠲\n",
      "࠳\n",
      "࠴\n",
      "࠵\n",
      "࠶\n",
      "࠷\n",
      "࠸\n",
      "࠹\n",
      "࠺\n",
      "࠻\n",
      "࠼\n",
      "࠽\n",
      "࠾\n",
      "࡞\n",
      "।\n",
      "॥\n",
      "॰\n",
      "৽\n",
      "੶\n",
      "૰\n",
      "౷\n",
      "಄\n",
      "෴\n",
      "๏\n",
      "๚\n",
      "๛\n",
      "༄\n",
      "༅\n",
      "༆\n",
      "༇\n",
      "༈\n",
      "༉\n",
      "༊\n",
      "་\n",
      "༌\n",
      "།\n",
      "༎\n",
      "༏\n",
      "༐\n",
      "༑\n",
      "༒\n",
      "༔\n",
      "༺\n",
      "༻\n",
      "༼\n",
      "༽\n",
      "྅\n",
      "࿐\n",
      "࿑\n",
      "࿒\n",
      "࿓\n",
      "࿔\n",
      "࿙\n",
      "࿚\n",
      "၊\n",
      "။\n",
      "၌\n",
      "၍\n",
      "၎\n",
      "၏\n",
      "჻\n",
      "፠\n",
      "፡\n",
      "።\n",
      "፣\n",
      "፤\n",
      "፥\n",
      "፦\n",
      "፧\n",
      "፨\n",
      "᐀\n",
      "᙮\n",
      "᚛\n",
      "᚜\n",
      "᛫\n",
      "᛬\n",
      "᛭\n",
      "᜵\n",
      "᜶\n",
      "។\n",
      "៕\n",
      "៖\n",
      "៘\n",
      "៙\n",
      "៚\n",
      "᠀\n",
      "᠁\n",
      "᠂\n",
      "᠃\n",
      "᠄\n",
      "᠅\n",
      "᠆\n",
      "᠇\n",
      "᠈\n",
      "᠉\n",
      "᠊\n",
      "᥄\n",
      "᥅\n",
      "᨞\n",
      "᨟\n",
      "᪠\n",
      "᪡\n",
      "᪢\n",
      "᪣\n",
      "᪤\n",
      "᪥\n",
      "᪦\n",
      "᪨\n",
      "᪩\n",
      "᪪\n",
      "᪫\n",
      "᪬\n",
      "᪭\n",
      "᭚\n",
      "᭛\n",
      "᭜\n",
      "᭝\n",
      "᭞\n",
      "᭟\n",
      "᭠\n",
      "᯼\n",
      "᯽\n",
      "᯾\n",
      "᯿\n",
      "᰻\n",
      "᰼\n",
      "᰽\n",
      "᰾\n",
      "᰿\n",
      "᱾\n",
      "᱿\n",
      "᳀\n",
      "᳁\n",
      "᳂\n",
      "᳃\n",
      "᳄\n",
      "᳅\n",
      "᳆\n",
      "᳇\n",
      "᳓\n",
      "‐\n",
      "‑\n",
      "‒\n",
      "–\n",
      "—\n",
      "―\n",
      "‖\n",
      "‗\n",
      "‘\n",
      "’\n",
      "‚\n",
      "‛\n",
      "“\n",
      "”\n",
      "„\n",
      "‟\n",
      "†\n",
      "‡\n",
      "•\n",
      "‣\n",
      "․\n",
      "‥\n",
      "…\n",
      "‧\n",
      "‰\n",
      "‱\n",
      "′\n",
      "″\n",
      "‴\n",
      "‵\n",
      "‶\n",
      "‷\n",
      "‸\n",
      "‹\n",
      "›\n",
      "※\n",
      "‼\n",
      "‽\n",
      "‾\n",
      "‿\n",
      "⁀\n",
      "⁁\n",
      "⁂\n",
      "⁃\n",
      "⁅\n",
      "⁆\n",
      "⁇\n",
      "⁈\n",
      "⁉\n",
      "⁊\n",
      "⁋\n",
      "⁌\n",
      "⁍\n",
      "⁎\n",
      "⁏\n",
      "⁐\n",
      "⁑\n",
      "⁓\n",
      "⁔\n",
      "⁕\n",
      "⁖\n",
      "⁗\n",
      "⁘\n",
      "⁙\n",
      "⁚\n",
      "⁛\n",
      "⁜\n",
      "⁝\n",
      "⁞\n",
      "⁽\n",
      "⁾\n",
      "₍\n",
      "₎\n",
      "⌈\n",
      "⌉\n",
      "⌊\n",
      "⌋\n",
      "〈\n",
      "〉\n",
      "❨\n",
      "❩\n",
      "❪\n",
      "❫\n",
      "❬\n",
      "❭\n",
      "❮\n",
      "❯\n",
      "❰\n",
      "❱\n",
      "❲\n",
      "❳\n",
      "❴\n",
      "❵\n",
      "⟅\n",
      "⟆\n",
      "⟦\n",
      "⟧\n",
      "⟨\n",
      "⟩\n",
      "⟪\n",
      "⟫\n",
      "⟬\n",
      "⟭\n",
      "⟮\n",
      "⟯\n",
      "⦃\n",
      "⦄\n",
      "⦅\n",
      "⦆\n",
      "⦇\n",
      "⦈\n",
      "⦉\n",
      "⦊\n",
      "⦋\n",
      "⦌\n",
      "⦍\n",
      "⦎\n",
      "⦏\n",
      "⦐\n",
      "⦑\n",
      "⦒\n",
      "⦓\n",
      "⦔\n",
      "⦕\n",
      "⦖\n",
      "⦗\n",
      "⦘\n",
      "⧘\n",
      "⧙\n",
      "⧚\n",
      "⧛\n",
      "⧼\n",
      "⧽\n",
      "⳹\n",
      "⳺\n",
      "⳻\n",
      "⳼\n",
      "⳾\n",
      "⳿\n",
      "⵰\n",
      "⸀\n",
      "⸁\n",
      "⸂\n",
      "⸃\n",
      "⸄\n",
      "⸅\n",
      "⸆\n",
      "⸇\n",
      "⸈\n",
      "⸉\n",
      "⸊\n",
      "⸋\n",
      "⸌\n",
      "⸍\n",
      "⸎\n",
      "⸏\n",
      "⸐\n",
      "⸑\n",
      "⸒\n",
      "⸓\n",
      "⸔\n",
      "⸕\n",
      "⸖\n",
      "⸗\n",
      "⸘\n",
      "⸙\n",
      "⸚\n",
      "⸛\n",
      "⸜\n",
      "⸝\n",
      "⸞\n",
      "⸟\n",
      "⸠\n",
      "⸡\n",
      "⸢\n",
      "⸣\n",
      "⸤\n",
      "⸥\n",
      "⸦\n",
      "⸧\n",
      "⸨\n",
      "⸩\n",
      "⸪\n",
      "⸫\n",
      "⸬\n",
      "⸭\n",
      "⸮\n",
      "⸰\n",
      "⸱\n",
      "⸲\n",
      "⸳\n",
      "⸴\n",
      "⸵\n",
      "⸶\n",
      "⸷\n",
      "⸸\n",
      "⸹\n",
      "⸺\n",
      "⸻\n",
      "⸼\n",
      "⸽\n",
      "⸾\n",
      "⸿\n",
      "⹀\n",
      "⹁\n",
      "⹂\n",
      "⹃\n",
      "⹄\n",
      "⹅\n",
      "⹆\n",
      "⹇\n",
      "⹈\n",
      "⹉\n",
      "⹊\n",
      "⹋\n",
      "⹌\n",
      "⹍\n",
      "⹎\n",
      "⹏\n",
      "⹒\n",
      "、\n",
      "。\n",
      "〃\n",
      "〈\n",
      "〉\n",
      "《\n",
      "》\n",
      "「\n",
      "」\n",
      "『\n",
      "』\n",
      "【\n",
      "】\n",
      "〔\n",
      "〕\n",
      "〖\n",
      "〗\n",
      "〘\n",
      "〙\n",
      "〚\n",
      "〛\n",
      "〜\n",
      "〝\n",
      "〞\n",
      "〟\n",
      "〰\n",
      "〽\n",
      "゠\n",
      "・\n",
      "꓾\n",
      "꓿\n",
      "꘍\n",
      "꘎\n",
      "꘏\n",
      "꙳\n",
      "꙾\n",
      "꛲\n",
      "꛳\n",
      "꛴\n",
      "꛵\n",
      "꛶\n",
      "꛷\n",
      "꡴\n",
      "꡵\n",
      "꡶\n",
      "꡷\n",
      "꣎\n",
      "꣏\n",
      "꣸\n",
      "꣹\n",
      "꣺\n",
      "꣼\n",
      "꤮\n",
      "꤯\n",
      "꥟\n",
      "꧁\n",
      "꧂\n",
      "꧃\n",
      "꧄\n",
      "꧅\n",
      "꧆\n",
      "꧇\n",
      "꧈\n",
      "꧉\n",
      "꧊\n",
      "꧋\n",
      "꧌\n",
      "꧍\n",
      "꧞\n",
      "꧟\n",
      "꩜\n",
      "꩝\n",
      "꩞\n",
      "꩟\n",
      "꫞\n",
      "꫟\n",
      "꫰\n",
      "꫱\n",
      "꯫\n",
      "﴾\n",
      "﴿\n",
      "︐\n",
      "︑\n",
      "︒\n",
      "︓\n",
      "︔\n",
      "︕\n",
      "︖\n",
      "︗\n",
      "︘\n",
      "︙\n",
      "︰\n",
      "︱\n",
      "︲\n",
      "︳\n",
      "︴\n",
      "︵\n",
      "︶\n",
      "︷\n",
      "︸\n",
      "︹\n",
      "︺\n",
      "︻\n",
      "︼\n",
      "︽\n",
      "︾\n",
      "︿\n",
      "﹀\n",
      "﹁\n",
      "﹂\n",
      "﹃\n",
      "﹄\n",
      "﹅\n",
      "﹆\n",
      "﹇\n",
      "﹈\n",
      "﹉\n",
      "﹊\n",
      "﹋\n",
      "﹌\n",
      "﹍\n",
      "﹎\n",
      "﹏\n",
      "﹐\n",
      "﹑\n",
      "﹒\n",
      "﹔\n",
      "﹕\n",
      "﹖\n",
      "﹗\n",
      "﹘\n",
      "﹙\n",
      "﹚\n",
      "﹛\n",
      "﹜\n",
      "﹝\n",
      "﹞\n",
      "﹟\n",
      "﹠\n",
      "﹡\n",
      "﹣\n",
      "﹨\n",
      "﹪\n",
      "﹫\n",
      "！\n",
      "＂\n",
      "＃\n",
      "％\n",
      "＆\n",
      "＇\n",
      "（\n",
      "）\n",
      "＊\n",
      "，\n",
      "－\n",
      "．\n",
      "／\n",
      "：\n",
      "；\n",
      "？\n",
      "＠\n",
      "［\n",
      "＼\n",
      "］\n",
      "＿\n",
      "｛\n",
      "｝\n",
      "｟\n",
      "｠\n",
      "｡\n",
      "｢\n",
      "｣\n",
      "､\n",
      "･\n",
      "𐄀\n",
      "𐄁\n",
      "𐄂\n",
      "𐎟\n",
      "𐏐\n",
      "𐕯\n",
      "𐡗\n",
      "𐤟\n",
      "𐤿\n",
      "𐩐\n",
      "𐩑\n",
      "𐩒\n",
      "𐩓\n",
      "𐩔\n",
      "𐩕\n",
      "𐩖\n",
      "𐩗\n",
      "𐩘\n",
      "𐩿\n",
      "𐫰\n",
      "𐫱\n",
      "𐫲\n",
      "𐫳\n",
      "𐫴\n",
      "𐫵\n",
      "𐫶\n",
      "𐬹\n",
      "𐬺\n",
      "𐬻\n",
      "𐬼\n",
      "𐬽\n",
      "𐬾\n",
      "𐬿\n",
      "𐮙\n",
      "𐮚\n",
      "𐮛\n",
      "𐮜\n",
      "𐺭\n",
      "𐽕\n",
      "𐽖\n",
      "𐽗\n",
      "𐽘\n",
      "𐽙\n",
      "𑁇\n",
      "𑁈\n",
      "𑁉\n",
      "𑁊\n",
      "𑁋\n",
      "𑁌\n",
      "𑁍\n",
      "𑂻\n",
      "𑂼\n",
      "𑂾\n",
      "𑂿\n",
      "𑃀\n",
      "𑃁\n",
      "𑅀\n",
      "𑅁\n",
      "𑅂\n",
      "𑅃\n",
      "𑅴\n",
      "𑅵\n",
      "𑇅\n",
      "𑇆\n",
      "𑇇\n",
      "𑇈\n",
      "𑇍\n",
      "𑇛\n",
      "𑇝\n",
      "𑇞\n",
      "𑇟\n",
      "𑈸\n",
      "𑈹\n",
      "𑈺\n",
      "𑈻\n",
      "𑈼\n",
      "𑈽\n",
      "𑊩\n",
      "𑑋\n",
      "𑑌\n",
      "𑑍\n",
      "𑑎\n",
      "𑑏\n",
      "𑑚\n",
      "𑑛\n",
      "𑑝\n",
      "𑓆\n",
      "𑗁\n",
      "𑗂\n",
      "𑗃\n",
      "𑗄\n",
      "𑗅\n",
      "𑗆\n",
      "𑗇\n",
      "𑗈\n",
      "𑗉\n",
      "𑗊\n",
      "𑗋\n",
      "𑗌\n",
      "𑗍\n",
      "𑗎\n",
      "𑗏\n",
      "𑗐\n",
      "𑗑\n",
      "𑗒\n",
      "𑗓\n",
      "𑗔\n",
      "𑗕\n",
      "𑗖\n",
      "𑗗\n",
      "𑙁\n",
      "𑙂\n",
      "𑙃\n",
      "𑙠\n",
      "𑙡\n",
      "𑙢\n",
      "𑙣\n",
      "𑙤\n",
      "𑙥\n",
      "𑙦\n",
      "𑙧\n",
      "𑙨\n",
      "𑙩\n",
      "𑙪\n",
      "𑙫\n",
      "𑙬\n",
      "𑜼\n",
      "𑜽\n",
      "𑜾\n",
      "𑠻\n",
      "𑥄\n",
      "𑥅\n",
      "𑥆\n",
      "𑧢\n",
      "𑨿\n",
      "𑩀\n",
      "𑩁\n",
      "𑩂\n",
      "𑩃\n",
      "𑩄\n",
      "𑩅\n",
      "𑩆\n",
      "𑪚\n",
      "𑪛\n",
      "𑪜\n",
      "𑪞\n",
      "𑪟\n",
      "𑪠\n",
      "𑪡\n",
      "𑪢\n",
      "𑱁\n",
      "𑱂\n",
      "𑱃\n",
      "𑱄\n",
      "𑱅\n",
      "𑱰\n",
      "𑱱\n",
      "𑻷\n",
      "𑻸\n",
      "𑿿\n",
      "𒑰\n",
      "𒑱\n",
      "𒑲\n",
      "𒑳\n",
      "𒑴\n",
      "𖩮\n",
      "𖩯\n",
      "𖫵\n",
      "𖬷\n",
      "𖬸\n",
      "𖬹\n",
      "𖬺\n",
      "𖬻\n",
      "𖭄\n",
      "𖺗\n",
      "𖺘\n",
      "𖺙\n",
      "𖺚\n",
      "𖿢\n",
      "𛲟\n",
      "𝪇\n",
      "𝪈\n",
      "𝪉\n",
      "𝪊\n",
      "𝪋\n",
      "𞥞\n",
      "𞥟\n"
     ]
    }
   ],
   "source": [
    "for i in punctuation.keys():\n",
    "    print(chr(i))"
   ]
  },
  {
   "cell_type": "code",
   "execution_count": 57,
   "id": "139fc23c-f099-4f8c-be4f-fafce1d21284",
   "metadata": {},
   "outputs": [
    {
     "data": {
      "text/plain": [
       "65"
      ]
     },
     "execution_count": 57,
     "metadata": {},
     "output_type": "execute_result"
    }
   ],
   "source": [
    "ord ('A')"
   ]
  },
  {
   "cell_type": "code",
   "execution_count": 58,
   "id": "31c6b757-8c03-4d35-a9a7-92285c14cc7a",
   "metadata": {},
   "outputs": [
    {
     "data": {
      "text/plain": [
       "'A'"
      ]
     },
     "execution_count": 58,
     "metadata": {},
     "output_type": "execute_result"
    }
   ],
   "source": [
    "chr(65)"
   ]
  },
  {
   "cell_type": "code",
   "execution_count": 32,
   "id": "2148f8e3-045e-4287-bc1b-abba50f4b477",
   "metadata": {},
   "outputs": [
    {
     "data": {
      "text/plain": [
       "['Hi I Love This Song', '10000 Agree LoveIT', 'Right']"
      ]
     },
     "execution_count": 32,
     "metadata": {},
     "output_type": "execute_result"
    }
   ],
   "source": [
    "#For each string, remove any punctuation characters\n",
    "[string.translate(punctuation) for string in text_data]"
   ]
  },
  {
   "cell_type": "code",
   "execution_count": 34,
   "id": "8eecf171-eab1-4d2c-99e9-42bba8e17c96",
   "metadata": {},
   "outputs": [
    {
     "data": {
      "text/plain": [
       "['Hi!!!! I. Love. This. Song....', '10000% Agree!!!! #LoveIT', 'Right?!?!']"
      ]
     },
     "execution_count": 34,
     "metadata": {},
     "output_type": "execute_result"
    }
   ],
   "source": [
    "text_data"
   ]
  },
  {
   "cell_type": "code",
   "execution_count": 60,
   "id": "611af8ee-8506-4048-b4fe-a6367afa959c",
   "metadata": {},
   "outputs": [
    {
     "data": {
      "text/plain": [
       "<generator object <genexpr> at 0x000001E6D40042E0>"
      ]
     },
     "execution_count": 60,
     "metadata": {},
     "output_type": "execute_result"
    }
   ],
   "source": [
    "dict1= {\"water\":\"آب\",\"why\":\"چرا\"}\n",
    "s= 'why water'\n",
    "(dict1[string] for string in s)"
   ]
  },
  {
   "cell_type": "code",
   "execution_count": 2,
   "id": "ad65a1b3-5893-4912-8526-78d6e2c107c8",
   "metadata": {},
   "outputs": [
    {
     "name": "stdout",
     "output_type": "stream",
     "text": [
      "['چرا آب']\n"
     ]
    }
   ],
   "source": [
    "dict1 = {\"water\": \"آب\", \"why\": \"چرا\"}\n",
    "s = ['why water']\n",
    "translated = [' '.join([dict1.get(word, word) for word in sentence.split()]) for sentence in s]\n",
    "print(translated)"
   ]
  },
  {
   "cell_type": "code",
   "execution_count": 45,
   "id": "fd48580f-12ca-4773-9c4f-e68fce7a6d9f",
   "metadata": {},
   "outputs": [
    {
     "name": "stdout",
     "output_type": "stream",
     "text": [
      "Collecting nltk\n",
      "  Obtaining dependency information for nltk from https://files.pythonhosted.org/packages/4d/66/7d9e26593edda06e8cb531874633f7c2372279c3b0f46235539fe546df8b/nltk-3.9.1-py3-none-any.whl.metadata\n",
      "  Downloading nltk-3.9.1-py3-none-any.whl.metadata (2.9 kB)\n",
      "Requirement already satisfied: click in c:\\users\\asus\\anaconda3\\lib\\site-packages (from nltk) (8.1.7)\n",
      "Requirement already satisfied: joblib in c:\\users\\asus\\anaconda3\\lib\\site-packages (from nltk) (1.4.2)\n",
      "Requirement already satisfied: regex>=2021.8.3 in c:\\users\\asus\\anaconda3\\lib\\site-packages (from nltk) (2024.11.6)\n",
      "Requirement already satisfied: tqdm in c:\\users\\asus\\anaconda3\\lib\\site-packages (from nltk) (4.67.1)\n",
      "Requirement already satisfied: colorama in c:\\users\\asus\\anaconda3\\lib\\site-packages (from click->nltk) (0.4.6)\n",
      "Downloading nltk-3.9.1-py3-none-any.whl (1.5 MB)\n",
      "   ---------------------------------------- 0.0/1.5 MB ? eta -:--:--\n",
      "   - -------------------------------------- 0.1/1.5 MB 1.7 MB/s eta 0:00:01\n",
      "   --- ------------------------------------ 0.1/1.5 MB 1.4 MB/s eta 0:00:01\n",
      "   ----- ---------------------------------- 0.2/1.5 MB 1.6 MB/s eta 0:00:01\n",
      "   ----- ---------------------------------- 0.2/1.5 MB 1.4 MB/s eta 0:00:01\n",
      "   ------ --------------------------------- 0.2/1.5 MB 1.2 MB/s eta 0:00:02\n",
      "   -------- ------------------------------- 0.3/1.5 MB 1.3 MB/s eta 0:00:01\n",
      "   ---------- ----------------------------- 0.4/1.5 MB 1.3 MB/s eta 0:00:01\n",
      "   ----------- ---------------------------- 0.5/1.5 MB 1.2 MB/s eta 0:00:01\n",
      "   ------------- -------------------------- 0.5/1.5 MB 1.2 MB/s eta 0:00:01\n",
      "   -------------- ------------------------- 0.6/1.5 MB 1.2 MB/s eta 0:00:01\n",
      "   --------------- ------------------------ 0.6/1.5 MB 1.1 MB/s eta 0:00:01\n",
      "   ---------------- ----------------------- 0.6/1.5 MB 1.1 MB/s eta 0:00:01\n",
      "   ------------------ --------------------- 0.7/1.5 MB 1.1 MB/s eta 0:00:01\n",
      "   ------------------- -------------------- 0.7/1.5 MB 1.1 MB/s eta 0:00:01\n",
      "   --------------------- ------------------ 0.8/1.5 MB 1.2 MB/s eta 0:00:01\n",
      "   ---------------------- ----------------- 0.8/1.5 MB 1.1 MB/s eta 0:00:01\n",
      "   ----------------------- ---------------- 0.9/1.5 MB 1.1 MB/s eta 0:00:01\n",
      "   ------------------------- -------------- 0.9/1.5 MB 1.1 MB/s eta 0:00:01\n",
      "   -------------------------- ------------- 1.0/1.5 MB 1.1 MB/s eta 0:00:01\n",
      "   ---------------------------- ----------- 1.1/1.5 MB 1.1 MB/s eta 0:00:01\n",
      "   ----------------------------- ---------- 1.1/1.5 MB 1.1 MB/s eta 0:00:01\n",
      "   ------------------------------- -------- 1.2/1.5 MB 1.1 MB/s eta 0:00:01\n",
      "   -------------------------------- ------- 1.2/1.5 MB 1.1 MB/s eta 0:00:01\n",
      "   ---------------------------------- ----- 1.3/1.5 MB 1.1 MB/s eta 0:00:01\n",
      "   ----------------------------------- ---- 1.3/1.5 MB 1.1 MB/s eta 0:00:01\n",
      "   ----------------------------------- ---- 1.4/1.5 MB 1.1 MB/s eta 0:00:01\n",
      "   ------------------------------------- -- 1.4/1.5 MB 1.1 MB/s eta 0:00:01\n",
      "   -------------------------------------- - 1.5/1.5 MB 1.1 MB/s eta 0:00:01\n",
      "   ---------------------------------------- 1.5/1.5 MB 1.1 MB/s eta 0:00:00\n",
      "Installing collected packages: nltk\n",
      "Successfully installed nltk-3.9.1\n"
     ]
    },
    {
     "name": "stderr",
     "output_type": "stream",
     "text": [
      "WARNING: Ignoring invalid distribution -atplotlib (c:\\users\\asus\\anaconda3\\lib\\site-packages)\n",
      "WARNING: Ignoring invalid distribution -atplotlib (c:\\users\\asus\\anaconda3\\lib\\site-packages)\n",
      "\n",
      "[notice] A new release of pip is available: 23.1.2 -> 25.0.1\n",
      "[notice] To update, run: python.exe -m pip install --upgrade pip\n"
     ]
    }
   ],
   "source": [
    "!pip install nltk"
   ]
  },
  {
   "cell_type": "code",
   "execution_count": 47,
   "id": "f38ac98f-4aa4-4724-b7d0-7026856511d6",
   "metadata": {},
   "outputs": [],
   "source": [
    "import nltk"
   ]
  },
  {
   "cell_type": "code",
   "execution_count": 49,
   "id": "972be126-67c3-4f40-9a86-384daf19cb3f",
   "metadata": {},
   "outputs": [
    {
     "name": "stderr",
     "output_type": "stream",
     "text": [
      "[nltk_data] Downloading package stopwords to\n",
      "[nltk_data]     C:\\Users\\Asus\\AppData\\Roaming\\nltk_data...\n",
      "[nltk_data]   Unzipping corpora\\stopwords.zip.\n"
     ]
    },
    {
     "data": {
      "text/plain": [
       "True"
      ]
     },
     "execution_count": 49,
     "metadata": {},
     "output_type": "execute_result"
    }
   ],
   "source": [
    "nltk.download('stopwords')"
   ]
  },
  {
   "cell_type": "code",
   "execution_count": 51,
   "id": "e34833cb-0c3d-425d-80d0-4c115933e0b2",
   "metadata": {},
   "outputs": [
    {
     "name": "stderr",
     "output_type": "stream",
     "text": [
      "[nltk_data] Downloading package punkt_tab to\n",
      "[nltk_data]     C:\\Users\\Asus\\AppData\\Roaming\\nltk_data...\n",
      "[nltk_data]   Unzipping tokenizers\\punkt_tab.zip.\n"
     ]
    },
    {
     "data": {
      "text/plain": [
       "True"
      ]
     },
     "execution_count": 51,
     "metadata": {},
     "output_type": "execute_result"
    }
   ],
   "source": [
    "nltk.download('punkt_tab')"
   ]
  },
  {
   "cell_type": "code",
   "execution_count": 52,
   "id": "b5f1cfaf-75ce-4520-b581-1af9344264be",
   "metadata": {},
   "outputs": [
    {
     "data": {
      "text/plain": [
       "['The', 'science', 'of', 'today', 'is', 'the', 'technology', 'of', 'tomorrow']"
      ]
     },
     "execution_count": 52,
     "metadata": {},
     "output_type": "execute_result"
    }
   ],
   "source": [
    "# Load library\n",
    "from nltk.tokenize import word_tokenize\n",
    "# Create text\n",
    "string = \"The science of today is the technology of tomorrow\"\n",
    "# Tokenize words\n",
    "word_tokenize(string)"
   ]
  },
  {
   "cell_type": "code",
   "execution_count": 53,
   "id": "53a86f24-5fb3-4b5d-8f5a-0ef9e978a4a0",
   "metadata": {},
   "outputs": [
    {
     "data": {
      "text/plain": [
       "['The science of today is the technology of tomorrow.', 'Tomorrow is today.']"
      ]
     },
     "execution_count": 53,
     "metadata": {},
     "output_type": "execute_result"
    }
   ],
   "source": [
    "# Load library\n",
    "from nltk.tokenize import sent_tokenize\n",
    "# Create text\n",
    "string = \"The science of today is the technology of tomorrow. Tomorrow is today.\"\n",
    "# Tokenize sentences\n",
    "sent_tokenize(string)"
   ]
  },
  {
   "cell_type": "code",
   "execution_count": 54,
   "id": "51aa982b-1432-4847-9ba9-110fb586d982",
   "metadata": {},
   "outputs": [
    {
     "data": {
      "text/plain": [
       "['going', 'go', 'store', 'park']"
      ]
     },
     "execution_count": 54,
     "metadata": {},
     "output_type": "execute_result"
    }
   ],
   "source": [
    "# Load library\n",
    "from nltk.corpus import stopwords\n",
    "# You will have to download the set of stop words the first time\n",
    "# import nltk\n",
    "# nltk.download('stopwords')\n",
    "# Create word tokens\n",
    "tokenized_words = ['i',\n",
    "                    'am',\n",
    "                    'going',\n",
    "                    'to',\n",
    "                    'go',\n",
    "                    'to',\n",
    "                    'the',\n",
    "                    'store',\n",
    "                    'and',\n",
    "                    'park']\n",
    "# Load stop words\n",
    "stop_words = stopwords.words('english')\n",
    "# Remove stop words\n",
    "[word for word in tokenized_words if word not in stop_words]"
   ]
  },
  {
   "cell_type": "code",
   "execution_count": 55,
   "id": "efb1ebc6-26a5-41a9-9761-fe8e3735172b",
   "metadata": {},
   "outputs": [
    {
     "data": {
      "text/plain": [
       "['i', 'am', 'humbl', 'by', 'thi', 'tradit', 'meet']"
      ]
     },
     "execution_count": 55,
     "metadata": {},
     "output_type": "execute_result"
    }
   ],
   "source": [
    "# Load library\n",
    "from nltk.stem.porter import PorterStemmer\n",
    "# Create word tokens\n",
    "tokenized_words = ['i', 'am', 'humbled', 'by', 'this', 'traditional', 'meeting']\n",
    "# Create stemmer\n",
    "porter = PorterStemmer()\n",
    "# Apply stemmer\n",
    "[porter.stem(word) for word in tokenized_words]"
   ]
  },
  {
   "cell_type": "code",
   "execution_count": null,
   "id": "d129bc7c-f848-4b44-b7d1-e0ccbc74fbfe",
   "metadata": {},
   "outputs": [],
   "source": []
  }
 ],
 "metadata": {
  "kernelspec": {
   "display_name": "Python 3 (ipykernel)",
   "language": "python",
   "name": "python3"
  },
  "language_info": {
   "codemirror_mode": {
    "name": "ipython",
    "version": 3
   },
   "file_extension": ".py",
   "mimetype": "text/x-python",
   "name": "python",
   "nbconvert_exporter": "python",
   "pygments_lexer": "ipython3",
   "version": "3.10.12"
  }
 },
 "nbformat": 4,
 "nbformat_minor": 5
}
