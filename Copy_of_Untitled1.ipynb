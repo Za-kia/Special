{
  "nbformat": 4,
  "nbformat_minor": 0,
  "metadata": {
    "colab": {
      "provenance": []
    },
    "kernelspec": {
      "name": "python3",
      "display_name": "Python 3"
    },
    "language_info": {
      "name": "python"
    }
  },
  "cells": [
    {
      "cell_type": "code",
      "execution_count": 2,
      "metadata": {
        "id": "9SDlbOou9whz"
      },
      "outputs": [],
      "source": [
        "import tensorflow as tf"
      ]
    },
    {
      "cell_type": "code",
      "source": [
        "tensor_zero_d= tf.constant(4)\n",
        "print(tensor_zero_d)"
      ],
      "metadata": {
        "colab": {
          "base_uri": "https://localhost:8080/"
        },
        "id": "d7VLemhR-MZ7",
        "outputId": "b595d011-59ec-471b-b0cf-6dd781ca7715"
      },
      "execution_count": null,
      "outputs": [
        {
          "output_type": "stream",
          "name": "stdout",
          "text": [
            "tf.Tensor(4, shape=(), dtype=int32)\n"
          ]
        }
      ]
    },
    {
      "cell_type": "code",
      "source": [
        "tensor_one_d= tf.constant([0.,2,-3,8,90], dtype = tf.float32)\n",
        "print(tensor_one_d)"
      ],
      "metadata": {
        "colab": {
          "base_uri": "https://localhost:8080/"
        },
        "id": "xQxqlRV__CbS",
        "outputId": "3d9d7bec-4144-46da-e54f-5181e995cefe"
      },
      "execution_count": null,
      "outputs": [
        {
          "output_type": "stream",
          "name": "stdout",
          "text": [
            "tf.Tensor([ 0.  2. -3.  8. 90.], shape=(5,), dtype=float32)\n"
          ]
        }
      ]
    },
    {
      "cell_type": "code",
      "source": [
        "tensor_one_d= tf.constant([0,2,-3,8,90])\n",
        "print(tensor_one_d)"
      ],
      "metadata": {
        "colab": {
          "base_uri": "https://localhost:8080/"
        },
        "id": "kfYxB-GUpE2x",
        "outputId": "9cccad1a-b14e-4c94-d9e9-935af8211c6a"
      },
      "execution_count": null,
      "outputs": [
        {
          "output_type": "stream",
          "name": "stdout",
          "text": [
            "tf.Tensor([ 0  2 -3  8 90], shape=(5,), dtype=int32)\n"
          ]
        }
      ]
    },
    {
      "cell_type": "code",
      "source": [
        "tensor_one_d= tf.constant([0,2,-3,8,90], dtype = tf.float32)\n",
        "print(tensor_one_d)"
      ],
      "metadata": {
        "colab": {
          "base_uri": "https://localhost:8080/"
        },
        "id": "09MnWhtSpInO",
        "outputId": "587f2e96-9f4d-46b7-8f76-404f86bc9925"
      },
      "execution_count": null,
      "outputs": [
        {
          "output_type": "stream",
          "name": "stdout",
          "text": [
            "tf.Tensor([ 0.  2. -3.  8. 90.], shape=(5,), dtype=float32)\n"
          ]
        }
      ]
    },
    {
      "cell_type": "code",
      "source": [
        "tensor_one_d= tf.constant([0,2,-3,8,90.])\n",
        "print(tensor_one_d)"
      ],
      "metadata": {
        "colab": {
          "base_uri": "https://localhost:8080/"
        },
        "id": "Xw0dgTSQpN1M",
        "outputId": "65dd7ade-c05f-4357-ff12-c726cb5d2a6d"
      },
      "execution_count": null,
      "outputs": [
        {
          "output_type": "stream",
          "name": "stdout",
          "text": [
            "tf.Tensor([ 0.  2. -3.  8. 90.], shape=(5,), dtype=float32)\n"
          ]
        }
      ]
    },
    {
      "cell_type": "code",
      "source": [
        "tensor_one_d= tf.constant([0.,2,-3,8,90], dtype = tf.float32)\n",
        "casted_tensor_one_d=tf.cast(tensor_one_d, dtype=tf.int16)\n",
        "casted_tensor_one_2_d=tf.cast(tensor_one_d, dtype=tf.bool)\n",
        "print(tensor_one_d)\n",
        "print(casted_tensor_one_d)\n",
        "print(casted_tensor_one_2_d)"
      ],
      "metadata": {
        "colab": {
          "base_uri": "https://localhost:8080/"
        },
        "id": "H4sP_3P8ZXVc",
        "outputId": "01f6f577-6e59-4296-da89-5765290dec03"
      },
      "execution_count": null,
      "outputs": [
        {
          "output_type": "stream",
          "name": "stdout",
          "text": [
            "tf.Tensor([ 0.  2. -3.  8. 90.], shape=(5,), dtype=float32)\n",
            "tf.Tensor([ 0  2 -3  8 90], shape=(5,), dtype=int16)\n",
            "tf.Tensor([False  True  True  True  True], shape=(5,), dtype=bool)\n"
          ]
        }
      ]
    },
    {
      "cell_type": "code",
      "source": [
        "tensor_bool= tf.constant([True, True, False])\n",
        "print(tensor_bool)"
      ],
      "metadata": {
        "colab": {
          "base_uri": "https://localhost:8080/"
        },
        "id": "CAzq_1yxbA7T",
        "outputId": "d8aad744-cda2-4dd7-9eb5-b3d3adfc94fa"
      },
      "execution_count": null,
      "outputs": [
        {
          "output_type": "stream",
          "name": "stdout",
          "text": [
            "tf.Tensor([ True  True False], shape=(3,), dtype=bool)\n"
          ]
        }
      ]
    },
    {
      "cell_type": "code",
      "source": [
        "tensor_string= tf.constant(\"Hello World!\")\n",
        "print(tensor_string)"
      ],
      "metadata": {
        "colab": {
          "base_uri": "https://localhost:8080/"
        },
        "id": "d8E1Zzlrpf_y",
        "outputId": "940b6b0f-2848-41ed-b750-59d1825080a9"
      },
      "execution_count": null,
      "outputs": [
        {
          "output_type": "stream",
          "name": "stdout",
          "text": [
            "tf.Tensor(b'Hello World!', shape=(), dtype=string)\n"
          ]
        }
      ]
    },
    {
      "cell_type": "code",
      "source": [
        "tensor_string= tf.constant([\"Hello World!\", \"hi\"])\n",
        "print(tensor_string)"
      ],
      "metadata": {
        "colab": {
          "base_uri": "https://localhost:8080/"
        },
        "id": "sf3yfjPebcqg",
        "outputId": "21197e3d-b4d9-4a1a-84e8-11bfffeeee62"
      },
      "execution_count": null,
      "outputs": [
        {
          "output_type": "stream",
          "name": "stdout",
          "text": [
            "tf.Tensor([b'Hello World!' b'hi'], shape=(2,), dtype=string)\n"
          ]
        }
      ]
    },
    {
      "cell_type": "code",
      "source": [
        "tensor_two_d= tf.constant([\n",
        "    [1, 2, 0],\n",
        "    [3, 5, -1],\n",
        "    [1, 5, 6],\n",
        "    [2, 3, 8],\n",
        "])\n",
        "print(tensor_two_d)"
      ],
      "metadata": {
        "colab": {
          "base_uri": "https://localhost:8080/"
        },
        "id": "91WlgsDe_wvG",
        "outputId": "6d309e2c-600a-4093-f3a2-48b210ace621"
      },
      "execution_count": null,
      "outputs": [
        {
          "output_type": "stream",
          "name": "stdout",
          "text": [
            "tf.Tensor(\n",
            "[[ 1  2  0]\n",
            " [ 3  5 -1]\n",
            " [ 1  5  6]\n",
            " [ 2  3  8]], shape=(4, 3), dtype=int32)\n"
          ]
        }
      ]
    },
    {
      "cell_type": "code",
      "source": [
        "tensor_three_d= tf.constant(\n",
        "[[[1, 2, 0],\n",
        " [3, 5, -1]],\n",
        "\n",
        "[[10, 2, 0],\n",
        " [1, 0, 2]],\n",
        "\n",
        "[[5, 8, 0],\n",
        " [2, 7, 0]],\n",
        "\n",
        "[[2, 1, 9],\n",
        " [4, -3, 32]],\n",
        "])\n",
        "print(tensor_three_d)"
      ],
      "metadata": {
        "colab": {
          "base_uri": "https://localhost:8080/"
        },
        "id": "jb5d0MxdA3u6",
        "outputId": "6b2a958d-cda5-42db-d18b-4e36aeb624ad"
      },
      "execution_count": null,
      "outputs": [
        {
          "output_type": "stream",
          "name": "stdout",
          "text": [
            "tf.Tensor(\n",
            "[[[ 1  2  0]\n",
            "  [ 3  5 -1]]\n",
            "\n",
            " [[10  2  0]\n",
            "  [ 1  0  2]]\n",
            "\n",
            " [[ 5  8  0]\n",
            "  [ 2  7  0]]\n",
            "\n",
            " [[ 2  1  9]\n",
            "  [ 4 -3 32]]], shape=(4, 2, 3), dtype=int32)\n"
          ]
        }
      ]
    },
    {
      "cell_type": "code",
      "source": [
        "print(tensor_three_d.shape)\n",
        "print(tensor_two_d.shape)\n",
        "print(tensor_one_d.shape)\n",
        "print(tensor_zero_d.shape)"
      ],
      "metadata": {
        "colab": {
          "base_uri": "https://localhost:8080/"
        },
        "id": "gfuJcVEWCPuj",
        "outputId": "fc30dab8-fe8a-4fb8-b7ce-6da46fd8f60c"
      },
      "execution_count": null,
      "outputs": [
        {
          "output_type": "stream",
          "name": "stdout",
          "text": [
            "(4, 2, 3)\n",
            "(4, 3)\n",
            "(5,)\n",
            "()\n"
          ]
        }
      ]
    },
    {
      "cell_type": "code",
      "source": [
        "print(tensor_three_d.ndim)"
      ],
      "metadata": {
        "colab": {
          "base_uri": "https://localhost:8080/"
        },
        "id": "gKgGT2FGCys1",
        "outputId": "aa8e1a52-7198-4841-b99b-01f72a78e2c8"
      },
      "execution_count": null,
      "outputs": [
        {
          "output_type": "stream",
          "name": "stdout",
          "text": [
            "3\n"
          ]
        }
      ]
    },
    {
      "cell_type": "code",
      "source": [
        "tensor_four_d= tf.constant([\n",
        "    [\n",
        "    [[1, 2, 0],\n",
        "      [3, 5, -1]],\n",
        "\n",
        "    [[10, 2, 0],\n",
        "      [1, 0, 2]],\n",
        "\n",
        "    [[5, 8, 0],\n",
        "      [2, 7, 0]],\n",
        "\n",
        "    [[2, 1, 9],\n",
        "      [4, -3, 32]]\n",
        "],\n",
        "\n",
        "[\n",
        "    [[13, 26, 0],\n",
        "      [3, 5, -12]],\n",
        "\n",
        "    [[10, 2, 0],\n",
        "      [1, 0, 23]],\n",
        "\n",
        "    [[5, 8, 0],\n",
        "      [2, 73, 0]],\n",
        "\n",
        "    [[2, 1, 9],\n",
        "      [4, -30, 32]]\n",
        "],\n",
        "\n",
        "[\n",
        "    [[103, 26, 0],\n",
        "      [3, 50, -12]],\n",
        "\n",
        "   [[100, 2, 0],\n",
        "      [1, 0, 23]],\n",
        "\n",
        "   [[5, 28, 0],\n",
        "      [2, 3, 0]],\n",
        "\n",
        "   [[22, 1, 9],\n",
        "      [44, -320, 32]]\n",
        "],\n",
        "])\n",
        "print(tensor_four_d)"
      ],
      "metadata": {
        "colab": {
          "base_uri": "https://localhost:8080/"
        },
        "id": "bu-zzXZpDeBu",
        "outputId": "39d8d48d-6352-4b9c-a7de-6e0f033b75ec"
      },
      "execution_count": null,
      "outputs": [
        {
          "output_type": "stream",
          "name": "stdout",
          "text": [
            "tf.Tensor(\n",
            "[[[[   1    2    0]\n",
            "   [   3    5   -1]]\n",
            "\n",
            "  [[  10    2    0]\n",
            "   [   1    0    2]]\n",
            "\n",
            "  [[   5    8    0]\n",
            "   [   2    7    0]]\n",
            "\n",
            "  [[   2    1    9]\n",
            "   [   4   -3   32]]]\n",
            "\n",
            "\n",
            " [[[  13   26    0]\n",
            "   [   3    5  -12]]\n",
            "\n",
            "  [[  10    2    0]\n",
            "   [   1    0   23]]\n",
            "\n",
            "  [[   5    8    0]\n",
            "   [   2   73    0]]\n",
            "\n",
            "  [[   2    1    9]\n",
            "   [   4  -30   32]]]\n",
            "\n",
            "\n",
            " [[[ 103   26    0]\n",
            "   [   3   50  -12]]\n",
            "\n",
            "  [[ 100    2    0]\n",
            "   [   1    0   23]]\n",
            "\n",
            "  [[   5   28    0]\n",
            "   [   2    3    0]]\n",
            "\n",
            "  [[  22    1    9]\n",
            "   [  44 -320   32]]]], shape=(3, 4, 2, 3), dtype=int32)\n"
          ]
        }
      ]
    },
    {
      "cell_type": "code",
      "source": [
        "import numpy as np"
      ],
      "metadata": {
        "id": "Pi8h3DycFDuh"
      },
      "execution_count": null,
      "outputs": []
    },
    {
      "cell_type": "code",
      "source": [
        "np_array = np.array([1, 2, 4])\n",
        "print(np_array)"
      ],
      "metadata": {
        "colab": {
          "base_uri": "https://localhost:8080/"
        },
        "id": "AlPJTfR4cIJ1",
        "outputId": "bd54ed5a-d5ff-4b1c-9593-bf04f4cd045e"
      },
      "execution_count": null,
      "outputs": [
        {
          "output_type": "stream",
          "name": "stdout",
          "text": [
            "[1 2 4]\n"
          ]
        }
      ]
    },
    {
      "cell_type": "code",
      "source": [
        "converted_tensor = tf.convert_to_tensor(np_array)\n",
        "print(converted_tensor)"
      ],
      "metadata": {
        "colab": {
          "base_uri": "https://localhost:8080/"
        },
        "id": "em6CxL2DcfYv",
        "outputId": "b6b61fbb-cd3f-493e-9226-1d269345db92"
      },
      "execution_count": null,
      "outputs": [
        {
          "output_type": "stream",
          "name": "stdout",
          "text": [
            "tf.Tensor([1 2 4], shape=(3,), dtype=int64)\n"
          ]
        }
      ]
    },
    {
      "cell_type": "code",
      "source": [
        "eye_tensor = tf.eye(\n",
        "    num_rows=3,\n",
        "    num_columns=None,\n",
        "    batch_shape = None,\n",
        "    dtype=tf.dtypes.float32,\n",
        "    name=None\n",
        ")\n",
        "print(eye_tensor)"
      ],
      "metadata": {
        "colab": {
          "base_uri": "https://localhost:8080/"
        },
        "id": "AXYyWaCojocn",
        "outputId": "cee6604e-6d10-440a-8f84-b7263925cece"
      },
      "execution_count": null,
      "outputs": [
        {
          "output_type": "stream",
          "name": "stdout",
          "text": [
            "tf.Tensor(\n",
            "[[1. 0. 0.]\n",
            " [0. 1. 0.]\n",
            " [0. 0. 1.]], shape=(3, 3), dtype=float32)\n"
          ]
        }
      ]
    },
    {
      "cell_type": "code",
      "source": [
        "eye_tensor = tf.eye(\n",
        "    num_rows=3,\n",
        "    num_columns=None,\n",
        "    batch_shape = None,\n",
        "    dtype=tf.dtypes.float16,\n",
        "    name=None\n",
        ")\n",
        "print(eye_tensor)"
      ],
      "metadata": {
        "colab": {
          "base_uri": "https://localhost:8080/"
        },
        "id": "hNGJHdY5j2rP",
        "outputId": "06ad6984-3192-4ef0-c088-ee382870e187"
      },
      "execution_count": null,
      "outputs": [
        {
          "output_type": "stream",
          "name": "stdout",
          "text": [
            "tf.Tensor(\n",
            "[[1. 0. 0.]\n",
            " [0. 1. 0.]\n",
            " [0. 0. 1.]], shape=(3, 3), dtype=float16)\n"
          ]
        }
      ]
    },
    {
      "cell_type": "code",
      "source": [
        "eye_tensor = tf.eye(\n",
        "    num_rows=3,\n",
        "    num_columns=None,\n",
        "    batch_shape = None,\n",
        "    dtype=tf.dtypes.bool,\n",
        "    name=None\n",
        ")\n",
        "print(eye_tensor)"
      ],
      "metadata": {
        "colab": {
          "base_uri": "https://localhost:8080/"
        },
        "id": "qmnOdjV6jruT",
        "outputId": "42b1b578-8da2-4a6f-a104-9b86a3c83a67"
      },
      "execution_count": null,
      "outputs": [
        {
          "output_type": "stream",
          "name": "stdout",
          "text": [
            "tf.Tensor(\n",
            "[[ True False False]\n",
            " [False  True False]\n",
            " [False False  True]], shape=(3, 3), dtype=bool)\n"
          ]
        }
      ]
    },
    {
      "cell_type": "code",
      "source": [
        "eye_tensor = tf.eye(\n",
        "    num_rows=5,\n",
        "    num_columns=3,\n",
        "    batch_shape = None,\n",
        "    dtype=tf.dtypes.float32,\n",
        "    name=None\n",
        ")\n",
        "print(eye_tensor)"
      ],
      "metadata": {
        "colab": {
          "base_uri": "https://localhost:8080/"
        },
        "id": "XVOcKflHkEmZ",
        "outputId": "c8d59283-dc9d-49dd-f2b5-c3b2fc9bc924"
      },
      "execution_count": null,
      "outputs": [
        {
          "output_type": "stream",
          "name": "stdout",
          "text": [
            "tf.Tensor(\n",
            "[[1. 0. 0.]\n",
            " [0. 1. 0.]\n",
            " [0. 0. 1.]\n",
            " [0. 0. 0.]\n",
            " [0. 0. 0.]], shape=(5, 3), dtype=float32)\n"
          ]
        }
      ]
    },
    {
      "cell_type": "code",
      "source": [
        "eye_tensor = tf.eye(\n",
        "    num_rows=5,\n",
        "    num_columns=None,\n",
        "    batch_shape = [3,],\n",
        "    dtype=tf.dtypes.float32,\n",
        "    name=None\n",
        ")\n",
        "print(eye_tensor)"
      ],
      "metadata": {
        "colab": {
          "base_uri": "https://localhost:8080/"
        },
        "id": "GyyET067keAE",
        "outputId": "68f2a150-a708-4056-ac3b-f7294ecfbf28"
      },
      "execution_count": null,
      "outputs": [
        {
          "output_type": "stream",
          "name": "stdout",
          "text": [
            "tf.Tensor(\n",
            "[[[1. 0. 0. 0. 0.]\n",
            "  [0. 1. 0. 0. 0.]\n",
            "  [0. 0. 1. 0. 0.]\n",
            "  [0. 0. 0. 1. 0.]\n",
            "  [0. 0. 0. 0. 1.]]\n",
            "\n",
            " [[1. 0. 0. 0. 0.]\n",
            "  [0. 1. 0. 0. 0.]\n",
            "  [0. 0. 1. 0. 0.]\n",
            "  [0. 0. 0. 1. 0.]\n",
            "  [0. 0. 0. 0. 1.]]\n",
            "\n",
            " [[1. 0. 0. 0. 0.]\n",
            "  [0. 1. 0. 0. 0.]\n",
            "  [0. 0. 1. 0. 0.]\n",
            "  [0. 0. 0. 1. 0.]\n",
            "  [0. 0. 0. 0. 1.]]], shape=(3, 5, 5), dtype=float32)\n"
          ]
        }
      ]
    },
    {
      "cell_type": "code",
      "source": [
        "eye_tensor = tf.eye(\n",
        "    num_rows=5,\n",
        "    num_columns=None,\n",
        "    batch_shape = [2,],\n",
        "    dtype=tf.dtypes.float32,\n",
        "    name=None\n",
        ")\n",
        "print(eye_tensor)"
      ],
      "metadata": {
        "colab": {
          "base_uri": "https://localhost:8080/"
        },
        "id": "dfc23dmkkm7A",
        "outputId": "6c828b3e-e3a6-4d40-f177-61fffeba54e3"
      },
      "execution_count": null,
      "outputs": [
        {
          "output_type": "stream",
          "name": "stdout",
          "text": [
            "tf.Tensor(\n",
            "[[[1. 0. 0. 0. 0.]\n",
            "  [0. 1. 0. 0. 0.]\n",
            "  [0. 0. 1. 0. 0.]\n",
            "  [0. 0. 0. 1. 0.]\n",
            "  [0. 0. 0. 0. 1.]]\n",
            "\n",
            " [[1. 0. 0. 0. 0.]\n",
            "  [0. 1. 0. 0. 0.]\n",
            "  [0. 0. 1. 0. 0.]\n",
            "  [0. 0. 0. 1. 0.]\n",
            "  [0. 0. 0. 0. 1.]]], shape=(2, 5, 5), dtype=float32)\n"
          ]
        }
      ]
    },
    {
      "cell_type": "code",
      "source": [
        "eye_tensor = tf.eye(\n",
        "    num_rows=5,\n",
        "    num_columns=None,\n",
        "    batch_shape = [2,4],\n",
        "    dtype=tf.dtypes.float32,\n",
        "    name=None\n",
        ")\n",
        "print(eye_tensor)"
      ],
      "metadata": {
        "colab": {
          "base_uri": "https://localhost:8080/"
        },
        "id": "mndxA0Auk_85",
        "outputId": "748203f4-fb72-454b-9953-a7c161731c6b"
      },
      "execution_count": null,
      "outputs": [
        {
          "output_type": "stream",
          "name": "stdout",
          "text": [
            "tf.Tensor(\n",
            "[[[[1. 0. 0. 0. 0.]\n",
            "   [0. 1. 0. 0. 0.]\n",
            "   [0. 0. 1. 0. 0.]\n",
            "   [0. 0. 0. 1. 0.]\n",
            "   [0. 0. 0. 0. 1.]]\n",
            "\n",
            "  [[1. 0. 0. 0. 0.]\n",
            "   [0. 1. 0. 0. 0.]\n",
            "   [0. 0. 1. 0. 0.]\n",
            "   [0. 0. 0. 1. 0.]\n",
            "   [0. 0. 0. 0. 1.]]\n",
            "\n",
            "  [[1. 0. 0. 0. 0.]\n",
            "   [0. 1. 0. 0. 0.]\n",
            "   [0. 0. 1. 0. 0.]\n",
            "   [0. 0. 0. 1. 0.]\n",
            "   [0. 0. 0. 0. 1.]]\n",
            "\n",
            "  [[1. 0. 0. 0. 0.]\n",
            "   [0. 1. 0. 0. 0.]\n",
            "   [0. 0. 1. 0. 0.]\n",
            "   [0. 0. 0. 1. 0.]\n",
            "   [0. 0. 0. 0. 1.]]]\n",
            "\n",
            "\n",
            " [[[1. 0. 0. 0. 0.]\n",
            "   [0. 1. 0. 0. 0.]\n",
            "   [0. 0. 1. 0. 0.]\n",
            "   [0. 0. 0. 1. 0.]\n",
            "   [0. 0. 0. 0. 1.]]\n",
            "\n",
            "  [[1. 0. 0. 0. 0.]\n",
            "   [0. 1. 0. 0. 0.]\n",
            "   [0. 0. 1. 0. 0.]\n",
            "   [0. 0. 0. 1. 0.]\n",
            "   [0. 0. 0. 0. 1.]]\n",
            "\n",
            "  [[1. 0. 0. 0. 0.]\n",
            "   [0. 1. 0. 0. 0.]\n",
            "   [0. 0. 1. 0. 0.]\n",
            "   [0. 0. 0. 1. 0.]\n",
            "   [0. 0. 0. 0. 1.]]\n",
            "\n",
            "  [[1. 0. 0. 0. 0.]\n",
            "   [0. 1. 0. 0. 0.]\n",
            "   [0. 0. 1. 0. 0.]\n",
            "   [0. 0. 0. 1. 0.]\n",
            "   [0. 0. 0. 0. 1.]]]], shape=(2, 4, 5, 5), dtype=float32)\n"
          ]
        }
      ]
    },
    {
      "cell_type": "code",
      "source": [
        "fill_tensor=tf.fill(\n",
        "    [3, 4], 5, name=None\n",
        ")\n",
        "print(fill_tensor)"
      ],
      "metadata": {
        "colab": {
          "base_uri": "https://localhost:8080/"
        },
        "id": "GEbKsBMKgEIM",
        "outputId": "ea1986d6-f290-4da0-ed2b-ef13536c309b"
      },
      "execution_count": null,
      "outputs": [
        {
          "output_type": "stream",
          "name": "stdout",
          "text": [
            "tf.Tensor(\n",
            "[[5 5 5 5]\n",
            " [5 5 5 5]\n",
            " [5 5 5 5]], shape=(3, 4), dtype=int32)\n"
          ]
        }
      ]
    },
    {
      "cell_type": "code",
      "source": [
        "fill_tensor=tf.fill(\n",
        "    [1, 3, 4], 5, name=None\n",
        ")\n",
        "print(fill_tensor)"
      ],
      "metadata": {
        "colab": {
          "base_uri": "https://localhost:8080/"
        },
        "id": "ocMz1boOlejB",
        "outputId": "9b9105fb-4a24-4095-9acb-b1998e49ada4"
      },
      "execution_count": null,
      "outputs": [
        {
          "output_type": "stream",
          "name": "stdout",
          "text": [
            "tf.Tensor(\n",
            "[[[5 5 5 5]\n",
            "  [5 5 5 5]\n",
            "  [5 5 5 5]]], shape=(1, 3, 4), dtype=int32)\n"
          ]
        }
      ]
    },
    {
      "cell_type": "code",
      "source": [
        "ones_tensor=tf.ones(\n",
        "    [5, 3],\n",
        "    dtype = tf.dtypes.float32,\n",
        "    name=None\n",
        ")\n",
        "print(ones_tensor)"
      ],
      "metadata": {
        "colab": {
          "base_uri": "https://localhost:8080/"
        },
        "id": "KeejNpy-lmgW",
        "outputId": "298ffe87-fa36-4115-c0bf-3d60e42b7f42"
      },
      "execution_count": null,
      "outputs": [
        {
          "output_type": "stream",
          "name": "stdout",
          "text": [
            "tf.Tensor(\n",
            "[[1. 1. 1.]\n",
            " [1. 1. 1.]\n",
            " [1. 1. 1.]\n",
            " [1. 1. 1.]\n",
            " [1. 1. 1.]], shape=(5, 3), dtype=float32)\n"
          ]
        }
      ]
    },
    {
      "cell_type": "code",
      "source": [
        "ones_tensor=tf.ones(\n",
        "    [5, 3, 2],\n",
        "    dtype = tf.dtypes.float32,\n",
        "    name=None\n",
        ")\n",
        "print(ones_tensor)"
      ],
      "metadata": {
        "colab": {
          "base_uri": "https://localhost:8080/"
        },
        "id": "nWRjuqlKmh9X",
        "outputId": "830eda46-b8af-4e9c-c5d3-7308c3805b3c"
      },
      "execution_count": null,
      "outputs": [
        {
          "output_type": "stream",
          "name": "stdout",
          "text": [
            "tf.Tensor(\n",
            "[[[1. 1.]\n",
            "  [1. 1.]\n",
            "  [1. 1.]]\n",
            "\n",
            " [[1. 1.]\n",
            "  [1. 1.]\n",
            "  [1. 1.]]\n",
            "\n",
            " [[1. 1.]\n",
            "  [1. 1.]\n",
            "  [1. 1.]]\n",
            "\n",
            " [[1. 1.]\n",
            "  [1. 1.]\n",
            "  [1. 1.]]\n",
            "\n",
            " [[1. 1.]\n",
            "  [1. 1.]\n",
            "  [1. 1.]]], shape=(5, 3, 2), dtype=float32)\n"
          ]
        }
      ]
    },
    {
      "cell_type": "code",
      "source": [
        "ones_like_tensor= tf.ones_like(fill_tensor)\n",
        "print(ones_like_tensor)"
      ],
      "metadata": {
        "colab": {
          "base_uri": "https://localhost:8080/"
        },
        "id": "vXEcfzyVnDru",
        "outputId": "c574cf86-fa77-4e23-b8d5-1ec37bd48dac"
      },
      "execution_count": null,
      "outputs": [
        {
          "output_type": "stream",
          "name": "stdout",
          "text": [
            "tf.Tensor(\n",
            "[[[1 1 1 1]\n",
            "  [1 1 1 1]\n",
            "  [1 1 1 1]]], shape=(1, 3, 4), dtype=int32)\n"
          ]
        }
      ]
    },
    {
      "cell_type": "code",
      "source": [
        "zeros_tensor=tf.zeros(\n",
        "    [3, 2],\n",
        "    dtype = tf.dtypes.float32,\n",
        "    name=None\n",
        ")\n",
        "print(zeros_tensor)"
      ],
      "metadata": {
        "colab": {
          "base_uri": "https://localhost:8080/"
        },
        "id": "z9TBj87Kns2t",
        "outputId": "da6d700c-a3f3-4c53-828e-16e56cf02ce1"
      },
      "execution_count": null,
      "outputs": [
        {
          "output_type": "stream",
          "name": "stdout",
          "text": [
            "tf.Tensor(\n",
            "[[0. 0.]\n",
            " [0. 0.]\n",
            " [0. 0.]], shape=(3, 2), dtype=float32)\n"
          ]
        }
      ]
    },
    {
      "cell_type": "code",
      "source": [
        "zeros_like_tensor= tf.zeros_like(fill_tensor)\n",
        "print(zeros_like_tensor)"
      ],
      "metadata": {
        "colab": {
          "base_uri": "https://localhost:8080/"
        },
        "id": "N4oAMw0loLZN",
        "outputId": "117ddbde-aac4-450f-9af6-c456c8cdb5b1"
      },
      "execution_count": null,
      "outputs": [
        {
          "output_type": "stream",
          "name": "stdout",
          "text": [
            "tf.Tensor(\n",
            "[[[0 0 0 0]\n",
            "  [0 0 0 0]\n",
            "  [0 0 0 0]]], shape=(1, 3, 4), dtype=int32)\n"
          ]
        }
      ]
    },
    {
      "cell_type": "code",
      "source": [
        "print(tf.shape(tensor_three_d))"
      ],
      "metadata": {
        "colab": {
          "base_uri": "https://localhost:8080/"
        },
        "id": "YWnNttgFojF_",
        "outputId": "d0bd0749-691d-4e46-f7f0-a11d125a0b5f"
      },
      "execution_count": null,
      "outputs": [
        {
          "output_type": "stream",
          "name": "stdout",
          "text": [
            "tf.Tensor([4 2 3], shape=(3,), dtype=int32)\n"
          ]
        }
      ]
    },
    {
      "cell_type": "code",
      "source": [
        "#shape of tensor \"t\" is [2, 2, 3]\n",
        "t = tf.constant([[[1, 1, 1],[2, 2, 2]], [[3, 3, 3], [4, 4, 4]]])\n",
        "tf.rank(t)   #3"
      ],
      "metadata": {
        "colab": {
          "base_uri": "https://localhost:8080/"
        },
        "id": "n8M-bf2ppsiU",
        "outputId": "cbdab309-92cd-4b22-b89f-83e16b29432c"
      },
      "execution_count": null,
      "outputs": [
        {
          "output_type": "execute_result",
          "data": {
            "text/plain": [
              "<tf.Tensor: shape=(), dtype=int32, numpy=2>"
            ]
          },
          "metadata": {},
          "execution_count": 56
        }
      ]
    },
    {
      "cell_type": "code",
      "source": [
        "#shape of tensor \"t\" is [2, 2, 3]\n",
        "t = tf.constant([[1, 1, 1],[2, 2, 2]])\n",
        "tf.rank(t)   #2"
      ],
      "metadata": {
        "colab": {
          "base_uri": "https://localhost:8080/"
        },
        "id": "2rAdkCdxrDRn",
        "outputId": "d29283f3-602c-411e-b620-2afd092921a1"
      },
      "execution_count": null,
      "outputs": [
        {
          "output_type": "execute_result",
          "data": {
            "text/plain": [
              "<tf.Tensor: shape=(), dtype=int32, numpy=2>"
            ]
          },
          "metadata": {},
          "execution_count": 57
        }
      ]
    },
    {
      "cell_type": "code",
      "source": [
        "t = tf.constant([[[1, 1, 1],[2, 2, 2]], [[3, 3, 3], [4, 4, 4]]])\n",
        "tf.size(t)"
      ],
      "metadata": {
        "colab": {
          "base_uri": "https://localhost:8080/"
        },
        "id": "_Nbf4tgPrihY",
        "outputId": "52e13b1b-9025-49c3-81be-81416e657329"
      },
      "execution_count": null,
      "outputs": [
        {
          "output_type": "execute_result",
          "data": {
            "text/plain": [
              "<tf.Tensor: shape=(), dtype=int32, numpy=12>"
            ]
          },
          "metadata": {},
          "execution_count": 58
        }
      ]
    },
    {
      "cell_type": "code",
      "source": [
        "t = tf.constant([[1, 1, 1],[2, 2, 2]],)\n",
        "tf.size(t)"
      ],
      "metadata": {
        "colab": {
          "base_uri": "https://localhost:8080/"
        },
        "id": "yhBt2gjzr1aK",
        "outputId": "0b997b6f-f974-4ab5-826f-f8ef8db7533f"
      },
      "execution_count": null,
      "outputs": [
        {
          "output_type": "execute_result",
          "data": {
            "text/plain": [
              "<tf.Tensor: shape=(), dtype=int32, numpy=6>"
            ]
          },
          "metadata": {},
          "execution_count": 60
        }
      ]
    },
    {
      "cell_type": "code",
      "source": [
        "t = tf.constant([[1, 1, 1],[2, 2, 2]],)\n",
        "tf.size(t, out_type= tf.float32)"
      ],
      "metadata": {
        "colab": {
          "base_uri": "https://localhost:8080/"
        },
        "id": "v8610rMRwNTn",
        "outputId": "2518e114-f88f-49f5-952f-f115618264ac"
      },
      "execution_count": null,
      "outputs": [
        {
          "output_type": "execute_result",
          "data": {
            "text/plain": [
              "<tf.Tensor: shape=(), dtype=float32, numpy=6.0>"
            ]
          },
          "metadata": {},
          "execution_count": 61
        }
      ]
    },
    {
      "cell_type": "code",
      "source": [
        "random_tensor = tf.random.normal(\n",
        "    [3, 2],\n",
        "    mean=0.0,\n",
        "    stddev=1.0,\n",
        "    dtype = tf.dtypes.float32,\n",
        "    seed = None,\n",
        "    name = None\n",
        ")\n",
        "print(random_tensor)"
      ],
      "metadata": {
        "colab": {
          "base_uri": "https://localhost:8080/"
        },
        "id": "NEsI08dFxGBG",
        "outputId": "2180ad2f-17db-4bf4-806d-26e5823e36ce"
      },
      "execution_count": null,
      "outputs": [
        {
          "output_type": "stream",
          "name": "stdout",
          "text": [
            "tf.Tensor(\n",
            "[[-0.79735166 -0.06911026]\n",
            " [ 1.9580196   2.2068725 ]\n",
            " [-1.57225    -0.6802045 ]], shape=(3, 2), dtype=float32)\n"
          ]
        }
      ]
    },
    {
      "cell_type": "code",
      "source": [
        "random_tensor = tf.random.normal(\n",
        "    [3, 2],\n",
        "    mean=100.0,\n",
        "    stddev=1.0,\n",
        "    dtype = tf.dtypes.float32,\n",
        "    seed = None,\n",
        "    name = None\n",
        ")\n",
        "print(random_tensor)"
      ],
      "metadata": {
        "colab": {
          "base_uri": "https://localhost:8080/"
        },
        "id": "go2VruuPyQvw",
        "outputId": "245231cb-6cbd-4ceb-f27c-537575c1e732"
      },
      "execution_count": null,
      "outputs": [
        {
          "output_type": "stream",
          "name": "stdout",
          "text": [
            "tf.Tensor(\n",
            "[[ 99.14281  100.16724 ]\n",
            " [100.7768   100.39339 ]\n",
            " [100.956154  99.813324]], shape=(3, 2), dtype=float32)\n"
          ]
        }
      ]
    },
    {
      "cell_type": "code",
      "source": [
        "#******************************************************************"
      ],
      "metadata": {
        "id": "VAXoVbDY-NR2"
      },
      "execution_count": null,
      "outputs": []
    },
    {
      "cell_type": "code",
      "source": [
        "random_tensor = tf.random.uniform(\n",
        "    [1,],\n",
        "    minval=0,\n",
        "    maxval=None,\n",
        "    dtype = tf.dtypes.float32,\n",
        "    seed = None,\n",
        "    name = None\n",
        ")\n",
        "print(random_tensor)"
      ],
      "metadata": {
        "colab": {
          "base_uri": "https://localhost:8080/"
        },
        "id": "lSJt-2P37Q0g",
        "outputId": "eca0faac-2ddf-4b6f-8e11-2805ef0091c4"
      },
      "execution_count": null,
      "outputs": [
        {
          "output_type": "stream",
          "name": "stdout",
          "text": [
            "tf.Tensor([0.65420914], shape=(1,), dtype=float32)\n"
          ]
        }
      ]
    },
    {
      "cell_type": "code",
      "source": [
        "random_tensor = tf.random.uniform(\n",
        "    [5,],\n",
        "    minval=0,\n",
        "    maxval=None,\n",
        "    dtype = tf.dtypes.float32,\n",
        "    seed = None,\n",
        "    name = None\n",
        ")\n",
        "print(random_tensor)"
      ],
      "metadata": {
        "colab": {
          "base_uri": "https://localhost:8080/"
        },
        "id": "36xjM4c49Wx-",
        "outputId": "1cbf6819-590c-46e0-a2b9-6035c0ac5c61"
      },
      "execution_count": null,
      "outputs": [
        {
          "output_type": "stream",
          "name": "stdout",
          "text": [
            "tf.Tensor([0.9576224  0.11179256 0.7101289  0.9860616  0.0040077 ], shape=(5,), dtype=float32)\n"
          ]
        }
      ]
    },
    {
      "cell_type": "code",
      "source": [
        "random_tensor = tf.random.uniform(\n",
        "    [5,],\n",
        "    minval=0,\n",
        "    maxval=8,\n",
        "    dtype = tf.dtypes.float32,\n",
        "    seed = None,\n",
        "    name = None\n",
        ")\n",
        "print(random_tensor)"
      ],
      "metadata": {
        "colab": {
          "base_uri": "https://localhost:8080/"
        },
        "id": "Wu-t7GHv9tYm",
        "outputId": "6d8d7604-ab0a-497f-ba92-2558bfd0132b"
      },
      "execution_count": null,
      "outputs": [
        {
          "output_type": "stream",
          "name": "stdout",
          "text": [
            "tf.Tensor([7.76073    6.3235664  4.5521536  0.00842476 5.1320686 ], shape=(5,), dtype=float32)\n"
          ]
        }
      ]
    },
    {
      "cell_type": "code",
      "source": [
        "random_tensor = tf.random.uniform(\n",
        "    [5,],\n",
        "    minval=0,\n",
        "    maxval=100,\n",
        "    dtype = tf.dtypes.float32,\n",
        "    seed = None,\n",
        "    name = None\n",
        ")\n",
        "print(random_tensor)"
      ],
      "metadata": {
        "colab": {
          "base_uri": "https://localhost:8080/"
        },
        "id": "kaNVXcLjCL1H",
        "outputId": "d050f419-4569-485d-a5be-97a5c7770c47"
      },
      "execution_count": null,
      "outputs": [
        {
          "output_type": "stream",
          "name": "stdout",
          "text": [
            "tf.Tensor([77.07161   81.161224   3.7303567 38.735546  55.350555 ], shape=(5,), dtype=float32)\n"
          ]
        }
      ]
    },
    {
      "cell_type": "code",
      "source": [
        "random_tensor = tf.random.uniform(\n",
        "    [5,],\n",
        "    minval=0,\n",
        "    maxval=1000,\n",
        "    dtype = tf.dtypes.int32,\n",
        "    seed = None,\n",
        "    name = None\n",
        ")\n",
        "print(random_tensor)"
      ],
      "metadata": {
        "colab": {
          "base_uri": "https://localhost:8080/"
        },
        "id": "y7anprXwC8a9",
        "outputId": "c50dedc9-ff72-4691-caf6-206d080a5236"
      },
      "execution_count": null,
      "outputs": [
        {
          "output_type": "stream",
          "name": "stdout",
          "text": [
            "tf.Tensor([479 423 212 912  89], shape=(5,), dtype=int32)\n"
          ]
        }
      ]
    },
    {
      "cell_type": "code",
      "source": [
        "random_tensor = tf.random.uniform(\n",
        "    [5,5],\n",
        "    minval=0,\n",
        "    maxval=1000,\n",
        "    dtype = tf.dtypes.int32,\n",
        "    seed = None,\n",
        "    name = None\n",
        ")\n",
        "print(random_tensor)"
      ],
      "metadata": {
        "colab": {
          "base_uri": "https://localhost:8080/"
        },
        "id": "U9X2v2OpDVGd",
        "outputId": "08802608-2a49-41a7-d9ea-2d4671dee71f"
      },
      "execution_count": null,
      "outputs": [
        {
          "output_type": "stream",
          "name": "stdout",
          "text": [
            "tf.Tensor(\n",
            "[[422  92 851  17 252]\n",
            " [ 58 110 476  36 509]\n",
            " [775 291 626 570 415]\n",
            " [243 620 182 428 690]\n",
            " [ 26  87 113 394 997]], shape=(5, 5), dtype=int32)\n"
          ]
        }
      ]
    },
    {
      "cell_type": "code",
      "source": [
        "tf.random.set_seed(5)\n",
        "print(tf.random.uniform(shape=[3,], maxval=5, dtype = tf.dtypes.int32, seed = 10))\n",
        "print(tf.random.uniform(shape=[3,], maxval=5, dtype = tf.dtypes.int32, seed = 10))\n",
        "print(tf.random.uniform(shape=[3,], maxval=5, dtype = tf.dtypes.int32, seed = 10))\n",
        "print(tf.random.uniform(shape=[3,], maxval=5, dtype = tf.dtypes.int32, seed = 10))"
      ],
      "metadata": {
        "colab": {
          "base_uri": "https://localhost:8080/"
        },
        "id": "CVLg-M33Fc_h",
        "outputId": "dd0fe08d-1c2f-4ec6-9e92-d797ec7829bb"
      },
      "execution_count": null,
      "outputs": [
        {
          "output_type": "stream",
          "name": "stdout",
          "text": [
            "tf.Tensor([4 3 1], shape=(3,), dtype=int32)\n",
            "tf.Tensor([4 3 2], shape=(3,), dtype=int32)\n",
            "tf.Tensor([1 1 1], shape=(3,), dtype=int32)\n",
            "tf.Tensor([1 3 3], shape=(3,), dtype=int32)\n"
          ]
        }
      ]
    },
    {
      "cell_type": "code",
      "source": [
        "tf.random.set_seed(5)\n",
        "print(tf.random.uniform(shape=[3,], maxval=5, dtype = tf.dtypes.int32, seed = 10))\n",
        "print(tf.random.uniform(shape=[3,], maxval=5, dtype = tf.dtypes.int32, seed = 10))\n",
        "print(tf.random.uniform(shape=[3,], maxval=5, dtype = tf.dtypes.int32, seed = 10))\n",
        "print(tf.random.uniform(shape=[3,], maxval=5, dtype = tf.dtypes.int32, seed = 10))"
      ],
      "metadata": {
        "colab": {
          "base_uri": "https://localhost:8080/"
        },
        "id": "KtXAgmzkGwsX",
        "outputId": "275a73e6-0b07-4010-bd59-07997115f1b4"
      },
      "execution_count": null,
      "outputs": [
        {
          "output_type": "stream",
          "name": "stdout",
          "text": [
            "tf.Tensor([4 3 1], shape=(3,), dtype=int32)\n",
            "tf.Tensor([4 3 2], shape=(3,), dtype=int32)\n",
            "tf.Tensor([1 1 1], shape=(3,), dtype=int32)\n",
            "tf.Tensor([1 3 3], shape=(3,), dtype=int32)\n"
          ]
        }
      ]
    },
    {
      "cell_type": "code",
      "source": [
        "tf.random.set_seed(5)\n",
        "print(tf.random.uniform(shape=[3,], maxval=5, dtype = tf.dtypes.int32, seed = 10))\n",
        "print(tf.random.uniform(shape=[3,], maxval=5, dtype = tf.dtypes.int32, seed = 10))\n",
        "print(tf.random.uniform(shape=[3,], maxval=5, dtype = tf.dtypes.int32, seed = 10))\n",
        "print(tf.random.uniform(shape=[3,], maxval=5, dtype = tf.dtypes.int32, seed = 1))"
      ],
      "metadata": {
        "colab": {
          "base_uri": "https://localhost:8080/"
        },
        "id": "taF0TpA0d_fq",
        "outputId": "77ed5110-9d65-440d-d4ad-e2420eba60f0"
      },
      "execution_count": null,
      "outputs": [
        {
          "output_type": "stream",
          "name": "stdout",
          "text": [
            "tf.Tensor([4 3 1], shape=(3,), dtype=int32)\n",
            "tf.Tensor([4 3 2], shape=(3,), dtype=int32)\n",
            "tf.Tensor([1 1 1], shape=(3,), dtype=int32)\n",
            "tf.Tensor([4 1 3], shape=(3,), dtype=int32)\n"
          ]
        }
      ]
    },
    {
      "cell_type": "code",
      "source": [
        "print(tf.random.uniform(shape=[3,], maxval=5, dtype = tf.dtypes.int32, seed = 10))\n",
        "print(tf.random.uniform(shape=[3,], maxval=5, dtype = tf.dtypes.int32, seed = 10))\n",
        "print(tf.random.uniform(shape=[3,], maxval=5, dtype = tf.dtypes.int32, seed = 10))\n",
        "print(tf.random.uniform(shape=[3,], maxval=5, dtype = tf.dtypes.int32, seed = 10))"
      ],
      "metadata": {
        "colab": {
          "base_uri": "https://localhost:8080/"
        },
        "id": "9YME--0PIBlE",
        "outputId": "0c54eff8-d663-4a26-b283-add4a61a71a0"
      },
      "execution_count": null,
      "outputs": [
        {
          "output_type": "stream",
          "name": "stdout",
          "text": [
            "tf.Tensor([4 2 2], shape=(3,), dtype=int32)\n",
            "tf.Tensor([4 2 1], shape=(3,), dtype=int32)\n",
            "tf.Tensor([4 1 0], shape=(3,), dtype=int32)\n",
            "tf.Tensor([1 2 1], shape=(3,), dtype=int32)\n"
          ]
        }
      ]
    },
    {
      "cell_type": "code",
      "source": [
        "tensor_indexed = tf.constant([3, 6, 2, 4, 6, 66, 7])\n",
        "print(tensor_indexed)\n",
        "print(tensor_indexed[:])\n",
        "print(tensor_indexed[0:4])\n",
        "print(tensor_indexed[:4])\n",
        "print(tensor_indexed[3:])\n",
        "print(tensor_indexed[3:-1])\n",
        "print(tensor_indexed[3:-3])\n",
        "print(tensor_indexed[3:-4])\n",
        "print(tensor_indexed[0:5])\n",
        "print(tensor_indexed[0:5+1])\n",
        "print(tensor_indexed[0:6])\n",
        "print(tensor_indexed[0:6:2])"
      ],
      "metadata": {
        "colab": {
          "base_uri": "https://localhost:8080/"
        },
        "id": "5zsH6eHFePuO",
        "outputId": "c8ff3128-b29e-4284-cb4e-17ce88ce7cee"
      },
      "execution_count": null,
      "outputs": [
        {
          "output_type": "stream",
          "name": "stdout",
          "text": [
            "tf.Tensor([ 3  6  2  4  6 66  7], shape=(7,), dtype=int32)\n",
            "tf.Tensor([ 3  6  2  4  6 66  7], shape=(7,), dtype=int32)\n",
            "tf.Tensor([3 6 2 4], shape=(4,), dtype=int32)\n",
            "tf.Tensor([3 6 2 4], shape=(4,), dtype=int32)\n",
            "tf.Tensor([ 4  6 66  7], shape=(4,), dtype=int32)\n",
            "tf.Tensor([ 4  6 66], shape=(3,), dtype=int32)\n",
            "tf.Tensor([4], shape=(1,), dtype=int32)\n",
            "tf.Tensor([], shape=(0,), dtype=int32)\n",
            "tf.Tensor([3 6 2 4 6], shape=(5,), dtype=int32)\n",
            "tf.Tensor([ 3  6  2  4  6 66], shape=(6,), dtype=int32)\n",
            "tf.Tensor([ 3  6  2  4  6 66], shape=(6,), dtype=int32)\n",
            "tf.Tensor([3 2 6], shape=(3,), dtype=int32)\n"
          ]
        }
      ]
    },
    {
      "cell_type": "code",
      "source": [
        "tf.range(2,6)"
      ],
      "metadata": {
        "colab": {
          "base_uri": "https://localhost:8080/"
        },
        "id": "XX7LGRgQg3qM",
        "outputId": "9c8ab80b-1b51-4e43-f89a-7eb3751732a9"
      },
      "execution_count": null,
      "outputs": [
        {
          "output_type": "execute_result",
          "data": {
            "text/plain": [
              "<tf.Tensor: shape=(4,), dtype=int32, numpy=array([2, 3, 4, 5], dtype=int32)>"
            ]
          },
          "metadata": {},
          "execution_count": 7
        }
      ]
    },
    {
      "cell_type": "code",
      "source": [
        "tensor_two_d= tf.constant([\n",
        "    [1, 2, 0],\n",
        "    [3, 5, -1],\n",
        "    [1, 5, 6],\n",
        "    [2, 3, 8],\n",
        "])\n",
        "print(tensor_two_d[0:3,0:2])\n",
        "print(\"*********************************************************\")\n",
        "print(tensor_two_d[0:3,:])\n",
        "print(\"*********************************************************\")\n",
        "print(tensor_two_d[2,:])\n",
        "print(\"*********************************************************\")\n",
        "print(tensor_two_d[2,0])\n",
        "print(\"*********************************************************\")\n",
        "print(tensor_two_d[2,1:])\n",
        "print(\"*********************************************************\")\n",
        "print(tensor_two_d[:,0])\n",
        "print(\"*********************************************************\")\n",
        "print(tensor_two_d[1:3,0])\n",
        "print(\"*********************************************************\")\n",
        "print(tensor_two_d[:,1])\n",
        "print(\"*********************************************************\")\n",
        "print(tensor_two_d[...,1])"
      ],
      "metadata": {
        "colab": {
          "base_uri": "https://localhost:8080/"
        },
        "id": "PA8B0OdNILbr",
        "outputId": "2aeed0b8-12a6-4845-8d02-55ca9dcff778"
      },
      "execution_count": null,
      "outputs": [
        {
          "output_type": "stream",
          "name": "stdout",
          "text": [
            "tf.Tensor(\n",
            "[[1 2]\n",
            " [3 5]\n",
            " [1 5]], shape=(3, 2), dtype=int32)\n",
            "*********************************************************\n",
            "tf.Tensor(\n",
            "[[ 1  2  0]\n",
            " [ 3  5 -1]\n",
            " [ 1  5  6]], shape=(3, 3), dtype=int32)\n",
            "*********************************************************\n",
            "tf.Tensor([1 5 6], shape=(3,), dtype=int32)\n",
            "*********************************************************\n",
            "tf.Tensor(1, shape=(), dtype=int32)\n",
            "*********************************************************\n",
            "tf.Tensor([5 6], shape=(2,), dtype=int32)\n",
            "*********************************************************\n",
            "tf.Tensor([1 3 1 2], shape=(4,), dtype=int32)\n",
            "*********************************************************\n",
            "tf.Tensor([3 1], shape=(2,), dtype=int32)\n",
            "*********************************************************\n",
            "tf.Tensor([2 5 5 3], shape=(4,), dtype=int32)\n",
            "*********************************************************\n",
            "tf.Tensor([2 5 5 3], shape=(4,), dtype=int32)\n"
          ]
        }
      ]
    },
    {
      "cell_type": "code",
      "source": [
        "tensor_three_d= tf.constant(\n",
        "                             [[[1, 2, 0],\n",
        "                             [3, 5, -1]],\n",
        "\n",
        "                             [[10, 2, 0],\n",
        "                               [1, 0, 2]],\n",
        "\n",
        "                            [[5, 8, 0],\n",
        "                              [2, 7, 0]],\n",
        "\n",
        "                            [[2, 1, 9],\n",
        "                             [4, -3, 32]],\n",
        "])\n",
        "print(tensor_three_d[ 0, :, :])\n",
        "print(\"*********************************************************\")\n",
        "print(tensor_three_d[ 0, 0, :])\n",
        "print(\"*********************************************************\")\n",
        "print(tensor_three_d[ 0, :, -1])\n",
        "print(\"*********************************************************\")\n",
        "print(tensor_three_d[ 0, :, 2])\n",
        "print(\"*********************************************************\")\n",
        "print(tensor_three_d[ 0:2, :, 2])\n",
        "print(\"*********************************************************\")\n",
        "print(tensor_three_d[ 0:2, ..., 2])\n",
        "print(\"*********************************************************\")\n",
        "print(tensor_three_d[ ..., :, 2])"
      ],
      "metadata": {
        "colab": {
          "base_uri": "https://localhost:8080/"
        },
        "id": "zwJ4ho_zpBGj",
        "outputId": "af62a05e-af0e-41eb-fe32-2a4f0413be0a"
      },
      "execution_count": 6,
      "outputs": [
        {
          "output_type": "stream",
          "name": "stdout",
          "text": [
            "tf.Tensor(\n",
            "[[ 1  2  0]\n",
            " [ 3  5 -1]], shape=(2, 3), dtype=int32)\n",
            "*********************************************************\n",
            "tf.Tensor([1 2 0], shape=(3,), dtype=int32)\n",
            "*********************************************************\n",
            "tf.Tensor([ 0 -1], shape=(2,), dtype=int32)\n",
            "*********************************************************\n",
            "tf.Tensor([ 0 -1], shape=(2,), dtype=int32)\n",
            "*********************************************************\n",
            "tf.Tensor(\n",
            "[[ 0 -1]\n",
            " [ 0  2]], shape=(2, 2), dtype=int32)\n",
            "*********************************************************\n",
            "tf.Tensor(\n",
            "[[ 0 -1]\n",
            " [ 0  2]], shape=(2, 2), dtype=int32)\n",
            "*********************************************************\n",
            "tf.Tensor(\n",
            "[[ 0 -1]\n",
            " [ 0  2]\n",
            " [ 0  0]\n",
            " [ 9 32]], shape=(4, 2), dtype=int32)\n"
          ]
        }
      ]
    },
    {
      "cell_type": "code",
      "source": [
        "x_abs = tf.constant([-2.25, 3.25])\n",
        "tf.abs(x_abs)"
      ],
      "metadata": {
        "colab": {
          "base_uri": "https://localhost:8080/"
        },
        "id": "Ap6QsCqTtRcI",
        "outputId": "bf959d4b-f4ae-4b3e-9c43-3b76ef4182d9"
      },
      "execution_count": 7,
      "outputs": [
        {
          "output_type": "execute_result",
          "data": {
            "text/plain": [
              "<tf.Tensor: shape=(2,), dtype=float32, numpy=array([2.25, 3.25], dtype=float32)>"
            ]
          },
          "metadata": {},
          "execution_count": 7
        }
      ]
    },
    {
      "cell_type": "code",
      "source": [
        "tf.abs(tf.constant(0.2))"
      ],
      "metadata": {
        "colab": {
          "base_uri": "https://localhost:8080/"
        },
        "id": "27XFOcgbt7u-",
        "outputId": "c712539f-c90c-449c-a816-f4ced24b98ff"
      },
      "execution_count": 9,
      "outputs": [
        {
          "output_type": "execute_result",
          "data": {
            "text/plain": [
              "<tf.Tensor: shape=(), dtype=float32, numpy=0.20000000298023224>"
            ]
          },
          "metadata": {},
          "execution_count": 9
        }
      ]
    },
    {
      "cell_type": "code",
      "source": [
        "tf.abs(tf.constant(-0.2))"
      ],
      "metadata": {
        "colab": {
          "base_uri": "https://localhost:8080/"
        },
        "id": "9HtV3pTluxhs",
        "outputId": "6ee65c98-f144-4878-ec4f-9f0b57e3ce12"
      },
      "execution_count": 10,
      "outputs": [
        {
          "output_type": "execute_result",
          "data": {
            "text/plain": [
              "<tf.Tensor: shape=(), dtype=float32, numpy=0.20000000298023224>"
            ]
          },
          "metadata": {},
          "execution_count": 10
        }
      ]
    },
    {
      "cell_type": "code",
      "source": [
        "x_abs_complex = tf.constant([-2.25 + 4.75j])\n",
        "tf.abs(x_abs_complex)"
      ],
      "metadata": {
        "colab": {
          "base_uri": "https://localhost:8080/"
        },
        "id": "Ye52jy-JvFNz",
        "outputId": "02d9523c-c12c-4c15-8785-84da0965ca5d"
      },
      "execution_count": 11,
      "outputs": [
        {
          "output_type": "execute_result",
          "data": {
            "text/plain": [
              "<tf.Tensor: shape=(1,), dtype=float64, numpy=array([5.25594901])>"
            ]
          },
          "metadata": {},
          "execution_count": 11
        }
      ]
    },
    {
      "cell_type": "code",
      "source": [
        "tf.sqrt((-2.25)**2 + 4.75**2)"
      ],
      "metadata": {
        "colab": {
          "base_uri": "https://localhost:8080/"
        },
        "id": "HxvXrfImvpid",
        "outputId": "25a01d1c-ba28-4fa4-8587-ea8fa0a46884"
      },
      "execution_count": 12,
      "outputs": [
        {
          "output_type": "execute_result",
          "data": {
            "text/plain": [
              "<tf.Tensor: shape=(), dtype=float32, numpy=5.255949020385742>"
            ]
          },
          "metadata": {},
          "execution_count": 12
        }
      ]
    },
    {
      "cell_type": "code",
      "source": [
        "x_1 = tf.constant([5, 3, 6, 6, 4, 6], dtype = tf.int32)\n",
        "x_2 = tf.constant([7, 6, 2, 6, 7, 11], dtype = tf.int32)\n",
        "print(tf.add(x_1,x_2))\n",
        "print(tf.multiply(x_1,x_2))\n",
        "print(tf.subtract(x_1,x_2))\n",
        "print(tf.divide(x_1,x_2))"
      ],
      "metadata": {
        "colab": {
          "base_uri": "https://localhost:8080/"
        },
        "id": "rkrSZuZTwGTf",
        "outputId": "3d0c150d-73b4-4d0d-e769-5b778b026843"
      },
      "execution_count": 17,
      "outputs": [
        {
          "output_type": "stream",
          "name": "stdout",
          "text": [
            "tf.Tensor([12  9  8 12 11 17], shape=(6,), dtype=int32)\n",
            "tf.Tensor([35 18 12 36 28 66], shape=(6,), dtype=int32)\n",
            "tf.Tensor([-2 -3  4  0 -3 -5], shape=(6,), dtype=int32)\n",
            "tf.Tensor([0.71428571 0.5        3.         1.         0.57142857 0.54545455], shape=(6,), dtype=float64)\n"
          ]
        }
      ]
    },
    {
      "cell_type": "code",
      "source": [
        "x_1 = tf.constant([5, 3, 6, 6, 4, 6], dtype = tf.float32)\n",
        "x_2 = tf.constant([7, 6, 2, 6, 0, 11], dtype = tf.float32)\n",
        "print(tf.divide(x_1,x_2))\n",
        "print(tf.math.divide_no_nan(x_1,x_2))"
      ],
      "metadata": {
        "colab": {
          "base_uri": "https://localhost:8080/"
        },
        "id": "_W1pCgG5zTHP",
        "outputId": "dd02f63d-382f-444a-d848-071be78bb9f5"
      },
      "execution_count": 20,
      "outputs": [
        {
          "output_type": "stream",
          "name": "stdout",
          "text": [
            "tf.Tensor([0.71428573 0.5        3.         1.                inf 0.54545456], shape=(6,), dtype=float32)\n",
            "tf.Tensor([0.71428573 0.5        3.         1.         0.         0.54545456], shape=(6,), dtype=float32)\n"
          ]
        }
      ]
    },
    {
      "cell_type": "code",
      "source": [
        "x_1 = tf.constant([5, 3, 6, 6, 4, 6], dtype = tf.float32)\n",
        "x_2 = tf.constant([7], dtype = tf.float32)\n",
        "x_2_streched = tf.constant([7, 7, 7, 7, 7, 7], dtype = tf.float32)\n",
        "print(tf.add(x_1,x_2))\n",
        "print(tf.add(x_1,x_2_streched))"
      ],
      "metadata": {
        "colab": {
          "base_uri": "https://localhost:8080/"
        },
        "id": "D1LStqDP0zQ8",
        "outputId": "0333c9db-9353-4bd0-8da3-d87253436143"
      },
      "execution_count": 22,
      "outputs": [
        {
          "output_type": "stream",
          "name": "stdout",
          "text": [
            "tf.Tensor([12. 10. 13. 13. 11. 13.], shape=(6,), dtype=float32)\n",
            "tf.Tensor([12. 10. 13. 13. 11. 13.], shape=(6,), dtype=float32)\n"
          ]
        }
      ]
    },
    {
      "cell_type": "code",
      "source": [
        "x_1 = tf.constant([[5, 3, 6, 6, 4, 6], [5, 45, 65, 5, 53, 4]], dtype = tf.float32)\n",
        "x_2 = tf.constant([7], dtype = tf.float32)\n",
        "x_2_streched = tf.constant([7, 7, 7, 7, 7, 7], dtype = tf.float32)\n",
        "print(tf.add(x_1,x_2))\n",
        "print(tf.add(x_1,x_2_streched))\n",
        "print(\"*****************************************************************************\")\n",
        "print(tf.multiply(x_1,x_2))"
      ],
      "metadata": {
        "colab": {
          "base_uri": "https://localhost:8080/"
        },
        "id": "uYSvqrQ81Ceg",
        "outputId": "a14c78f0-6e38-41a6-882e-1a5da8d126fd"
      },
      "execution_count": 24,
      "outputs": [
        {
          "output_type": "stream",
          "name": "stdout",
          "text": [
            "tf.Tensor(\n",
            "[[12. 10. 13. 13. 11. 13.]\n",
            " [12. 52. 72. 12. 60. 11.]], shape=(2, 6), dtype=float32)\n",
            "tf.Tensor(\n",
            "[[12. 10. 13. 13. 11. 13.]\n",
            " [12. 52. 72. 12. 60. 11.]], shape=(2, 6), dtype=float32)\n",
            "*****************************************************************************\n",
            "tf.Tensor(\n",
            "[[ 35.  21.  42.  42.  28.  42.]\n",
            " [ 35. 315. 455.  35. 371.  28.]], shape=(2, 6), dtype=float32)\n"
          ]
        }
      ]
    },
    {
      "cell_type": "code",
      "source": [
        "x_1 = tf.constant([[5, 3, 6, 6, 4, 6],], dtype = tf.float32)\n",
        "x_2 = tf.constant([7], dtype = tf.float32)\n",
        "x_2_streched = tf.constant([7, 7, 7, 7, 7, 7], dtype = tf.float32)\n",
        "print(tf.add(x_1,x_2))\n",
        "print(tf.add(x_1,x_2_streched))"
      ],
      "metadata": {
        "colab": {
          "base_uri": "https://localhost:8080/"
        },
        "id": "sRRiygHT2dr_",
        "outputId": "e4d23acc-81b0-4dee-b6d2-e3767c4038db"
      },
      "execution_count": 25,
      "outputs": [
        {
          "output_type": "stream",
          "name": "stdout",
          "text": [
            "tf.Tensor([[12. 10. 13. 13. 11. 13.]], shape=(1, 6), dtype=float32)\n",
            "tf.Tensor([[12. 10. 13. 13. 11. 13.]], shape=(1, 6), dtype=float32)\n"
          ]
        }
      ]
    },
    {
      "cell_type": "code",
      "source": [
        "x_1 = tf.constant([[5, 3, 6, 6, 4, 6],], dtype = tf.float32)\n",
        "x_2 = tf.constant([[7], [5], [3]], dtype = tf.float32)\n",
        "print(tf.add(x_1,x_2))\n",
        "print(tf.add(x_1,x_2_streched))"
      ],
      "metadata": {
        "colab": {
          "base_uri": "https://localhost:8080/"
        },
        "id": "RZBiRXxg2n25",
        "outputId": "ee2ed180-6a05-464f-a60d-b7db2ab41bb2"
      },
      "execution_count": 26,
      "outputs": [
        {
          "output_type": "stream",
          "name": "stdout",
          "text": [
            "tf.Tensor(\n",
            "[[12. 10. 13. 13. 11. 13.]\n",
            " [10.  8. 11. 11.  9. 11.]\n",
            " [ 8.  6.  9.  9.  7.  9.]], shape=(3, 6), dtype=float32)\n",
            "tf.Tensor([[12. 10. 13. 13. 11. 13.]], shape=(1, 6), dtype=float32)\n"
          ]
        }
      ]
    },
    {
      "cell_type": "code",
      "source": [
        "x_1 = tf.constant([[5, 3, 6, 6, 4, 6],], dtype = tf.float32)\n",
        "x_2 = tf.constant([[7], [5], [3]], dtype = tf.float32)\n",
        "print(x_1.shape)\n",
        "print(x_2.shape)\n",
        "print(tf.add(x_1,x_2))"
      ],
      "metadata": {
        "colab": {
          "base_uri": "https://localhost:8080/"
        },
        "id": "0OLr_MQd3aAr",
        "outputId": "a8fc6f61-f8af-4be8-8e9a-086ce6556e25"
      },
      "execution_count": 28,
      "outputs": [
        {
          "output_type": "stream",
          "name": "stdout",
          "text": [
            "(1, 6)\n",
            "(3, 1)\n",
            "tf.Tensor(\n",
            "[[12. 10. 13. 13. 11. 13.]\n",
            " [10.  8. 11. 11.  9. 11.]\n",
            " [ 8.  6.  9.  9.  7.  9.]], shape=(3, 6), dtype=float32)\n"
          ]
        }
      ]
    },
    {
      "cell_type": "code",
      "source": [
        "x_argmax = tf.constant([[2, 20, 30, 3, 6],\n",
        "                        [3, 11, 16, 1, 8],\n",
        "                        [14, 45, 23, 5, 27]],)\n",
        "print(x_argmax.shape)\n",
        "print(tf.math.argmax(x_argmax, 0)) #find max in columns #0 means in other dimention (means column not row)\n",
        "print(tf.math.argmin(x_argmax, 0))\n",
        "print(\"*****************************************************************************\")\n",
        "print(tf.math.argmax(x_argmax, 1))#find max in rows\n",
        "print(tf.math.argmin(x_argmax, 1))"
      ],
      "metadata": {
        "colab": {
          "base_uri": "https://localhost:8080/"
        },
        "id": "3aZhy3o_4sIe",
        "outputId": "d61ca28c-162b-4ab1-eb74-a3bb628a099f"
      },
      "execution_count": 39,
      "outputs": [
        {
          "output_type": "stream",
          "name": "stdout",
          "text": [
            "(3, 5)\n",
            "tf.Tensor([2 2 0 2 2], shape=(5,), dtype=int64)\n",
            "tf.Tensor([0 1 1 1 0], shape=(5,), dtype=int64)\n",
            "*****************************************************************************\n",
            "tf.Tensor([2 2 1], shape=(3,), dtype=int64)\n",
            "tf.Tensor([0 3 3], shape=(3,), dtype=int64)\n"
          ]
        }
      ]
    },
    {
      "cell_type": "code",
      "source": [
        "x_argmax = tf.constant([2, 20, 30, 3, 6])\n",
        "print(tf.math.argmax(x_argmax)) #index of max value\n",
        "print(tf.math.argmin(x_argmax)) #index of min value"
      ],
      "metadata": {
        "colab": {
          "base_uri": "https://localhost:8080/"
        },
        "id": "MbWvqoYn5tdx",
        "outputId": "fde9f273-590f-468c-c90f-f8f0e848a842"
      },
      "execution_count": 33,
      "outputs": [
        {
          "output_type": "stream",
          "name": "stdout",
          "text": [
            "tf.Tensor(2, shape=(), dtype=int64)\n",
            "tf.Tensor(0, shape=(), dtype=int64)\n"
          ]
        }
      ]
    },
    {
      "cell_type": "code",
      "source": [
        "x_argmax = tf.constant([200, 120, 130, 3, 6])\n",
        "print(tf.math.argmax(x_argmax))\n",
        "print(tf.math.argmin(x_argmax))"
      ],
      "metadata": {
        "colab": {
          "base_uri": "https://localhost:8080/"
        },
        "id": "63sQ076M6KHr",
        "outputId": "fabe482c-0938-4522-85e9-d8edd1c95148"
      },
      "execution_count": 34,
      "outputs": [
        {
          "output_type": "stream",
          "name": "stdout",
          "text": [
            "tf.Tensor(0, shape=(), dtype=int64)\n",
            "tf.Tensor(3, shape=(), dtype=int64)\n"
          ]
        }
      ]
    },
    {
      "cell_type": "code",
      "source": [
        "x_argmax = tf.constant([200, 120, 130, 300, 6])\n",
        "print(tf.math.argmax(x_argmax))\n",
        "print(tf.math.argmin(x_argmax))"
      ],
      "metadata": {
        "colab": {
          "base_uri": "https://localhost:8080/"
        },
        "id": "MW_cHoLW6eKq",
        "outputId": "382d8a27-91e0-4381-cdd0-43cc0f35132b"
      },
      "execution_count": 35,
      "outputs": [
        {
          "output_type": "stream",
          "name": "stdout",
          "text": [
            "tf.Tensor(3, shape=(), dtype=int64)\n",
            "tf.Tensor(4, shape=(), dtype=int64)\n"
          ]
        }
      ]
    },
    {
      "cell_type": "code",
      "source": [
        "x = tf.constant([[2, 2], [3, 3]])\n",
        "y = tf.constant([[3, 0], [1, 4]])\n",
        "tf.pow(x,y)"
      ],
      "metadata": {
        "colab": {
          "base_uri": "https://localhost:8080/"
        },
        "id": "-tXzJiu79wbj",
        "outputId": "269534c3-0e89-463a-f5c8-21bbb84546f8"
      },
      "execution_count": 40,
      "outputs": [
        {
          "output_type": "execute_result",
          "data": {
            "text/plain": [
              "<tf.Tensor: shape=(2, 2), dtype=int32, numpy=\n",
              "array([[ 8,  1],\n",
              "       [ 3, 81]], dtype=int32)>"
            ]
          },
          "metadata": {},
          "execution_count": 40
        }
      ]
    },
    {
      "cell_type": "code",
      "source": [
        "tf.pow(tf.constant(2),tf.constant(3))"
      ],
      "metadata": {
        "colab": {
          "base_uri": "https://localhost:8080/"
        },
        "id": "7hE1LNsrEa8V",
        "outputId": "970b5a57-38cd-4bc6-9b9e-4ce54d50db0c"
      },
      "execution_count": 41,
      "outputs": [
        {
          "output_type": "execute_result",
          "data": {
            "text/plain": [
              "<tf.Tensor: shape=(), dtype=int32, numpy=8>"
            ]
          },
          "metadata": {},
          "execution_count": 41
        }
      ]
    },
    {
      "cell_type": "code",
      "source": [
        "tensor_two_d= tf.constant([\n",
        "    [1, 2, 0],\n",
        "    [3, 5, -1],\n",
        "    [1, 5, 6],\n",
        "    [2, 3, 8],\n",
        "])\n",
        "#axis=0 row       axis=1 column\n",
        "print(tensor_two_d.shape)\n",
        "print(tf.math.reduce_sum(tensor_two_d, axis=None, keepdims=False, name=None)) #sum all elements\n",
        "print(tf.math.reduce_max(tensor_two_d, axis=None, keepdims=False, name=None)) #just show max\n",
        "print(tf.math.reduce_sum(tensor_two_d, axis=0, keepdims=False, name=None)) #sum each column\n",
        "print(tf.math.reduce_sum(tensor_two_d, axis=1, keepdims=False, name=None)) #sum each row\n",
        "print(tf.math.reduce_max(tensor_two_d, axis=1, keepdims=False, name=None))\n",
        "print(tf.math.reduce_mean(tensor_two_d, axis=1, keepdims=False, name=None))\n",
        "print(tf.math.reduce_mean(tensor_two_d, axis=0, keepdims=False, name=None))"
      ],
      "metadata": {
        "colab": {
          "base_uri": "https://localhost:8080/"
        },
        "id": "Bi6cR8VGFVrE",
        "outputId": "02fcd883-d7c9-47fb-ff54-c074147cc6e8"
      },
      "execution_count": 49,
      "outputs": [
        {
          "output_type": "stream",
          "name": "stdout",
          "text": [
            "(4, 3)\n",
            "tf.Tensor(35, shape=(), dtype=int32)\n",
            "tf.Tensor(8, shape=(), dtype=int32)\n",
            "tf.Tensor([ 7 15 13], shape=(3,), dtype=int32)\n",
            "tf.Tensor([ 3  7 12 13], shape=(4,), dtype=int32)\n",
            "tf.Tensor([2 5 6 8], shape=(4,), dtype=int32)\n",
            "tf.Tensor([1 2 4 4], shape=(4,), dtype=int32)\n",
            "tf.Tensor([1 3 3], shape=(3,), dtype=int32)\n"
          ]
        }
      ]
    },
    {
      "cell_type": "code",
      "source": [
        "tensor_two_d= tf.constant([\n",
        "    [1, 2, 0],\n",
        "    [3, 5, -1],\n",
        "    [1, 5, 6],\n",
        "    [2, 3, 8],\n",
        "], dtype= tf.float16)\n",
        "print(tf.math.reduce_mean(tensor_two_d, axis=0, keepdims=False, name=None))\n",
        "print(tf.math.reduce_std(tensor_two_d, axis=0, keepdims=False, name=None))\n",
        "print(tf.math.reduce_std(tensor_two_d, axis=0, keepdims=True, name=None))"
      ],
      "metadata": {
        "colab": {
          "base_uri": "https://localhost:8080/"
        },
        "id": "2JkkfQoYNmAd",
        "outputId": "4020d60f-a21a-41c9-9a36-da25c9d29c09"
      },
      "execution_count": 52,
      "outputs": [
        {
          "output_type": "stream",
          "name": "stdout",
          "text": [
            "tf.Tensor([1.75 3.75 3.25], shape=(3,), dtype=float16)\n",
            "tf.Tensor([0.829 1.299 3.832], shape=(3,), dtype=float16)\n",
            "tf.Tensor([[0.829 1.299 3.832]], shape=(1, 3), dtype=float16)\n"
          ]
        }
      ]
    },
    {
      "cell_type": "code",
      "source": [
        "tf.math.top_k(tensor_two_d, k=1)"
      ],
      "metadata": {
        "colab": {
          "base_uri": "https://localhost:8080/"
        },
        "id": "IxHsfS1UOrjp",
        "outputId": "4161f653-f766-4f63-ad6a-23f71d468c9b"
      },
      "execution_count": 53,
      "outputs": [
        {
          "output_type": "execute_result",
          "data": {
            "text/plain": [
              "TopKV2(values=<tf.Tensor: shape=(4, 1), dtype=float16, numpy=\n",
              "array([[2.],\n",
              "       [5.],\n",
              "       [6.],\n",
              "       [8.]], dtype=float16)>, indices=<tf.Tensor: shape=(4, 1), dtype=int32, numpy=\n",
              "array([[1],\n",
              "       [1],\n",
              "       [2],\n",
              "       [2]], dtype=int32)>)"
            ]
          },
          "metadata": {},
          "execution_count": 53
        }
      ]
    },
    {
      "cell_type": "code",
      "source": [
        "tf.math.top_k(tensor_two_d, k=2)"
      ],
      "metadata": {
        "colab": {
          "base_uri": "https://localhost:8080/"
        },
        "id": "KOpiDIklPKOW",
        "outputId": "7e6b5875-8c7b-43d6-f79f-498488c9c15d"
      },
      "execution_count": 54,
      "outputs": [
        {
          "output_type": "execute_result",
          "data": {
            "text/plain": [
              "TopKV2(values=<tf.Tensor: shape=(4, 2), dtype=float16, numpy=\n",
              "array([[2., 1.],\n",
              "       [5., 3.],\n",
              "       [6., 5.],\n",
              "       [8., 3.]], dtype=float16)>, indices=<tf.Tensor: shape=(4, 2), dtype=int32, numpy=\n",
              "array([[1, 0],\n",
              "       [1, 0],\n",
              "       [2, 1],\n",
              "       [2, 1]], dtype=int32)>)"
            ]
          },
          "metadata": {},
          "execution_count": 54
        }
      ]
    },
    {
      "cell_type": "code",
      "source": [
        "x_1 = tf.constant([\n",
        "    [1, 2, 0],\n",
        "    [3, 5, -1]\n",
        "])\n",
        "\n",
        "x_2 = tf.constant([\n",
        "    [1, 2, 0],\n",
        "    [3, 5, -1],\n",
        "    [4, 5, 6]\n",
        "])\n",
        "print(x_1.shape, x_2.shape)\n",
        "\n",
        "#zarb\n",
        "tf.linalg.matmul(\n",
        "    x_1, x_2, transpose_a=False, transpose_b=False, adjoint_a=False, adjoint_b=False, a_is_sparse=False, b_is_sparse=False, output_type=None, name=None\n",
        ")"
      ],
      "metadata": {
        "colab": {
          "base_uri": "https://localhost:8080/"
        },
        "id": "2Jr77rWcP110",
        "outputId": "eaedc208-948c-4c1e-a5a4-3040906a46de"
      },
      "execution_count": 57,
      "outputs": [
        {
          "output_type": "stream",
          "name": "stdout",
          "text": [
            "(2, 3) (3, 3)\n"
          ]
        },
        {
          "output_type": "execute_result",
          "data": {
            "text/plain": [
              "<tf.Tensor: shape=(2, 3), dtype=int32, numpy=\n",
              "array([[  7,  12,  -2],\n",
              "       [ 14,  26, -11]], dtype=int32)>"
            ]
          },
          "metadata": {},
          "execution_count": 57
        }
      ]
    },
    {
      "cell_type": "code",
      "source": [
        "x_1 = tf.constant([\n",
        "    [1, 2, 0],\n",
        "    [3, 5, -1]\n",
        "])\n",
        "\n",
        "x_2 = tf.constant([\n",
        "    [1, 2, 0, 2],\n",
        "    [3, 5, -1, 2],\n",
        "    [4, 5, 6, 0]\n",
        "])\n",
        "print(x_1.shape, x_2.shape)\n",
        "\n",
        "#zarb\n",
        "tf.linalg.matmul(\n",
        "    x_1, x_2, transpose_a=False, transpose_b=False, adjoint_a=False, adjoint_b=False, a_is_sparse=False, b_is_sparse=False, output_type=None, name=None\n",
        ")"
      ],
      "metadata": {
        "colab": {
          "base_uri": "https://localhost:8080/"
        },
        "id": "q6GOJIKAR35C",
        "outputId": "0f745d16-3f78-4a8b-9d24-955b196d92b8"
      },
      "execution_count": 58,
      "outputs": [
        {
          "output_type": "stream",
          "name": "stdout",
          "text": [
            "(2, 3) (3, 4)\n"
          ]
        },
        {
          "output_type": "execute_result",
          "data": {
            "text/plain": [
              "<tf.Tensor: shape=(2, 4), dtype=int32, numpy=\n",
              "array([[  7,  12,  -2,   6],\n",
              "       [ 14,  26, -11,  16]], dtype=int32)>"
            ]
          },
          "metadata": {},
          "execution_count": 58
        }
      ]
    },
    {
      "cell_type": "code",
      "source": [
        "x_1 = tf.constant([\n",
        "    [1, 2, 0],\n",
        "])\n",
        "\n",
        "x_2 = tf.constant([\n",
        "    [1, 2, 0, 2],\n",
        "    [3, 5, -1, 2],\n",
        "    [4, 5, 6, 0]\n",
        "])\n",
        "print(x_1.shape, x_2.shape)\n",
        "\n",
        "#zarb\n",
        "tf.linalg.matmul(\n",
        "    x_1, x_2, transpose_a=False, transpose_b=False, adjoint_a=False, adjoint_b=False, a_is_sparse=False, b_is_sparse=False, output_type=None, name=None\n",
        ")"
      ],
      "metadata": {
        "colab": {
          "base_uri": "https://localhost:8080/"
        },
        "id": "P6hseGoISVOB",
        "outputId": "a469e628-28ff-4dd1-de7d-042eb5aeedfd"
      },
      "execution_count": 59,
      "outputs": [
        {
          "output_type": "stream",
          "name": "stdout",
          "text": [
            "(1, 3) (3, 4)\n"
          ]
        },
        {
          "output_type": "execute_result",
          "data": {
            "text/plain": [
              "<tf.Tensor: shape=(1, 4), dtype=int32, numpy=array([[ 7, 12, -2,  6]], dtype=int32)>"
            ]
          },
          "metadata": {},
          "execution_count": 59
        }
      ]
    },
    {
      "cell_type": "code",
      "source": [
        "print(x_1@x_2)\n",
        "x_1@x_2"
      ],
      "metadata": {
        "colab": {
          "base_uri": "https://localhost:8080/"
        },
        "id": "5QFHN1kcSrN4",
        "outputId": "0ddde63e-ce49-470d-fe0f-b94e5997f93a"
      },
      "execution_count": 62,
      "outputs": [
        {
          "output_type": "stream",
          "name": "stdout",
          "text": [
            "tf.Tensor([[ 7 12 -2  6]], shape=(1, 4), dtype=int32)\n"
          ]
        },
        {
          "output_type": "execute_result",
          "data": {
            "text/plain": [
              "<tf.Tensor: shape=(1, 4), dtype=int32, numpy=array([[ 7, 12, -2,  6]], dtype=int32)>"
            ]
          },
          "metadata": {},
          "execution_count": 62
        }
      ]
    }
  ]
}