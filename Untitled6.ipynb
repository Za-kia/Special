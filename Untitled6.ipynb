{
 "cells": [
  {
   "cell_type": "code",
   "execution_count": 2,
   "id": "203a8483",
   "metadata": {},
   "outputs": [],
   "source": [
    "import tensorflow as tf\n",
    "\n",
    "tensor_two_d_m_n=tf.constant([\n",
    "                              [1,-1,-2],\n",
    "                              [1,0,-1],\n",
    "                              [2,1,0],\n",
    "                              [3,2,1]\n",
    "                              ],dtype=tf.float16)\n",
    "\n",
    "\n",
    "tensor_two_d_n_m=tf.constant([\n",
    "                              [0,1,2],\n",
    "                              [-1,0,1],\n",
    "                              [-2,-1,0],\n",
    "                              [-3,-2,-1]\n",
    "                              ],dtype=tf.float16)\n",
    "\n",
    "### (m-n<= lower) and (n-m<= upper)\n",
    "### m=0 , n=0   ---> tensor_two_d(0, 0)=1\n",
    "### m=0 , n=1 and m=1 , n=0 condition not true   ---> tensor_two_d(0, 1)=0"
   ]
  },
  {
   "cell_type": "code",
   "execution_count": null,
   "id": "6a105676",
   "metadata": {},
   "outputs": [],
   "source": []
  }
 ],
 "metadata": {
  "kernelspec": {
   "display_name": "Python 3 (ipykernel)",
   "language": "python",
   "name": "python3"
  },
  "language_info": {
   "codemirror_mode": {
    "name": "ipython",
    "version": 3
   },
   "file_extension": ".py",
   "mimetype": "text/x-python",
   "name": "python",
   "nbconvert_exporter": "python",
   "pygments_lexer": "ipython3",
   "version": "3.10.12"
  }
 },
 "nbformat": 4,
 "nbformat_minor": 5
}
